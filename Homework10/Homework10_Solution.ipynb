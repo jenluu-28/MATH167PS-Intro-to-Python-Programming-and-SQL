{
 "cells": [
  {
   "cell_type": "markdown",
   "metadata": {
    "nbgrader": {
     "grade": false,
     "grade_id": "cell-13b6f13920352efb",
     "locked": true,
     "schema_version": 3,
     "solution": false,
     "task": false
    },
    "slideshow": {
     "slide_type": "slide"
    }
   },
   "source": [
    "# Solution for Homework 10\n",
    "\n",
    "In this assignment, we're working with SQL. In particular, we'll be working with the SAKILA database. This database contains transactions from a fictional chain of DVD rental stores. You can find the files you need to install the SAKILA database [here](https://dev.mysql.com/doc/index-other.html). Click on the `zip` option for the SAKILA database. Unzip the directory you downloaded. \n",
    "\n",
    "To create the database on the MySQL server on your machine:\n",
    "\n",
    "1. Save the files `sakila-schema.sql` and `sakila-data.sql` from the unzipped directory under some path on your machine, say under \"MyPath/sakila-schema.sql\"\n",
    "2. Log on to MySQL as root and run the following commands (I'm assuming that 'user' is an existing user that you have previously created). \n",
    "\n",
    "```\n",
    "CREATE DATABASE Sakila;\n",
    "GRANT ALL PRIVILEGES ON Sakila.* to 'user'@'localhost';\n",
    "USE Sakila;\n",
    "SOURCE MyPath/sakila-schema.sql;\n",
    "SOURCE MyPath/sakila-data.sql;\n",
    "QUIT;\n",
    "```\n",
    "\n",
    "3. Then log on as the user and change the database to Sakila. \n",
    "\n",
    "```\n",
    "USE Sakila;\n",
    "```\n",
    "\n",
    "You can find an ER-schema of the Sakila database on Canvas. "
   ]
  },
  {
   "cell_type": "markdown",
   "metadata": {
    "nbgrader": {
     "grade": false,
     "grade_id": "cell-5adb555110fcd268",
     "locked": true,
     "schema_version": 3,
     "solution": false,
     "task": false
    }
   },
   "source": [
    "For some of the problems below you are asked to show the SQL code which you would run in order to find the answer to a specific question. You can show both the SQL code and your answer to the question in a Markdown cell. Note, that you should be able to write down the SQL code, even if you were not able to install MySQL or the Sakila database on your machine. You *do not* have to include the output you get from MySQL for these types of questions. \n",
    "\n",
    "**Example Question:** How many different languages can you find in the `language` table? \n",
    "\n",
    "**Example Answer:**\n",
    "\n",
    "SQL code: \n",
    "```SELECT * from language;``` \n",
    "\n",
    "Answer: 6 different languages. \n",
    "\n",
    "For other problems, you will be asked to obtain data and then do something with those data in python. You will only be able to complete these problems, if you were able to install MySQL and download the Sakila database. If you still need help with installing MySQL, ask me as soon as possible. I will not be available for \"tech help\" on the day this homework is due. "
   ]
  },
  {
   "cell_type": "markdown",
   "metadata": {
    "nbgrader": {
     "grade": false,
     "grade_id": "cell-244d094e3fa3d94c",
     "locked": true,
     "schema_version": 3,
     "solution": false,
     "task": false
    }
   },
   "source": [
    "### Problem 1\n",
    "\n",
    "Describe the `Rental` table. How many columns does that table have? How many entries are in the table? What is the primary key of the `Rental` table? How is it generated? "
   ]
  },
  {
   "cell_type": "markdown",
   "metadata": {
    "nbgrader": {
     "grade": true,
     "grade_id": "cell-dc0d7817fba267d9",
     "locked": false,
     "points": 3,
     "schema_version": 3,
     "solution": true,
     "task": false
    }
   },
   "source": [
    "SQL Code: ```DESC Rental;``` and ```SELECT * FROM Rental;```\n",
    "\n",
    "Answer: There are 7 variables (columns) and 16,045 rows (different rental transactions). The primary key is `rental_id`.  It is automatically generated with the auto-increment procedure. \n",
    "\n",
    "The data types of the ten columns are listed below. \n",
    "\n",
    "\n",
    "| Field        | Type                  | Null | Key | Default           | Extra                                         |\n",
    "|---|---|---|---|---|---|\n",
    "| rental_id    | int(11)               | NO   | PRI | NULL              | auto_increment                                |\n",
    "| rental_date  | datetime              | NO   | MUL | NULL              |                                               |\n",
    "| inventory_id | mediumint(8) unsigned | NO   | MUL | NULL              |                                               |\n",
    "| customer_id  | smallint(5) unsigned  | NO   | MUL | NULL              |                                               |\n",
    "| return_date  | datetime              | YES  |     | NULL              |                                               |\n",
    "| staff_id     | tinyint(3) unsigned   | NO   | MUL | NULL              |                                               |\n",
    "| last_update  | timestamp             | NO   |     | CURRENT_TIMESTAMP | DEFAULT_GENERATED on update CURRENT_TIMESTAMP |\n",
    "\n"
   ]
  },
  {
   "cell_type": "markdown",
   "metadata": {},
   "source": [
    "### Problem 2\n",
    "\n",
    "What are the variable types of the variables `staff_id`, `customer_id`, and `rental_id` in the `Rental` table, respectively? Why is it useful or necessary to use these different variable types for these three variables? Why can't they all be stored as tinyint's for example? "
   ]
  },
  {
   "cell_type": "markdown",
   "metadata": {
    "nbgrader": {
     "grade": true,
     "grade_id": "cell-0444b4f6f923a575",
     "locked": false,
     "points": 3,
     "schema_version": 3,
     "solution": true,
     "task": false
    }
   },
   "source": [
    "The variable types of `staff_id`, `customer_id`, and `rental_id` are tinyint, smallint, and int. They differ by how large the integer values can be that can be stored under these variables. There are only two different \"employees\" in this fake database (staff_id 1 and 2) and hence we can get away with tiny integers. However, there are 599 customers (which is more than the max of 255 which can be stored in a tinyint format). And there are a little over 16k rental transactions. While the latter would have (just barely) fitted in mediumint format, the int-format gives the database room to \"grow\" and record future transactions. "
   ]
  },
  {
   "cell_type": "markdown",
   "metadata": {
    "nbgrader": {
     "grade": false,
     "grade_id": "cell-ce28e85e08ef66db",
     "locked": true,
     "schema_version": 3,
     "solution": false,
     "task": false
    }
   },
   "source": [
    "### Problem 3\n",
    "\n",
    "Provide the SQL code with which you would update the `Actor` table with a new row that has your own first and last name. The command for today's date in SQL is `NOW()`. \n",
    "\n",
    "Then provide the SQL code with which you would remove all rows with your name (first and last) from the actors table. "
   ]
  },
  {
   "cell_type": "markdown",
   "metadata": {
    "nbgrader": {
     "grade": true,
     "grade_id": "cell-4d7778cc0656873e",
     "locked": false,
     "points": 4,
     "schema_version": 3,
     "solution": true,
     "task": false
    }
   },
   "source": [
    "SQL code:\n",
    "\n",
    "```\n",
    "INSERT INTO actor  \n",
    "    (actor_id, first_name, last_name, last_update) \n",
    "    VALUES (null, 'Martina', 'Bremer', NOW());\n",
    "\n",
    "DELETE FROM actor\n",
    "WHERE first_name='Martina' AND last_name = 'Bremer';\n",
    "```\n"
   ]
  },
  {
   "cell_type": "markdown",
   "metadata": {
    "nbgrader": {
     "grade": false,
     "grade_id": "cell-b98f0f4cdda22109",
     "locked": true,
     "schema_version": 3,
     "solution": false,
     "task": false
    }
   },
   "source": [
    "### Problem 4\n",
    "\n",
    "(a) Use Python to extract the columns `staff_id`, `amount`, and `payment_date` from the `Payment` table. \n",
    "Store these data in a Pandas data frame and display the data frame to the console for the grader to see."
   ]
  },
  {
   "cell_type": "code",
   "execution_count": 104,
   "metadata": {
    "nbgrader": {
     "grade": true,
     "grade_id": "cell-050eafc94bd47578",
     "locked": false,
     "points": 5,
     "schema_version": 3,
     "solution": true,
     "task": false
    }
   },
   "outputs": [
    {
     "data": {
      "text/html": [
       "<div>\n",
       "<style scoped>\n",
       "    .dataframe tbody tr th:only-of-type {\n",
       "        vertical-align: middle;\n",
       "    }\n",
       "\n",
       "    .dataframe tbody tr th {\n",
       "        vertical-align: top;\n",
       "    }\n",
       "\n",
       "    .dataframe thead th {\n",
       "        text-align: right;\n",
       "    }\n",
       "</style>\n",
       "<table border=\"1\" class=\"dataframe\">\n",
       "  <thead>\n",
       "    <tr style=\"text-align: right;\">\n",
       "      <th></th>\n",
       "      <th>staff</th>\n",
       "      <th>amount</th>\n",
       "      <th>date</th>\n",
       "    </tr>\n",
       "  </thead>\n",
       "  <tbody>\n",
       "    <tr>\n",
       "      <th>0</th>\n",
       "      <td>1</td>\n",
       "      <td>2.99</td>\n",
       "      <td>2005-05-24 22:53:30</td>\n",
       "    </tr>\n",
       "    <tr>\n",
       "      <th>1</th>\n",
       "      <td>2</td>\n",
       "      <td>2.99</td>\n",
       "      <td>2005-05-24 22:54:33</td>\n",
       "    </tr>\n",
       "    <tr>\n",
       "      <th>2</th>\n",
       "      <td>2</td>\n",
       "      <td>3.99</td>\n",
       "      <td>2005-05-24 23:03:39</td>\n",
       "    </tr>\n",
       "    <tr>\n",
       "      <th>3</th>\n",
       "      <td>1</td>\n",
       "      <td>4.99</td>\n",
       "      <td>2005-05-24 23:04:41</td>\n",
       "    </tr>\n",
       "    <tr>\n",
       "      <th>4</th>\n",
       "      <td>1</td>\n",
       "      <td>6.99</td>\n",
       "      <td>2005-05-24 23:05:21</td>\n",
       "    </tr>\n",
       "    <tr>\n",
       "      <th>...</th>\n",
       "      <td>...</td>\n",
       "      <td>...</td>\n",
       "      <td>...</td>\n",
       "    </tr>\n",
       "    <tr>\n",
       "      <th>16044</th>\n",
       "      <td>1</td>\n",
       "      <td>0.99</td>\n",
       "      <td>2006-02-14 15:16:03</td>\n",
       "    </tr>\n",
       "    <tr>\n",
       "      <th>16045</th>\n",
       "      <td>2</td>\n",
       "      <td>2.99</td>\n",
       "      <td>2006-02-14 15:16:03</td>\n",
       "    </tr>\n",
       "    <tr>\n",
       "      <th>16046</th>\n",
       "      <td>2</td>\n",
       "      <td>0.99</td>\n",
       "      <td>2006-02-14 15:16:03</td>\n",
       "    </tr>\n",
       "    <tr>\n",
       "      <th>16047</th>\n",
       "      <td>1</td>\n",
       "      <td>0.99</td>\n",
       "      <td>2006-02-14 15:16:03</td>\n",
       "    </tr>\n",
       "    <tr>\n",
       "      <th>16048</th>\n",
       "      <td>1</td>\n",
       "      <td>4.99</td>\n",
       "      <td>2006-02-14 15:16:03</td>\n",
       "    </tr>\n",
       "  </tbody>\n",
       "</table>\n",
       "<p>16049 rows × 3 columns</p>\n",
       "</div>"
      ],
      "text/plain": [
       "       staff amount                date\n",
       "0          1   2.99 2005-05-24 22:53:30\n",
       "1          2   2.99 2005-05-24 22:54:33\n",
       "2          2   3.99 2005-05-24 23:03:39\n",
       "3          1   4.99 2005-05-24 23:04:41\n",
       "4          1   6.99 2005-05-24 23:05:21\n",
       "...      ...    ...                 ...\n",
       "16044      1   0.99 2006-02-14 15:16:03\n",
       "16045      2   2.99 2006-02-14 15:16:03\n",
       "16046      2   0.99 2006-02-14 15:16:03\n",
       "16047      1   0.99 2006-02-14 15:16:03\n",
       "16048      1   4.99 2006-02-14 15:16:03\n",
       "\n",
       "[16049 rows x 3 columns]"
      ]
     },
     "execution_count": 104,
     "metadata": {},
     "output_type": "execute_result"
    }
   ],
   "source": [
    "import mysql.connector\n",
    "import pandas as pd\n",
    "\n",
    "cnx = mysql.connector.connect(user='Martina', database='Sakila', \n",
    "                              host='localhost' ,password = 'password')  # connect with config-user details\n",
    "cursor = cnx.cursor()                   \n",
    "\n",
    "cursor.execute(\"\"\"SELECT staff_id, amount, payment_date FROM Payment ORDER BY payment_date\"\"\")    \n",
    "        # extract three columns from payment table\n",
    "        # Note, the ordering by date is not mandatory...\n",
    "\n",
    "results = cursor.fetchall()             # fetching the description of the person table\n",
    "\n",
    "df = pd.DataFrame(results, columns = ['staff', 'amount', 'date'])\n",
    "\n",
    "cursor.close() \n",
    "cnx.close()\n",
    "\n",
    "df"
   ]
  },
  {
   "cell_type": "markdown",
   "metadata": {
    "nbgrader": {
     "grade": false,
     "grade_id": "cell-96f9e625934464af",
     "locked": true,
     "schema_version": 3,
     "solution": false,
     "task": false
    }
   },
   "source": [
    "(b) For the dataframe created in (a), take the date values and use either string formating or the `pd.DatetimeIndex()` method  to extract just the month and the year of the transaction. Store both in separate columns of the data frame. \n",
    "\n",
    "Use groupby to find the total monthly transaction amounts, separately for each employee. \n",
    "\n",
    "Use Matplotlib to create a line-plot that shows the total transaction amount per employee per month as a function of time. Label the x-axis with the appropriate month/year combination and include one line per employee. Include a legend to indicate which line belongs to which employee. You can find an image on Canvas with an example of what your graph should look like. "
   ]
  },
  {
   "cell_type": "code",
   "execution_count": 105,
   "metadata": {
    "nbgrader": {
     "grade": true,
     "grade_id": "cell-853bdbab963973b8",
     "locked": false,
     "points": 5,
     "schema_version": 3,
     "solution": true,
     "task": false
    }
   },
   "outputs": [
    {
     "data": {
      "image/png": "[encoded data removed]",
      "text/plain": [
       "<Figure size 432x288 with 1 Axes>"
      ]
     },
     "metadata": {
      "needs_background": "light"
     },
     "output_type": "display_data"
    }
   ],
   "source": [
    "import matplotlib.pyplot as plt\n",
    "\n",
    "df_new = df.copy()\n",
    "\n",
    "df_new['Month'] = pd.DatetimeIndex(df_new['date']).month\n",
    "df_new['Year'] = pd.DatetimeIndex(df_new['date']).year\n",
    "\n",
    "df_new.drop(['date'], axis = 1)\n",
    "\n",
    "df_new = df_new.groupby(['Year', 'Month', 'staff']).sum().unstack(-1)\n",
    "df_new.reset_index(inplace = True)\n",
    "\n",
    "df_new['date'] = df_new.Year.astype(str) + \"-\" + df_new.Month.astype(str)\n",
    "\n",
    "fig, ax = plt.subplots()\n",
    "for staff in range(1,3):\n",
    "    ax.plot(df_new.date, df_new.amount[staff], label = \"staff \" + str(staff))\n",
    "    \n",
    "ax.set_ylabel(\"Total monthly amount in \\$\")\n",
    "ax.set_xlabel(\"Month\")\n",
    "ax.legend(); \n",
    "\n",
    "#fig.savefig('Sakila_lineplot.png')"
   ]
  }
 ],
 "metadata": {
  "celltoolbar": "Create Assignment",
  "kernelspec": {
   "display_name": "Python 3",
   "language": "python",
   "name": "python3"
  },
  "language_info": {
   "codemirror_mode": {
    "name": "ipython",
    "version": 3
   },
   "file_extension": ".py",
   "mimetype": "text/x-python",
   "name": "python",
   "nbconvert_exporter": "python",
   "pygments_lexer": "ipython3",
   "version": "3.8.5"
  }
 },
 "nbformat": 4,
 "nbformat_minor": 2
}
