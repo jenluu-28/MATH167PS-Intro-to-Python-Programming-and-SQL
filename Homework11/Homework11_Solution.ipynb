{
 "cells": [
  {
   "cell_type": "markdown",
   "metadata": {
    "nbgrader": {
     "grade": false,
     "grade_id": "cell-13b6f13920352efb",
     "locked": true,
     "schema_version": 3,
     "solution": false,
     "task": false
    }
   },
   "source": [
    "# Solution for Homework 11\n",
    "\n",
    "In this assignment, we're continuing to work with the Sakila database that you installed for your previous Homework assignment. The database contains records of a ficticious chain of DVD video rental stores. Remember, that an ER diagram of the Sakila database is provided on the Homework page on Canvas. \n",
    "\n",
    "Log on to the database as a user who has proviledges to the database. Type \n",
    "\n",
    "```\n",
    "USE Sakila;\n",
    "```\n",
    "\n",
    "**Note:** If you were unable to install MySQL on your machine, you should still be able to write down the SQL code that you would need to run the queries. "
   ]
  },
  {
   "cell_type": "markdown",
   "metadata": {
    "nbgrader": {
     "grade": false,
     "grade_id": "cell-06f923b7ef392460",
     "locked": true,
     "schema_version": 3,
     "solution": false,
     "task": false
    }
   },
   "source": [
    "Shown below is how I would like you to format your answers for this assignment: Show the SQL code that you are using to find the answer and state the answer to each question. Both of these can be done in a Markdown cell. You *do not* have to write code using python connector.\n",
    "\n",
    "**Example Question:** How many different countries are represented in the country table? \n",
    "\n",
    "**Example Answer:**\n",
    "\n",
    "SQL code: \n",
    "\n",
    "```DESC country;``` (to learn what the variables are called - or look at the ER diagram.).\n",
    "\n",
    "```SELECT DISTINCT country FROM country;```\n",
    "\n",
    "Answer: 109 different countries"
   ]
  },
  {
   "cell_type": "markdown",
   "metadata": {
    "nbgrader": {
     "grade": false,
     "grade_id": "cell-244d094e3fa3d94c",
     "locked": true,
     "schema_version": 3,
     "solution": false,
     "task": false
    }
   },
   "source": [
    "### Problem 1\n",
    "\n",
    "Find the full names (first name and last name) of all customers whose name begins with 'Ed'. Display them in a table. "
   ]
  },
  {
   "cell_type": "markdown",
   "metadata": {
    "nbgrader": {
     "grade": true,
     "grade_id": "cell-dc0d7817fba267d9",
     "locked": false,
     "points": 4,
     "schema_version": 3,
     "solution": true,
     "task": false
    }
   },
   "source": [
    "SQL code:\n",
    "\n",
    "```\n",
    "SELECT first_name, last_name \n",
    "    FROM customer\n",
    "    WHERE first_name LIKE '%ED%';\n",
    "```\n",
    "\n",
    "Answer:\n",
    "\n",
    "| first_name | last_name |\n",
    "|:-- | :--|\n",
    "| EDNA       | WEST      |\n",
    "| EDITH      | MCDONALD  |\n",
    "| EDWARD     | BAUGH     |\n",
    "| EDWIN      | BURK      |\n",
    "| EDDIE      | TOMLIN    |\n",
    "| EDGAR      | RHOADS    |\n",
    "| EDUARDO    | HIATT     |"
   ]
  },
  {
   "cell_type": "markdown",
   "metadata": {},
   "source": [
    "### Problem 2\n",
    "\n",
    "If the film titles are ordered alphabetically, which three movies come alphabetically first? "
   ]
  },
  {
   "cell_type": "markdown",
   "metadata": {
    "nbgrader": {
     "grade": true,
     "grade_id": "cell-0444b4f6f923a575",
     "locked": false,
     "points": 4,
     "schema_version": 3,
     "solution": true,
     "task": false
    }
   },
   "source": [
    "SQL syntax:\n",
    "\n",
    "```\n",
    "SELECT title FROM film ORDER BY title LIMIT 3;\n",
    "```\n",
    "\n",
    "Answer:\n",
    "\n",
    "Note, the films are already ordered alphabetically in the film table, which means that the `ORDER BY` statement could be omitted. \n",
    "\n",
    "| title                       |\n",
    "|:--|\n",
    "| ACADEMY DINOSAUR            |\n",
    "| ACE GOLDFINGER              |\n",
    "| ADAPTATION HOLES            |"
   ]
  },
  {
   "cell_type": "markdown",
   "metadata": {
    "nbgrader": {
     "grade": false,
     "grade_id": "cell-ce28e85e08ef66db",
     "locked": true,
     "schema_version": 3,
     "solution": false,
     "task": false
    }
   },
   "source": [
    "### Problem 3\n",
    "\n",
    "Produce a table of film titles, rental rates, ratings, and movie categories (by name, not by id number) for all G-rated Sci-Fi films. "
   ]
  },
  {
   "cell_type": "markdown",
   "metadata": {
    "nbgrader": {
     "grade": true,
     "grade_id": "cell-4d7778cc0656873e",
     "locked": false,
     "points": 4,
     "schema_version": 3,
     "solution": true,
     "task": false
    }
   },
   "source": [
    "SQL syntax:\n",
    "\n",
    "```\n",
    "SELECT f.title AS title, f.rental_rate AS rate, f.rating AS rating, c.name AS category \n",
    "    FROM film AS f\n",
    "    JOIN film_category AS fc \n",
    "    ON f.film_id = fc.film_id\n",
    "    JOIN category AS c\n",
    "    ON fc.category_id = c.category_id\n",
    "    WHERE c.name = 'Sci-Fi' AND f.rating = 'G';\n",
    "```\n",
    "\n",
    "Answer:\n",
    "\n",
    "| title                | rate | rating | category |\n",
    "| :-- | :-- | :-- | :-- |\n",
    "| ANNIE IDENTITY       | 0.99 | G      | Sci-Fi   |\n",
    "| ARMAGEDDON LOST      | 0.99 | G      | Sci-Fi   |\n",
    "| BARBARELLA STREETCAR | 2.99 | G      | Sci-Fi   |\n",
    "| CHEAPER CLYDE        | 0.99 | G      | Sci-Fi   |\n",
    "| CITIZEN SHREK        | 0.99 | G      | Sci-Fi   |\n",
    "| COLDBLOODED DARLING  | 4.99 | G      | Sci-Fi   |\n",
    "| DAISY MENAGERIE      | 4.99 | G      | Sci-Fi   |\n",
    "| GARDEN ISLAND        | 4.99 | G      | Sci-Fi   |\n",
    "| MARRIED GO           | 2.99 | G      | Sci-Fi   |\n",
    "| SUICIDES SILENCE     | 4.99 | G      | Sci-Fi   |"
   ]
  },
  {
   "cell_type": "markdown",
   "metadata": {
    "nbgrader": {
     "grade": false,
     "grade_id": "cell-b98f0f4cdda22109",
     "locked": true,
     "schema_version": 3,
     "solution": false,
     "task": false
    }
   },
   "source": [
    "### Problem 4\n",
    "\n",
    "Some of the actors in the actor table have the same last names. Produce a table of last names of actors and counts of how many actors have that same last name (your table should have exactly the two columns \"last_name\" and \"count\").  Order the table first by counts in decreasing order and then alphabetically by last name and only display last names for cases where at least three actors share the same last name. "
   ]
  },
  {
   "cell_type": "markdown",
   "metadata": {
    "nbgrader": {
     "grade": true,
     "grade_id": "cell-050eafc94bd47578",
     "locked": false,
     "points": 4,
     "schema_version": 3,
     "solution": true,
     "task": false
    }
   },
   "source": [
    "SQL syntax:\n",
    "\n",
    "```\n",
    "SELECT last_name, COUNT(*) AS 'count'  \n",
    "    FROM actor \n",
    "    GROUP BY last_name \n",
    "    HAVING count(*) >=3 \n",
    "    ORDER BY count(*) DESC, last name;\n",
    "```\n",
    "\n",
    "Answer:\n",
    "\n",
    "| last_name | count |\n",
    "|:-- | :--|\n",
    "| KILMER    |     5 |\n",
    "| NOLTE     |     4 |\n",
    "| TEMPLE    |     4 |\n",
    "| AKROYD    |     3 |\n",
    "| ALLEN     |     3 |\n",
    "| BERRY     |     3 |\n",
    "| DAVIS     |     3 |\n",
    "| DEGENERES |     3 |\n",
    "| GARLAND   |     3 |\n",
    "| GUINESS   |     3 |\n",
    "| HARRIS    |     3 |\n",
    "| HOFFMAN   |     3 |\n",
    "| HOPKINS   |     3 |\n",
    "| JOHANSSON |     3 |\n",
    "| KEITEL    |     3 |\n",
    "| PECK      |     3 |\n",
    "| TORN      |     3 |\n",
    "| WILLIAMS  |     3 |\n",
    "| WILLIS    |     3 |\n",
    "| ZELLWEGER |     3 |"
   ]
  },
  {
   "cell_type": "markdown",
   "metadata": {
    "nbgrader": {
     "grade": false,
     "grade_id": "cell-67208fd461701212",
     "locked": true,
     "schema_version": 3,
     "solution": false,
     "task": false
    }
   },
   "source": [
    "### Problem 5\n",
    "\n",
    "Write SQL code to return the count of the number of copies of the film 'WESTWARD SEABISCUIT' that are in the inventory. Your return table should have just one line (I don't want to have to pick out the answer out of a large table manually). "
   ]
  },
  {
   "cell_type": "markdown",
   "metadata": {
    "nbgrader": {
     "grade": true,
     "grade_id": "cell-af67d0fadd0cfdd7",
     "locked": false,
     "points": 4,
     "schema_version": 3,
     "solution": true,
     "task": false
    }
   },
   "source": [
    "SQL syntax:\n",
    "\n",
    "```\n",
    "SELECT f.title, COUNT(*) AS count\n",
    "    FROM film AS f\n",
    "    JOIN inventory as i\n",
    "    ON f.film_id = i.film_id\n",
    "    GROUP BY f.title\n",
    "    HAVING f.title = 'WESTWARD SEABISCUIT';\n",
    "```  \n",
    "\n",
    "Answer:\n",
    "\n",
    "| title               | count |\n",
    "|:-- |:-- |\n",
    "| WESTWARD SEABISCUIT |     7 |"
   ]
  }
 ],
 "metadata": {
  "kernelspec": {
   "display_name": "Python 3",
   "language": "python",
   "name": "python3"
  },
  "language_info": {
   "codemirror_mode": {
    "name": "ipython",
    "version": 3
   },
   "file_extension": ".py",
   "mimetype": "text/x-python",
   "name": "python",
   "nbconvert_exporter": "python",
   "pygments_lexer": "ipython3",
   "version": "3.8.5"
  }
 },
 "nbformat": 4,
 "nbformat_minor": 2
}
