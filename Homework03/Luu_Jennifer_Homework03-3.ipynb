{
 "cells": [
  {
   "cell_type": "markdown",
   "metadata": {},
   "source": [
    "Before you turn this homework in, make sure everything runs as expected. First, **restart the kernel** (in the menubar, select Kernel$\\rightarrow$Restart) and then **run all cells** (in the menubar, select Cell$\\rightarrow$Run All). If you get error messages, the grader will get the same errors and won't be able to grade your work. \n",
    "\n",
    "Make sure you fill in any place that says `YOUR CODE HERE` or \"YOUR ANSWER HERE\". You may delete the line(s) that say \"**raise** NotImplementedError()\" and replace them with your actual work. Write all your work in the cells provided in this notebook. **DO NOT** add or delete any cells. \n",
    "\n",
    "Please fill in your name in the cell below."
   ]
  },
  {
   "cell_type": "code",
   "execution_count": 1,
   "metadata": {},
   "outputs": [],
   "source": [
    "NAME = \"Jennifer Luu\""
   ]
  },
  {
   "cell_type": "markdown",
   "metadata": {},
   "source": [
    "---"
   ]
  },
  {
   "cell_type": "markdown",
   "metadata": {
    "deletable": false,
    "editable": false,
    "nbgrader": {
     "cell_type": "markdown",
     "checksum": "098c36b77de8ef1e5216536e42e36b11",
     "grade": false,
     "grade_id": "cell-a6f3f12388a2e526",
     "locked": true,
     "schema_version": 3,
     "solution": false,
     "task": false
    }
   },
   "source": [
    "# Homework 3\n",
    "\n",
    "In all problems below, please comment your code sufficiently well so that the grader can follow what you are doing with ease. For non-coding answers, please make sure to formulate your explanation and answers in the form of complete English sentences. "
   ]
  },
  {
   "cell_type": "markdown",
   "metadata": {
    "deletable": false,
    "editable": false,
    "nbgrader": {
     "cell_type": "markdown",
     "checksum": "589cca31ff23aea3d29ee8c01fd43094",
     "grade": false,
     "grade_id": "cell-ef495698be86d216",
     "locked": true,
     "schema_version": 3,
     "solution": false,
     "task": false
    }
   },
   "source": [
    "## Problem 1 (a)\n",
    "\n",
    "Use the code given below to create a sequence of n Bernoulli trials with success probabilty p per trial. In a Bernoulli trial, a 1 counts as a success. A string of consecutive successes is known as a success run. Write a function (named \"count_runs\") that takes the sequence of Bernoulli trials as its input and returns the counts for runs of length k for each k observed in a dictionary.\n",
    "\n",
    "Example: n=13 Bernoulli trials [0, 1, 0, 1, 0, 0, 0, 1, 0, 1, 1, 0, 0] were simulated with p=0.5. There are 3 runs of length k=1, and 1 run of length k=2. Hence, your code should return {1:3, 2:1}."
   ]
  },
  {
   "cell_type": "code",
   "execution_count": 9,
   "metadata": {
    "deletable": false,
    "nbgrader": {
     "cell_type": "code",
     "checksum": "4e42a67ee6137a0a937cbbb51596835f",
     "grade": true,
     "grade_id": "cell-631ba149fea50a1d",
     "locked": false,
     "points": 3,
     "schema_version": 3,
     "solution": true,
     "task": false
    }
   },
   "outputs": [
    {
     "name": "stdout",
     "output_type": "stream",
     "text": [
      "[0, 1, 0, 1, 0, 0, 0, 1, 0, 1, 1, 0, 0]\n"
     ]
    },
    {
     "data": {
      "text/plain": [
       "{1: 3, 2: 1}"
      ]
     },
     "execution_count": 9,
     "metadata": {},
     "output_type": "execute_result"
    }
   ],
   "source": [
    "import random\n",
    "\n",
    "random.seed(10)\n",
    "n=13\n",
    "p=0.5\n",
    "\n",
    "seq = random.choices([1, 0],[p,1-p],k=n) # create sequence of n Bernoulli trials\n",
    "print(seq)\n",
    "\n",
    "def run_counts(seq):  \n",
    "    \n",
    "   # YOUR CODE HERE\n",
    "    counts_dict = {} #initialize empty dictionary\n",
    "    increment = 0 #amount to iterate to the next index\n",
    "    \n",
    "    for i in range(len(seq)): \n",
    "        if increment !=0: #check for amount to iterate\n",
    "            increment = increment-1 #after each iteration, decrement the amount to iterate\n",
    "            continue #go back to the for loop\n",
    "            \n",
    "            \n",
    "        elif seq[i]==0: #if the current value is 0, there is nothing to do\n",
    "            continue \n",
    "            \n",
    "            \n",
    "        elif seq[i]==1:\n",
    "            length = 1 #start of a successive run once the current value is 1\n",
    "            \n",
    "            for j in range(i+1, len(seq)): #look for another 1 in the next position\n",
    "                if seq[j]!=0: \n",
    "                    length = length + 1 #increment the length if there is a 1\n",
    "                    increment = length #set the amount to increment the loop to the same as the length of the run\n",
    "                else: \n",
    "                    break\n",
    "                    \n",
    "            counts_dict[length] = counts_dict.get(length, 0) + 1 #add the number of k successive runs in the dictionary\n",
    "\n",
    "    return counts_dict\n",
    "\n",
    "run_counts(seq)"
   ]
  },
  {
   "cell_type": "markdown",
   "metadata": {},
   "source": [
    "## Problem 1 (b)\n",
    "\n",
    "Continuing with the Bernoulli trials from the previous problem. We want to numerically estimate the probability to have at least one run of length 5 or longer for n=100 and p=0.5. Write code to estimate this probability and report your result in form of a print statement. "
   ]
  },
  {
   "cell_type": "code",
   "execution_count": 15,
   "metadata": {
    "deletable": false,
    "nbgrader": {
     "cell_type": "code",
     "checksum": "407480936517661c7dcdf426b73d74a3",
     "grade": true,
     "grade_id": "cell-24926ec4f814a84e",
     "locked": false,
     "points": 2,
     "schema_version": 3,
     "solution": true,
     "task": false
    }
   },
   "outputs": [
    {
     "name": "stdout",
     "output_type": "stream",
     "text": [
      "[0, 1, 0, 0, 0, 0, 1, 0, 1, 1, 1, 0, 0, 0, 1, 1, 1, 1, 0, 0, 1, 1, 0, 0, 1, 0, 1, 1, 0, 0, 1, 1, 0, 0, 0, 1, 1, 1, 1, 0, 0, 1, 1, 0, 1, 1, 0, 1, 0, 1, 0, 0, 1, 0, 0, 0, 1, 1, 0, 0, 1, 0, 0, 1, 0, 1, 1, 0, 1, 1, 0, 0, 0, 0, 1, 1, 0, 1, 1, 1, 0, 1, 0, 0, 0, 0, 1, 1, 0, 0, 1, 1, 1, 1, 0, 1, 1, 1, 1, 0]\n",
      "{1: 9, 3: 2, 4: 4, 2: 10}\n",
      "The probability to have at least one run at length 5 or longer for n=100 and p=0.5 is: 0.0\n"
     ]
    }
   ],
   "source": [
    "# YOUR CODE HERE\n",
    "import random \n",
    "random.seed(120)\n",
    "\n",
    "\n",
    "\n",
    "n = 100\n",
    "p = 0.5 \n",
    "seq = random.choices([1, 0],[p,1-p],k=n)\n",
    "print(seq)\n",
    "outcomes = run_counts(seq) #create 100 bernoulli trials\n",
    "                            #using the function from 1a, store the number of k successive runs in a dictionary     \n",
    "print(outcomes)\n",
    "successes = sum([values for (keys,values) in outcomes.items() if keys >= 5])  #count the number of successes in the \n",
    "                                                                                #dictionary by looking for keys >=5\n",
    "\n",
    "\n",
    "print(\"The probability to have at least one run at length 5 or longer for n=100 and p=0.5 is:\", successes/n)\n",
    "#divide the number of successes by the total number of trials to get probability"
   ]
  },
  {
   "cell_type": "markdown",
   "metadata": {},
   "source": [
    "## Problem 1 (c) \n",
    "\n",
    "What is more likely - to see at least one run of length 5 or longer in 100 trials with p=0.5 or to see at least one run of length 7 or longer in 100 trials with p=0.7? Explain how you come to your conclusion. "
   ]
  },
  {
   "cell_type": "code",
   "execution_count": 14,
   "metadata": {
    "deletable": false,
    "nbgrader": {
     "cell_type": "code",
     "checksum": "74de881dc19949c9c9bc2b18279272ed",
     "grade": true,
     "grade_id": "cell-99194fcbaaef3c27",
     "locked": false,
     "points": 0,
     "schema_version": 3,
     "solution": true,
     "task": false
    }
   },
   "outputs": [
    {
     "name": "stdout",
     "output_type": "stream",
     "text": [
      "{2: 8, 1: 6, 3: 2, 8: 2, 4: 3, 5: 1, 10: 1}\n",
      "3\n",
      "The probability to have at least one run at length 7 or longer for n=100 and p=0.7 is: 0.03\n"
     ]
    }
   ],
   "source": [
    "# YOUR CODE HERE\n",
    "import random \n",
    "random.seed(120)\n",
    "n = 100\n",
    "p = 0.7 \n",
    "seq = random.choices([1, 0],[p,1-p],k=n)\n",
    "outcomes = run_counts(seq) #create 100 bernoulli trials \n",
    "                           #using the functoin from 1a, store the number of k successive runs in a dictionary\n",
    "\n",
    "    \n",
    "print(outcomes) # look at the dictionary\n",
    "successes = sum([values for (keys,values) in outcomes.items() if keys >= 7]) #count the number of successes in the \n",
    "                                                                            #dictionary by looking for keys >=7\n",
    "print(successes)\n",
    "\n",
    "print(\"The probability to have at least one run at length 7 or longer for n=100 and p=0.7 is:\", successes/n)\n",
    "#divide the number of successes by the total number of trials to get probability\n"
   ]
  },
  {
   "cell_type": "markdown",
   "metadata": {
    "deletable": false,
    "nbgrader": {
     "cell_type": "markdown",
     "checksum": "335885b3f09c9e33f11a5d56bd805f00",
     "grade": true,
     "grade_id": "cell-2d53817c1f1588a8",
     "locked": false,
     "points": 1,
     "schema_version": 3,
     "solution": true,
     "task": false
    }
   },
   "source": [
    "We assume that both simulations use the same random.seed(10) and the same function from 1a. \n",
    "\n",
    "Based on the two simulations, it is more likely to see at least one run of length 7 or longer with n = 100 and p = 0.7 than at least one run of length 5 or longer with n = 100 and p = 0.5.\n",
    "\n",
    "In Part 1(b), the estimated probability to see at least one run of length 5 is 0.02. In Part 1(c) the estimated probability to see at least one run of length 7 is 0.03. Therefore, the latter is slightly more likely with the given conditions."
   ]
  },
  {
   "cell_type": "markdown",
   "metadata": {},
   "source": [
    "## Problem 2\n",
    "\n",
    "A stick of length 1 is broken randomly along its length into two pieces. This means that the break point is a Uniform(0,1) random variable. What is the probability that the longer piece is more than twice as long as the shorter piece? \n",
    "\n",
    "a) Write a simulation that approximates the answer to this problem. \n",
    "\n",
    "**Note:** you should *not* use your knowledge of the theoretical answer in your simulation. That defies the purpose of a simulation. Simulate a uniform random variable to represent the break-point, instead. And actually compare the length of the \"pieces\" in your code. "
   ]
  },
  {
   "cell_type": "code",
   "execution_count": 7,
   "metadata": {
    "deletable": false,
    "nbgrader": {
     "cell_type": "code",
     "checksum": "2a26662c77d2156cb8c0b346fad36736",
     "grade": true,
     "grade_id": "cell-eedec05f0fd650d1",
     "locked": false,
     "points": 3,
     "schema_version": 3,
     "solution": true,
     "task": false
    }
   },
   "outputs": [
    {
     "name": "stdout",
     "output_type": "stream",
     "text": [
      "The probability that the longer piece is more than 2x as \n",
      "long as the shorter piece is  0.6691\n"
     ]
    }
   ],
   "source": [
    "# YOUR CODE HERE\n",
    "import random \n",
    "random.seed(10)\n",
    "\n",
    "\n",
    "n = 100000\n",
    "outcomes = [] #empty list to store outcomes as booleans\n",
    "\n",
    "for i in range(n): #loop through n iterations\n",
    "    \n",
    "    breaking_point = random.uniform(0,1) #generate breaking point\n",
    "\n",
    "    long_stick = max(1-breaking_point, breaking_point) #decide which is the long and short stick\n",
    "    short_stick = min(1-breaking_point, breaking_point)\n",
    "  \n",
    "    \n",
    "    outcomes.append(long_stick > (short_stick)*2) #check if longer stick is \n",
    "                                                # twice as long as the short \n",
    "                                                # stick and collect outcomes\n",
    "    \n",
    "successes = outcomes.count(True) #count the successes\n",
    "\n",
    "\n",
    "prob = successes/n\n",
    "print(\"The probability that the longer piece is more than 2x as \\nlong as the shorter piece is \", prob)"
   ]
  },
  {
   "cell_type": "markdown",
   "metadata": {},
   "source": [
    "b) Find the actual theoretical answer (using your Math 161A probability knowledge). Provide a short explanation for how you derive your answer. "
   ]
  },
  {
   "cell_type": "markdown",
   "metadata": {
    "deletable": false,
    "nbgrader": {
     "cell_type": "markdown",
     "checksum": "4f72778b5d34c1d86ae5e27a469c1271",
     "grade": true,
     "grade_id": "cell-b03e8954539eddc8",
     "locked": false,
     "points": 1,
     "schema_version": 3,
     "solution": true,
     "task": false
    }
   },
   "source": [
    "The actual theoretical probability would be $\\frac{2}{3}$ or rounded to 0.667. There are 3 partitions for the stick at each checkpoint of $\\frac{1}{3}$. The minimum length in order for the long stick to be twice as long as the short stick is $\\frac{2}{3}$. \n",
    "\n",
    "Since this is a uniform distribution, the cumulative probability of getting a breaking point x of $\\frac{2}{3}$ is $\\frac{\\frac{2}{3}-0}{1-0}$, where a = 0 and b = 1. This simplifies to the probability = $\\frac{2}{3}$."
   ]
  },
  {
   "cell_type": "markdown",
   "metadata": {},
   "source": [
    "## Problem 3\n",
    "\n",
    "Use the random package to simulate rolling five fair, six-sided dice. We'll call the result a \"full house\" if two and three of the dice, respectively show the same face. Example: 2,4,2,4,4 is a full house. 5,5,5,5,5 is not a full house. "
   ]
  },
  {
   "cell_type": "markdown",
   "metadata": {},
   "source": [
    "(a) Using your Math 161A knowledge, find the theoretical probability of obtaining a \"full house\", when rolling five fair, six-sided dice. Show your work in deriving your answer. \n",
    "\n",
    "Hint: Latex notation for combinations is \"\\binom{n}{k}\" to produce $\\binom{n}{k}$. Wrap Latex math code in dollar symbols (\\$) to compile it. "
   ]
  },
  {
   "cell_type": "markdown",
   "metadata": {
    "deletable": false,
    "nbgrader": {
     "cell_type": "markdown",
     "checksum": "d042f94106a51cb2732a7421a35c0a26",
     "grade": true,
     "grade_id": "cell-c185f3c9fb9b3cb9",
     "locked": false,
     "points": 1,
     "schema_version": 3,
     "solution": true,
     "task": false
    }
   },
   "source": [
    "Since there are 5 dice, we have 5 slots. Each slot has 6 possible outcomes. When rolling all of the 5 dice, the total number of outcomes is $6^5$ = 7776 outcomes.\n",
    "\n",
    "The number of choices to choose for the first face is 6, while the second face is 5. Order also matters in this scenario since 1,2,1,2,2 is different from 2,2,2,1,1. The number of ways we can arrange 3 of one number or 2 of one number is  $\\binom{5}{2}$ = 10. Multply (10)(5)(6) = 300 to get the total number of ways to get a full house with 5 dice in one roll. \n",
    "\n",
    "Putting this all together, the theoretical probability of obtaining a \"full house\" is 300/7776, which is approximately 3.858%."
   ]
  },
  {
   "cell_type": "markdown",
   "metadata": {
    "deletable": false,
    "editable": false,
    "nbgrader": {
     "cell_type": "markdown",
     "checksum": "d4327f90af13ada71714e397c5883b9f",
     "grade": false,
     "grade_id": "cell-55038c0b55e4c0df",
     "locked": true,
     "schema_version": 3,
     "solution": false,
     "task": false
    }
   },
   "source": [
    "(b) Write a function (named \"count_rolls()\") that takes the result of simulating rolling five fair, six-sided dice and returns a dictionary that keeps track of how often each number appeared.\n",
    "\n",
    "Example: If the rolls were 4,3,4,2,5 then your dictionary could be {4: 2, 3: 1, 2: 1, 5: 1}. I do not care about the order in which the keys appear in the dictionary. An equally good answer would be {2:1, 3:1, 4:2, 5:1}, for example."
   ]
  },
  {
   "cell_type": "code",
   "execution_count": 2,
   "metadata": {
    "deletable": false,
    "nbgrader": {
     "cell_type": "code",
     "checksum": "a47001dde5dd1655b3926052c8b44db0",
     "grade": true,
     "grade_id": "cell-358bc28873f8d117",
     "locked": false,
     "points": 3,
     "schema_version": 3,
     "solution": true,
     "task": false
    }
   },
   "outputs": [
    {
     "name": "stdout",
     "output_type": "stream",
     "text": [
      "[4, 3, 4, 2, 5]\n"
     ]
    },
    {
     "data": {
      "text/plain": [
       "{4: 2, 3: 1, 2: 1, 5: 1}"
      ]
     },
     "execution_count": 2,
     "metadata": {},
     "output_type": "execute_result"
    }
   ],
   "source": [
    "import random \n",
    "random.seed(10)\n",
    "\n",
    "result = random.choices(range(1,7),[1]*6,k=5) # simulate five die rolls\n",
    "print(result)                                 # look at the rolls (feel free to delete later)\n",
    "\n",
    "\n",
    "def count_rolls(result):\n",
    "    \n",
    "# YOUR CODE HERE\n",
    "    freq = {} #create empty dictionary\n",
    "    for face in result: #cycle through the list for the outcomes of the 5 dice\n",
    "        freq[face] = freq.get(face,0)+1 #count the frequencies \n",
    "    return freq\n",
    "\n",
    "count_rolls(result)\n",
    "        "
   ]
  },
  {
   "cell_type": "markdown",
   "metadata": {
    "deletable": false,
    "editable": false,
    "nbgrader": {
     "cell_type": "markdown",
     "checksum": "eb042ea898d11edb5379a92295e4716c",
     "grade": false,
     "grade_id": "cell-e9fd447349b1283c",
     "locked": true,
     "schema_version": 3,
     "solution": false,
     "task": false
    }
   },
   "source": [
    "(c) Simulate rolling five fair, six-sided dice n=10,000 times. Use your simulation results to estimate the probability of a full house. "
   ]
  },
  {
   "cell_type": "code",
   "execution_count": 4,
   "metadata": {
    "deletable": false,
    "nbgrader": {
     "cell_type": "code",
     "checksum": "05595adc738739079beb44254c2786fe",
     "grade": true,
     "grade_id": "cell-deb5efb0ac393d4d",
     "locked": false,
     "points": 3,
     "schema_version": 3,
     "solution": true,
     "task": false
    }
   },
   "outputs": [
    {
     "name": "stdout",
     "output_type": "stream",
     "text": [
      "The probability of rolling a full house with five fair, six-sided dice with n= 100000 times is  0.03827\n"
     ]
    }
   ],
   "source": [
    "# YOUR CODE HERE\n",
    "import random \n",
    "random.seed(12)\n",
    "\n",
    "\n",
    "n=100000\n",
    "success = 0  #initialize counter for successes aka a full house\n",
    "for i in range(n): #iterate n times\n",
    "    result = random.choices(range(1,7),[1]*6,k=5) #generate random outcomes for 5 dice\n",
    "    result_dict = count_rolls(result) #save the dictionary\n",
    "  \n",
    "   \n",
    "    \n",
    "    if 2 in result_dict.values() and 3 in result_dict.values(): #check if the dict has values of both 2 and 3\n",
    "                                                                #that means there is two of a kind and 3 of a kind = full house\n",
    "        success= success + 1 #if yes, add to the success\n",
    "    else:\n",
    "        continue\n",
    "        \n",
    "#divide the number of successes by the total sample size to get estimated probability \n",
    "print(\"The probability of rolling a full house with five fair, six-sided dice with n=\",n, \"times is \", success/n) \n",
    "\n"
   ]
  },
  {
   "cell_type": "markdown",
   "metadata": {
    "deletable": false,
    "editable": false,
    "nbgrader": {
     "cell_type": "markdown",
     "checksum": "cb87aee6fabfafcb6a6e20fab941b042",
     "grade": false,
     "grade_id": "cell-e042be5229002282",
     "locked": true,
     "schema_version": 3,
     "solution": false,
     "task": false
    }
   },
   "source": [
    "## Problem 4\n",
    "\n",
    "Recall the first in-class practice problem from 02/08/2021. Take user input of a date in the form xx/xx/xxxx and return a statement that tells the user whether or not that date is a palindrome. \n",
    "\n",
    "Example: 12/02/2021 reads the same forward and backward and is thus a palindrome date. 01/13/1978 is not a palindrome date (since it does not read the same backwards and forwards). \n",
    "\n",
    "The code below does not work as intended (based on the comments). Describe what the code does that is not intended. Find out and explain *why* this code does not work. Be as specific as you can in your explanation. How could the code be minimally modified to make it work? (Minimally modified means that you leave as much as possible of the original code and make the smallest adjustment you can that will make the code run as intended. Rewriting the whole program from scratch is not a minimal modification). "
   ]
  },
  {
   "cell_type": "code",
   "execution_count": 8,
   "metadata": {
    "deletable": false,
    "editable": false,
    "nbgrader": {
     "cell_type": "code",
     "checksum": "0bc8436de65d514b7eaff0bd4a232492",
     "grade": false,
     "grade_id": "cell-df926812685b4223",
     "locked": true,
     "schema_version": 3,
     "solution": false,
     "task": false
    }
   },
   "outputs": [
    {
     "name": "stdout",
     "output_type": "stream",
     "text": [
      "Please enter a date in form xx/xx/xxxx: 02/23/12\n",
      "your date is a palindrome\n"
     ]
    }
   ],
   "source": [
    "a = input(\"Please enter a date in form xx/xx/xxxx: \") \n",
    "                          # gather user input of date as string\n",
    "a = a.replace(\"/\",\"\")     # remove slashes from string\n",
    "b=c=list(a)               # make string into list and make two copies of the list\n",
    "b.reverse()               # reverse the order of elements in list b\n",
    "if (b==c):                # compare lists b and c and print out appropriate statement\n",
    "    print(\"your date is a palindrome\")\n",
    "else:\n",
    "    print(\"your date is not a palindrome\")"
   ]
  },
  {
   "cell_type": "markdown",
   "metadata": {
    "deletable": false,
    "nbgrader": {
     "cell_type": "markdown",
     "checksum": "38d89f8e7570a9afb01d3a8df3bd73bc",
     "grade": true,
     "grade_id": "cell-dd42b7bd4db6d1fa",
     "locked": false,
     "points": 2,
     "schema_version": 3,
     "solution": true,
     "task": false
    }
   },
   "source": [
    "The code does not currently work because the output will always return \"your date is a palindrome\" regardless if the date is actually a palindrome or not. The mistake is in the line \"b=c=list(a).\"\n",
    "\n",
    "I assume that the user intended to only reverse the order of b and compare it to the original order of c. However, list c also changes when the program calls b.reverse(). When the program assigns \"b=c=list(a)\", b and c point to each other because the \"=\" operator does not make a shallow copy; it only creates a pointer. \n",
    "\n",
    "The list c changes in accordance to list b when b.reverse() is called. As a result, the content that b and c point to are the same. Therefore, the program cannot compare the reverse order of the date to the original order. So the output will always say, \"your date is a palindrome.\""
   ]
  },
  {
   "cell_type": "code",
   "execution_count": 9,
   "metadata": {
    "deletable": false,
    "nbgrader": {
     "cell_type": "code",
     "checksum": "3d43195aee6eb3c8ccb1d4195049151f",
     "grade": true,
     "grade_id": "cell-cef7a84a26987043",
     "locked": false,
     "points": 1,
     "schema_version": 3,
     "solution": true,
     "task": false
    }
   },
   "outputs": [
    {
     "name": "stdout",
     "output_type": "stream",
     "text": [
      "Please enter a date in the form xx/xx/xxxx: 02/23/12\n",
      "your date is not a palindrome\n"
     ]
    }
   ],
   "source": [
    "# YOUR CODE HERE\n",
    "a = input(\"Please enter a date in the form xx/xx/xxxx: \") #keep original code\n",
    "a = a.replace(\"/\", \"\") #keep original code\n",
    "\n",
    "b=c=list(a) #keep original code\n",
    "\n",
    "if (b[::-1]==c): #this doesn't actually change b. it only returns a new copy of b in reverse order. check with original order\n",
    "                #of c\n",
    "    print(\"your date is a palindrome\")\n",
    "else:\n",
    "    print(\"your date is not a palindrome\")\n"
   ]
  }
 ],
 "metadata": {
  "kernelspec": {
   "display_name": "Python 3",
   "language": "python",
   "name": "python3"
  },
  "language_info": {
   "codemirror_mode": {
    "name": "ipython",
    "version": 3
   },
   "file_extension": ".py",
   "mimetype": "text/x-python",
   "name": "python",
   "nbconvert_exporter": "python",
   "pygments_lexer": "ipython3",
   "version": "3.8.5"
  }
 },
 "nbformat": 4,
 "nbformat_minor": 2
}
