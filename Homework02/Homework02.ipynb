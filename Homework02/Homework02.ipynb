{
 "cells": [
  {
   "cell_type": "markdown",
   "metadata": {},
   "source": [
    "Before you turn this homework in, make sure everything runs as expected. First, **restart the kernel** (in the menubar, select Kernel$\\rightarrow$Restart) and then **run all cells** (in the menubar, select Cell$\\rightarrow$Run All). If you get error messages, the grader will get the same errors and won't be able to grade your work. \n",
    "\n",
    "Make sure you fill in any place that says `YOUR CODE HERE` or \"YOUR ANSWER HERE\". You may delete the line(s) that say \"**raise** NotImplementedError()\" and replace them with your actual work. Write all your work in the cells provided in this notebook. **DO NOT** add or delete any cells. \n",
    "\n",
    "Please fill in your name in the cell below."
   ]
  },
  {
   "cell_type": "code",
   "execution_count": 1,
   "metadata": {},
   "outputs": [],
   "source": [
    "NAME = \"Jennifer Luu\""
   ]
  },
  {
   "cell_type": "markdown",
   "metadata": {},
   "source": [
    "---"
   ]
  },
  {
   "cell_type": "markdown",
   "metadata": {
    "deletable": false,
    "editable": false,
    "nbgrader": {
     "cell_type": "markdown",
     "checksum": "042792fc94aa7066a6642df5b972e12c",
     "grade": false,
     "grade_id": "cell-a6f3f12388a2e526",
     "locked": true,
     "schema_version": 3,
     "solution": false,
     "task": false
    }
   },
   "source": [
    "# Homework 2\n",
    "\n",
    "**Remarks:** In some of the problems below, you may want to use if/else statements or for-loops. An if/else statement in Python has the following syntax:\n",
    "\n",
    "```\n",
    "if (Boolean_statement):\n",
    "    code block 1\n",
    "else:\n",
    "    code block 2\n",
    "```\n",
    "\n",
    "If the Boolean statement is True, the Python will execute code block 1. Otherwise code block 2 will be executed. \n",
    "\n",
    "A for loop in Python can have the following syntax:\n",
    "\n",
    "``` \n",
    "for i in range(n):\n",
    "    code\n",
    "```   \n",
    "Where code is executed repeatedly for i=0,...,n-1. \n",
    "\n",
    "In all problems below, please make sure to comment your code sufficiently well so that the grader can follow what you are doing with ease. "
   ]
  },
  {
   "cell_type": "markdown",
   "metadata": {
    "deletable": false,
    "editable": false,
    "nbgrader": {
     "cell_type": "markdown",
     "checksum": "be86bc8a60e53fc9bbac53a9b93519a8",
     "grade": false,
     "grade_id": "cell-ef495698be86d216",
     "locked": true,
     "schema_version": 3,
     "solution": false,
     "task": false
    }
   },
   "source": [
    "## Problem 1\n",
    "\n",
    "Given a list x of numbers, complete the Python code below so that your code produces the sum of all elements up to the first zero in the list. \n",
    "\n",
    "Example: If the list is x=[2,3,5,1,1,2,0,5,9,0,8,4,3,2] then your code should return 14.\n",
    "Your code should work, even if I change the list x. Obviously, then the code might produce a different answer. "
   ]
  },
  {
   "cell_type": "code",
   "execution_count": 2,
   "metadata": {
    "deletable": false,
    "nbgrader": {
     "cell_type": "code",
     "checksum": "609a8f2f833a6f515214262897a9d66f",
     "grade": true,
     "grade_id": "cell-631ba149fea50a1d",
     "locked": false,
     "points": 2,
     "schema_version": 3,
     "solution": true,
     "task": false
    }
   },
   "outputs": [
    {
     "name": "stdout",
     "output_type": "stream",
     "text": [
      "14\n"
     ]
    }
   ],
   "source": [
    "x=[2,3,5,1,1,2,0,5,9,0,8,4,3,2]\n",
    "\n",
    "# YOUR CODE HERE\n",
    "sum = 0 #initialize empty value for sum\n",
    "i = 0 #initialize index at position 0\n",
    "while x[i]!= 0:  #while the ith position in the list is not 0\n",
    "    sum = sum + x[i] #add to sum\n",
    "    i = i+1 #increment index\n",
    "else:\n",
    "    print(sum)\n",
    "\n",
    "  "
   ]
  },
  {
   "cell_type": "markdown",
   "metadata": {
    "deletable": false,
    "editable": false,
    "nbgrader": {
     "cell_type": "markdown",
     "checksum": "ed8c286faedc20a08e8ff3b7c3a44ebd",
     "grade": false,
     "grade_id": "cell-432173397f4b26ab",
     "locked": true,
     "schema_version": 3,
     "solution": false,
     "task": false
    }
   },
   "source": [
    "## Problem 2\n",
    "\n",
    "Ask the user to input a string. Then swap the cases of the letters in the string. That is, make what's currently lower-case upper-case and vice-versa. Leave non-character elements the same. Print out the case-swapped string. \n",
    "\n",
    "Example: If the input is \"Happy CODING!\" then the output should be \"hAPPY coding!\""
   ]
  },
  {
   "cell_type": "code",
   "execution_count": 3,
   "metadata": {
    "deletable": false,
    "nbgrader": {
     "cell_type": "code",
     "checksum": "ee1d8d434aad407e3035adc635cc2b49",
     "grade": true,
     "grade_id": "cell-bc49b385c82b4c2a",
     "locked": false,
     "points": 4,
     "schema_version": 3,
     "solution": true,
     "task": false
    }
   },
   "outputs": [
    {
     "name": "stdout",
     "output_type": "stream",
     "text": [
      "Please input a string: weewhooOO\n",
      "WEEWHOOoo\n"
     ]
    }
   ],
   "source": [
    "# YOUR CODE HERE\n",
    "words = input(\"Please input a string: \") \n",
    "\n",
    "n = len(words)\n",
    "new_words = \"\" #initialize an empty new string \n",
    "\n",
    "for i in range(n):\n",
    "    if words[i].islower()==True: #check if the ith letter is lowercase \n",
    "        new_words = new_words + words[i].upper() #if true, change to uppercase\n",
    "    elif words[i].isupper()==True: #check if the ith letter is uppercase\n",
    "        new_words = new_words + words[i].lower() #if true, change to lowercase\n",
    "    else: #case for punctuation \n",
    "        new_words = new_words + words[i] #just add the same punctuation \n",
    "        \n",
    "print(new_words)\n",
    "\n"
   ]
  },
  {
   "cell_type": "markdown",
   "metadata": {
    "deletable": false,
    "editable": false,
    "nbgrader": {
     "cell_type": "markdown",
     "checksum": "714a7b707ffca871b8e29e3ea84da4ef",
     "grade": false,
     "grade_id": "cell-7a07a53e4b1ccec4",
     "locked": true,
     "schema_version": 3,
     "solution": false,
     "task": false
    }
   },
   "source": [
    "## Problem 3\n",
    "\n",
    "Ask the user to input two names. Write code to output the letters that appear in both names, capitalized in alphabetical order. \n",
    "\n",
    "Example: Entering Lisa and Nina should return AI"
   ]
  },
  {
   "cell_type": "code",
   "execution_count": 4,
   "metadata": {
    "deletable": false,
    "nbgrader": {
     "cell_type": "code",
     "checksum": "859d1a214758ee71f1c305f87d577c0b",
     "grade": true,
     "grade_id": "cell-1c008267775e6d65",
     "locked": false,
     "points": 4,
     "schema_version": 3,
     "solution": true,
     "task": false
    }
   },
   "outputs": [
    {
     "name": "stdout",
     "output_type": "stream",
     "text": [
      "Please input the first name: Jen\n",
      "Please input the second name: Man\n",
      "N\n"
     ]
    }
   ],
   "source": [
    "# YOUR CODE HERE\n",
    "name1 = list(set(input(\"Please input the first name: \").upper()))\n",
    "        #put letters in set to remove duplicate, then put in list to be \n",
    "        #iterable\n",
    "name2 = input(\"Please input the second name: \").upper()\n",
    "\n",
    "common_letters_list=[] #initialize empty list to store common letters\n",
    "    \n",
    "\n",
    "n = len(name1)\n",
    "\n",
    "for i in range(n): #iterate through unique letters in name 1\n",
    "    if name1[i] in name2: #check for common letters in name 2\n",
    "        common_letters_list.append(name1[i]) #if true, then add the unique letter to the list \n",
    "        \n",
    "common_letters = \"\".join(sorted(common_letters_list)) #condense list\n",
    "\n",
    "if len(common_letters) > 0: #if there are no common letters\n",
    "    print(common_letters)\n",
    "else:\n",
    "    print(\"There are no common letters in the names.\")\n",
    "\n",
    "\n"
   ]
  },
  {
   "cell_type": "markdown",
   "metadata": {
    "deletable": false,
    "editable": false,
    "nbgrader": {
     "cell_type": "markdown",
     "checksum": "d6c9b75d1ea75a4c9dc18c5ca7e0b6e1",
     "grade": false,
     "grade_id": "cell-a0600661f6082e7c",
     "locked": true,
     "schema_version": 3,
     "solution": false,
     "task": false
    }
   },
   "source": [
    "## Problem 4\n",
    "\n",
    "A palindrome is a word or a phrase that reads the same forwards as backwards. Ask the user to input a string. Disregard capitalization, punctuation or spaces. Then output a message that tells the user whether or not the string they provided is a palindrome. \n",
    "\n",
    "Examples of palindrome words or phrases: the name \"Otto\", the prase \"Never odd or even\"."
   ]
  },
  {
   "cell_type": "code",
   "execution_count": 5,
   "metadata": {
    "deletable": false,
    "nbgrader": {
     "cell_type": "code",
     "checksum": "2c2aac216c93388592b74bed85653d6c",
     "grade": true,
     "grade_id": "cell-cc4b6a0071177f26",
     "locked": false,
     "points": 4,
     "schema_version": 3,
     "solution": true,
     "task": false
    }
   },
   "outputs": [
    {
     "name": "stdout",
     "output_type": "stream",
     "text": [
      "Please input a string: lolol\n",
      "Your string is a palindrome!\n"
     ]
    }
   ],
   "source": [
    "# YOUR CODE HERE\n",
    "words = input(\"Please input a string: \").lower() #lowercase the input to disregard capitalizatoin\n",
    "\n",
    "#in the following: remove punctuation or spaces\n",
    "words = words.replace(\".\", \"\")\n",
    "words = words.replace(\"?\", \"\")\n",
    "words = words.replace(\"-\", \"\")\n",
    "words = words.replace(\" \", \"\")\n",
    "words = words.replace(\"\\'\", \"\")\n",
    "words = words.replace(\"\\\"\", \"\")\n",
    "words = words.replace(\"!\", \"\")\n",
    "\n",
    "\n",
    "backwards_words = words[::-1] #reverse the order of the input \n",
    "\n",
    "if words==backwards_words: #check if the original order of the input matches the reverse order \n",
    "    print(\"Your string is a palindrome!\")\n",
    "else:\n",
    "    print(\"Your string is not a palindrome!\")\n",
    "        \n",
    "\n"
   ]
  },
  {
   "cell_type": "markdown",
   "metadata": {
    "deletable": false,
    "editable": false,
    "nbgrader": {
     "cell_type": "markdown",
     "checksum": "47c8543a42cf1d8a7e7362b268a1a2ed",
     "grade": false,
     "grade_id": "cell-cdb4c72e9c1a60da",
     "locked": true,
     "schema_version": 3,
     "solution": false,
     "task": false
    }
   },
   "source": [
    "## Problem 5\n",
    "\n",
    "We want to use random numbers to estimate the value of $\\pi$. Consider a unit circle (that is a circle around the origin of radius 1) and consider the smallest square with sides parallel to the axes that contains that circle. Write code below to generate n random vectors that are uniformly distributed over the area of the square.  \n",
    "\n",
    "Hint: Recall, that a circle of radius $r$ has area $\\pi r^2$. What is the area of the smallest square  with sides parallel to the axes that contains the unit circle? What is the probability that a random variable distributed randomly on this square lands in the unit circle?\n",
    "\n",
    "Use your simulated random vectors to estimate the value of $\\pi$ for different values of n. Explain (in the Form of complete English sentences) how your code works: what are you counting and why is it reasonable to use this count as an estimate for $\\pi$? Make sure to comment your code well enough so that a reader can follow the steps in your description and find each one reflected in the code. \n",
    "\n",
    "Your code should ask the user to input the value of n and output a formatted statement that reads: \n",
    "\"For n=_______ iterations, the estimate of the pi is _______\" where both blanks should be filled in with meaningful values derived from your code. \n",
    "\n",
    "Hint: To repeat the same task n times in Python you could use a for-loop. See top for general syntax. \n",
    "\n",
    "Describe your program/algorithm here."
   ]
  },
  {
   "cell_type": "markdown",
   "metadata": {
    "deletable": false,
    "nbgrader": {
     "cell_type": "markdown",
     "checksum": "43894cd2fda4ab72391312c33f9040b8",
     "grade": true,
     "grade_id": "cell-a7e254d6006f7c51",
     "locked": false,
     "points": 3,
     "schema_version": 3,
     "solution": true,
     "task": false
    }
   },
   "source": [
    "The area of the smallest square with sides parallel to the axes that contains the unit circle is 4 units squared. Since a unit circle has radius 1 and is centered around the origin, that means the coordinates of the square are (-1,-1), (-1,1), (1,1), and (1,-1). That means the length = 2 and base = 2, so the area is (2)(2) = 4. The probability that a random variable lands in the unit circle is the # of coordinates in the circle divided by the total # of coordinates. \n",
    "\n",
    "In the code, I wrote a for loop with n iterations. In each iteration, I generated a coordinate with x and y values that are uniformly distributed over the area of the square (-1,1). For each xy pair, to determine if it landed in the unit circle, I computed the distance. Since the radius of the unit circle is 1, I counted each simulation as a success if the distance of the xy pair was less than 1. \n",
    "\n",
    "The formula for the area of a circle is (pi)(r^2). The ratio of the area of the unit circle to the area of the square is ((pi*(r^2))/4. Since r = 1, I can simplify this to just pi/4. I equated this equation to probability that a random vector lands in the circle, which can be computed by the number of successes divded by the total number of simulations. The formula for pi can be rearranged to pi = ((number of successes)*4)/(total).\n",
    "\n",
    "This is a reasonable way to estimate the pi because as n gets large/goes to infinity, pi will converge. "
   ]
  },
  {
   "cell_type": "code",
   "execution_count": 6,
   "metadata": {
    "deletable": false,
    "nbgrader": {
     "cell_type": "code",
     "checksum": "1dba8f9c5f67202d6423c4565ca656b2",
     "grade": true,
     "grade_id": "cell-4465b86fd7df34aa",
     "locked": false,
     "points": 3,
     "schema_version": 3,
     "solution": true,
     "task": false
    }
   },
   "outputs": [
    {
     "name": "stdout",
     "output_type": "stream",
     "text": [
      "Please specify the number of n iteratons: 1000\n",
      "For n = 1000 iterations, the estimate of the pi is 3.164\n"
     ]
    }
   ],
   "source": [
    "# YOUR CODE HERE\n",
    "import random as random\n",
    "import math as math\n",
    "random.seed(12) #set seed so that the \"random\" simulation can be reproducible \n",
    "\n",
    "n = int(input(\"Please specify the number of n iteratons: \")) #convert input to an integer value for loop\n",
    "success = 0 #initialize count of successes\n",
    "\n",
    "for i in range(n):\n",
    "    x = random.uniform(-1,1) #generate random x value\n",
    "    y = random.uniform(-1,1) #generate random y value\n",
    "    if math.sqrt(x**2+y**2) < 1: #compute the distance and check if d < 1 (the radius of the circle)\n",
    "        success = success + 1 #increment the success counter by 1 if the condition above is true\n",
    "\n",
    "pi_hat = 4*(success/n) #estimate pi by multiplying 4 (the area of the square) and the probability that a random vector \n",
    "                       #lands in the circle\n",
    "\n",
    "print(\"For n =\", n, \"iterations, the estimate of the pi is\", pi_hat) \n"
   ]
  }
 ],
 "metadata": {
  "kernelspec": {
   "display_name": "Python 3",
   "language": "python",
   "name": "python3"
  },
  "language_info": {
   "codemirror_mode": {
    "name": "ipython",
    "version": 3
   },
   "file_extension": ".py",
   "mimetype": "text/x-python",
   "name": "python",
   "nbconvert_exporter": "python",
   "pygments_lexer": "ipython3",
   "version": "3.8.5"
  }
 },
 "nbformat": 4,
 "nbformat_minor": 2
}
