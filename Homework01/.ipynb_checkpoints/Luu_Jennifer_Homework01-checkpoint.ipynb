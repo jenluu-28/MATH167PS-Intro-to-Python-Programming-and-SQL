{
 "cells": [
  {
   "cell_type": "markdown",
   "metadata": {},
   "source": [
    "Before you turn this homework in, make sure everything runs as expected. First, **restart the kernel** (in the menubar, select Kernel$\\rightarrow$Restart) and then **run all cells** (in the menubar, select Cell$\\rightarrow$Run All). If you get error messages, the grader will get the same errors and won't be able to grade your work. \n",
    "\n",
    "Make sure you fill in any place that says `YOUR CODE HERE` or \"YOUR ANSWER HERE\". You may delete the line(s) that say \"**raise** NotImplementedError()\" and replace them with your actual work. Write all your work in the cells provided in this notebook. **DO NOT** add or delete any cells. \n",
    "\n",
    "Please fill in your name in the cell below."
   ]
  },
  {
   "cell_type": "code",
   "execution_count": 1,
   "metadata": {},
   "outputs": [],
   "source": [
    "NAME = \"Jennifer Luu\""
   ]
  },
  {
   "cell_type": "markdown",
   "metadata": {},
   "source": [
    "---"
   ]
  },
  {
   "cell_type": "markdown",
   "metadata": {
    "deletable": false,
    "editable": false,
    "nbgrader": {
     "cell_type": "markdown",
     "checksum": "85f97d44322ffa112115254f82ebff03",
     "grade": false,
     "grade_id": "cell-ef495698be86d216",
     "locked": true,
     "schema_version": 3,
     "solution": false,
     "task": false
    }
   },
   "source": [
    "## Problem 1\n",
    "\n",
    "The file \"Temp.txt\" which you can download from the homework tab on Canvas, contains the monthly high-temperatures (in degrees Celsius) at Heathrow airport for the years 1948 through 2016. Save the file on your computer (in a folder that you can find again). Run the code below, changing the path to the appropriate path on **your** computer. It's ok to use forward slashes in the path name, regardless of whether you're working on Windows or MacOS. "
   ]
  },
  {
   "cell_type": "code",
   "execution_count": 2,
   "metadata": {},
   "outputs": [],
   "source": [
    "temperatures = []\n",
    "\n",
    "from pathlib import Path\n",
    "\n",
    "data_folder = Path(\"/Users/Jen/Documents/Math 167PS/Homework/Homework01\") \n",
    "# make sure to change this path to the actual folder where \n",
    "# YOU have saved the data file. \n",
    "\n",
    "file_to_open = data_folder / \"Temp.txt\"\n",
    "\n",
    "f = open(file_to_open)\n",
    "\n",
    "for row in f:\n",
    "    temperatures.append(float(row))\n",
    "    \n"
   ]
  },
  {
   "cell_type": "markdown",
   "metadata": {
    "deletable": false,
    "editable": false,
    "nbgrader": {
     "cell_type": "markdown",
     "checksum": "1d1522bf42b7da9ed3e21d95a4199ff4",
     "grade": false,
     "grade_id": "cell-90600cd732395818",
     "locked": true,
     "schema_version": 3,
     "solution": false,
     "task": false
    }
   },
   "source": [
    "You have now created an object called temperatures. \n",
    "\n",
    "Answer the following questions by inserting your code into the code box (replacing the \"# your code here\" prompt) and answering the question in the form of a complete English sentence in the respective Markdown box. \n",
    "\n",
    "a) What kind of object type is \"temperatures\"?"
   ]
  },
  {
   "cell_type": "code",
   "execution_count": 3,
   "metadata": {
    "deletable": false,
    "nbgrader": {
     "cell_type": "code",
     "checksum": "c3f47727e253fd45b2b27e363771f4dd",
     "grade": true,
     "grade_id": "cell-1274844462a16520",
     "locked": false,
     "points": 1,
     "schema_version": 3,
     "solution": true,
     "task": false
    }
   },
   "outputs": [
    {
     "name": "stdout",
     "output_type": "stream",
     "text": [
      "[8.9, 7.9, 14.2, 15.4, 18.1, 19.1, 21.7, 20.8, 19.6, 14.9, 10.8, 8.8, 8.5, 10.4, 9.3, 16.2, 17.1, 22.0, 25.1, 23.9, 22.8, 17.0, 10.2, 9.2, 7.1, 9.9, 12.3, 12.9, 17.2, 23.6, 21.6, 21.9, 17.6, 14.0, 9.3, 3.8, 7.3, 7.0, 8.4, 12.3, 15.0, 20.5, 23.0, 20.2, 19.2, 14.6, 11.8, 8.9, 6.2, 6.7, 10.6, 15.6, 19.6, 20.9, 23.3, 21.6, 16.4, 13.2, 7.5, 5.8, 5.6, 7.5, 11.1, 13.1, 18.7, 19.8, 21.0, 22.6, 19.5, 14.7, 11.3, 10.0, 5.9, 6.1, 10.4, 13.2, 16.8, 18.6, 19.2, 19.8, 18.0, 16.2, 11.2, 9.7, 5.6, 5.0, 7.9, 15.2, 15.5, 20.0, 24.4, 24.3, 19.9, 13.5, 10.7, 9.5, 7.0, 2.9, 11.0, 12.1, 19.1, 18.5, 20.9, 18.8, 19.2, 13.8, 9.3, 8.2, 8.7, 9.0, 13.9, 14.2, 16.2, 23.6, 22.5, 21.1, 17.6, 15.5, 9.4, 7.6, 6.8, 8.9, 8.1, 12.3, 17.3, 19.4, 21.7, 20.8, 20.0, 14.9, 9.7, 8.0, 5.7, 7.4, 11.9, 14.2, 18.7, 22.1, 24.7, 24.2, 22.7, 17.8, 10.8, 9.3, 6.9, 7.9, 10.2, 14.3, 18.4, 22.1, 20.1, 20.3, 18.5, 14.2, 11.2, 6.9, 6.9, 10.3, 13.9, 15.0, 16.8, 21.7, 22.1, 21.7, 20.9, 15.6, 9.9, 6.8, 7.9, 7.6, 7.4, 12.7, 15.0, 20.4, 20.6, 20.0, 17.8, 15.7, 9.1, 5.0, 0.8, 2.8, 10.7, 13.6, 16.0, 20.8, 21.1, 19.8, 18.0, 14.8, 11.8, 5.4, 5.8, 7.6, 7.6, 12.8, 19.6, 19.3, 22.8, 22.3, 21.1, 13.7, 11.2, 7.1, 6.6, 5.9, 10.5, 13.4, 16.8, 19.7, 19.3, 20.8, 17.4, 16.2, 8.4, 8.4, 5.3, 9.3, 10.9, 12.2, 17.0, 21.8, 20.1, 20.6, 19.6, 14.7, 8.8, 9.3, 7.3, 9.3, 11.6, 12.5, 15.6, 20.1, 23.5, 21.5, 18.5, 15.0, 9.7, 7.2, 7.2, 5.7, 11.1, 13.7, 15.4, 20.6, 20.7, 20.2, 18.8, 16.5, 9.5, 5.4, 8.9, 4.9, 8.0, 13.6, 17.1, 20.6, 23.9, 21.8, 19.6, 18.2, 9.6, 6.1, 7.1, 7.2, 8.1, 11.4, 19.2, 23.6, 21.3, 22.3, 20.3, 15.7, 11.9, 7.0, 7.8, 8.6, 9.1, 12.2, 18.1, 17.8, 24.1, 21.3, 20.7, 17.2, 10.4, 9.3, 6.9, 7.9, 12.4, 12.9, 16.0, 17.5, 22.3, 21.8, 17.3, 15.6, 9.9, 9.4, 7.3, 8.1, 11.5, 12.5, 16.9, 21.9, 21.4, 23.7, 20.7, 13.9, 10.3, 8.6, 9.6, 9.2, 10.3, 14.0, 17.0, 20.1, 20.9, 21.5, 17.5, 11.0, 10.6, 11.0, 10.3, 9.3, 8.4, 13.3, 15.1, 21.8, 24.1, 25.9, 19.5, 14.4, 10.1, 7.6, 8.8, 7.8, 9.5, 13.7, 19.3, 25.5, 26.6, 25.1, 19.0, 14.9, 9.9, 5.6, 6.1, 9.6, 11.2, 12.2, 16.4, 17.4, 22.4, 20.3, 18.0, 16.3, 10.4, 9.2, 6.7, 6.2, 11.3, 10.7, 17.2, 19.7, 20.5, 20.7, 20.1, 17.1, 12.6, 7.8, 3.8, 4.5, 9.2, 12.7, 15.9, 19.0, 22.5, 21.0, 19.6, 16.4, 10.8, 9.2, 6.0, 9.9, 9.0, 14.0, 17.3, 19.8, 19.7, 21.9, 20.1, 14.0, 9.3, 8.9, 8.1, 7.1, 11.8, 12.9, 16.1, 18.5, 22.0, 22.8, 20.3, 12.9, 11.5, 4.4, 6.9, 8.4, 11.1, 14.3, 18.0, 21.5, 22.7, 22.2, 20.8, 14.1, 11.4, 8.2, 10.0, 5.5, 10.8, 12.4, 15.6, 20.8, 27.6, 24.5, 19.3, 15.1, 11.3, 9.2, 8.0, 7.4, 8.9, 14.6, 14.9, 21.3, 24.2, 24.4, 18.6, 15.8, 12.2, 8.7, 4.1, 6.3, 9.4, 14.0, 16.4, 18.5, 22.9, 20.3, 20.6, 16.1, 8.1, 10.0, 7.2, 1.7, 10.1, 10.9, 16.3, 21.8, 22.6, 20.0, 17.4, 16.4, 12.1, 9.7, 3.6, 7.7, 8.5, 15.8, 16.3, 18.6, 21.8, 21.8, 19.3, 15.0, 9.8, 8.9, 8.8, 8.7, 10.7, 13.5, 18.0, 19.7, 20.0, 21.8, 18.8, 15.5, 9.9, 10.4, 9.5, 10.2, 12.9, 11.5, 21.0, 22.1, 25.8, 24.2, 20.7, 17.1, 10.9, 9.4, 10.2, 11.7, 13.6, 14.6, 20.5, 19.5, 24.7, 26.0, 19.7, 16.9, 10.7, 7.6, 7.3, 5.4, 12.5, 13.1, 15.7, 17.8, 23.2, 24.1, 21.4, 14.6, 10.6, 8.3, 7.5, 9.5, 11.8, 14.0, 21.0, 22.5, 22.5, 21.7, 18.9, 12.5, 12.0, 7.8, 10.3, 7.2, 11.8, 14.6, 18.0, 21.8, 21.6, 21.6, 17.5, 13.0, 8.8, 9.2, 9.3, 7.7, 12.3, 13.3, 16.0, 21.5, 26.2, 23.0, 17.8, 15.4, 13.6, 10.7, 8.9, 10.7, 11.2, 15.0, 19.0, 20.7, 26.3, 27.0, 19.2, 18.3, 12.0, 5.8, 7.2, 6.8, 8.6, 14.3, 15.1, 22.8, 24.2, 23.1, 19.2, 16.6, 10.5, 6.2, 5.5, 10.8, 13.8, 15.6, 18.7, 20.2, 23.5, 25.8, 20.9, 15.9, 12.5, 9.5, 9.2, 11.6, 12.1, 12.7, 19.6, 19.9, 21.4, 23.5, 20.4, 14.7, 9.6, 9.7, 9.4, 8.8, 12.2, 14.9, 19.1, 20.3, 24.9, 22.8, 21.3, 15.6, 11.3, 8.7, 8.6, 10.4, 12.1, 12.9, 18.0, 21.0, 21.0, 23.2, 20.1, 14.7, 11.0, 9.0, 7.1, 9.2, 9.5, 12.8, 18.8, 20.8, 24.3, 23.5, 18.1, 17.6, 11.3, 7.3, 9.5, 11.3, 12.4, 15.7, 17.3, 20.1, 22.3, 23.3, 20.3, 15.3, 12.4, 9.0, 8.0, 8.4, 13.6, 15.7, 18.2, 23.3, 24.2, 26.4, 21.9, 14.5, 12.6, 8.8, 8.8, 8.7, 10.8, 14.9, 18.2, 22.1, 22.7, 23.8, 20.8, 15.3, 11.2, 8.8, 9.5, 7.3, 11.5, 14.6, 17.7, 22.8, 23.3, 23.2, 21.4, 17.8, 10.7, 8.2, 7.6, 7.2, 9.4, 14.1, 18.0, 23.7, 28.2, 22.2, 22.7, 17.8, 12.7, 9.7, 10.5, 9.9, 12.5, 18.9, 17.9, 21.2, 21.4, 21.5, 19.9, 15.4, 11.4, 8.9, 10.4, 11.0, 10.6, 13.7, 19.8, 20.8, 22.8, 21.5, 18.5, 15.0, 10.7, 7.3, 6.8, 7.8, 12.9, 16.1, 19.1, 22.4, 23.0, 23.9, 20.5, 16.3, 12.6, 7.0, 4.5, 6.9, 11.1, 15.8, 17.3, 23.5, 25.0, 21.6, 19.4, 15.2, 9.1, 3.9, 7.4, 10.2, 12.3, 19.7, 19.4, 20.7, 21.7, 21.8, 21.3, 18.1, 13.6, 9.9, 9.8, 8.0, 14.7, 13.3, 18.2, 19.4, 21.3, 23.5, 20.0, 14.2, 11.0, 9.0, 6.5, 6.7, 6.9, 13.5, 16.4, 20.3, 27.0, 24.3, 19.7, 17.0, 10.4, 10.2, 10.0, 10.6, 14.1, 16.1, 18.0, 22.1, 25.8, 21.7, 21.5, 17.6, 12.5, 9.2, 8.8, 8.0, 11.6, 16.3, 17.6, 22.2, 23.7, 22.2, 18.6, 15.8, 13.4, 13.7, 9.5, 9.4, 10.7, 13.5, 19.0, 20.7, 24.0, 24.7, 22.4, 15.9, 10.5, 10.2]\n",
      "Help on class float in module builtins:\n",
      "\n",
      "class float(object)\n",
      " |  float(x=0, /)\n",
      " |  \n",
      " |  Convert a string or number to a floating point number, if possible.\n",
      " |  \n",
      " |  Methods defined here:\n",
      " |  \n",
      " |  __abs__(self, /)\n",
      " |      abs(self)\n",
      " |  \n",
      " |  __add__(self, value, /)\n",
      " |      Return self+value.\n",
      " |  \n",
      " |  __bool__(self, /)\n",
      " |      self != 0\n",
      " |  \n",
      " |  __divmod__(self, value, /)\n",
      " |      Return divmod(self, value).\n",
      " |  \n",
      " |  __eq__(self, value, /)\n",
      " |      Return self==value.\n",
      " |  \n",
      " |  __float__(self, /)\n",
      " |      float(self)\n",
      " |  \n",
      " |  __floordiv__(self, value, /)\n",
      " |      Return self//value.\n",
      " |  \n",
      " |  __format__(self, format_spec, /)\n",
      " |      Formats the float according to format_spec.\n",
      " |  \n",
      " |  __ge__(self, value, /)\n",
      " |      Return self>=value.\n",
      " |  \n",
      " |  __getattribute__(self, name, /)\n",
      " |      Return getattr(self, name).\n",
      " |  \n",
      " |  __getnewargs__(self, /)\n",
      " |  \n",
      " |  __gt__(self, value, /)\n",
      " |      Return self>value.\n",
      " |  \n",
      " |  __hash__(self, /)\n",
      " |      Return hash(self).\n",
      " |  \n",
      " |  __int__(self, /)\n",
      " |      int(self)\n",
      " |  \n",
      " |  __le__(self, value, /)\n",
      " |      Return self<=value.\n",
      " |  \n",
      " |  __lt__(self, value, /)\n",
      " |      Return self<value.\n",
      " |  \n",
      " |  __mod__(self, value, /)\n",
      " |      Return self%value.\n",
      " |  \n",
      " |  __mul__(self, value, /)\n",
      " |      Return self*value.\n",
      " |  \n",
      " |  __ne__(self, value, /)\n",
      " |      Return self!=value.\n",
      " |  \n",
      " |  __neg__(self, /)\n",
      " |      -self\n",
      " |  \n",
      " |  __pos__(self, /)\n",
      " |      +self\n",
      " |  \n",
      " |  __pow__(self, value, mod=None, /)\n",
      " |      Return pow(self, value, mod).\n",
      " |  \n",
      " |  __radd__(self, value, /)\n",
      " |      Return value+self.\n",
      " |  \n",
      " |  __rdivmod__(self, value, /)\n",
      " |      Return divmod(value, self).\n",
      " |  \n",
      " |  __repr__(self, /)\n",
      " |      Return repr(self).\n",
      " |  \n",
      " |  __rfloordiv__(self, value, /)\n",
      " |      Return value//self.\n",
      " |  \n",
      " |  __rmod__(self, value, /)\n",
      " |      Return value%self.\n",
      " |  \n",
      " |  __rmul__(self, value, /)\n",
      " |      Return value*self.\n",
      " |  \n",
      " |  __round__(self, ndigits=None, /)\n",
      " |      Return the Integral closest to x, rounding half toward even.\n",
      " |      \n",
      " |      When an argument is passed, work like built-in round(x, ndigits).\n",
      " |  \n",
      " |  __rpow__(self, value, mod=None, /)\n",
      " |      Return pow(value, self, mod).\n",
      " |  \n",
      " |  __rsub__(self, value, /)\n",
      " |      Return value-self.\n",
      " |  \n",
      " |  __rtruediv__(self, value, /)\n",
      " |      Return value/self.\n",
      " |  \n",
      " |  __sub__(self, value, /)\n",
      " |      Return self-value.\n",
      " |  \n",
      " |  __truediv__(self, value, /)\n",
      " |      Return self/value.\n",
      " |  \n",
      " |  __trunc__(self, /)\n",
      " |      Return the Integral closest to x between 0 and x.\n",
      " |  \n",
      " |  as_integer_ratio(self, /)\n",
      " |      Return integer ratio.\n",
      " |      \n",
      " |      Return a pair of integers, whose ratio is exactly equal to the original float\n",
      " |      and with a positive denominator.\n",
      " |      \n",
      " |      Raise OverflowError on infinities and a ValueError on NaNs.\n",
      " |      \n",
      " |      >>> (10.0).as_integer_ratio()\n",
      " |      (10, 1)\n",
      " |      >>> (0.0).as_integer_ratio()\n",
      " |      (0, 1)\n",
      " |      >>> (-.25).as_integer_ratio()\n",
      " |      (-1, 4)\n",
      " |  \n",
      " |  conjugate(self, /)\n",
      " |      Return self, the complex conjugate of any float.\n",
      " |  \n",
      " |  hex(self, /)\n",
      " |      Return a hexadecimal representation of a floating-point number.\n",
      " |      \n",
      " |      >>> (-0.1).hex()\n",
      " |      '-0x1.999999999999ap-4'\n",
      " |      >>> 3.14159.hex()\n",
      " |      '0x1.921f9f01b866ep+1'\n",
      " |  \n",
      " |  is_integer(self, /)\n",
      " |      Return True if the float is an integer.\n",
      " |  \n",
      " |  ----------------------------------------------------------------------\n",
      " |  Class methods defined here:\n",
      " |  \n",
      " |  __getformat__(typestr, /) from builtins.type\n",
      " |      You probably don't want to use this function.\n",
      " |      \n",
      " |        typestr\n",
      " |          Must be 'double' or 'float'.\n",
      " |      \n",
      " |      It exists mainly to be used in Python's test suite.\n",
      " |      \n",
      " |      This function returns whichever of 'unknown', 'IEEE, big-endian' or 'IEEE,\n",
      " |      little-endian' best describes the format of floating point numbers used by the\n",
      " |      C type named by typestr.\n",
      " |  \n",
      " |  __set_format__(typestr, fmt, /) from builtins.type\n",
      " |      You probably don't want to use this function.\n",
      " |      \n",
      " |        typestr\n",
      " |          Must be 'double' or 'float'.\n",
      " |        fmt\n",
      " |          Must be one of 'unknown', 'IEEE, big-endian' or 'IEEE, little-endian',\n",
      " |          and in addition can only be one of the latter two if it appears to\n",
      " |          match the underlying C reality.\n",
      " |      \n",
      " |      It exists mainly to be used in Python's test suite.\n",
      " |      \n",
      " |      Override the automatic determination of C-level floating point type.\n",
      " |      This affects how floats are converted to and from binary strings.\n",
      " |  \n",
      " |  fromhex(string, /) from builtins.type\n",
      " |      Create a floating-point number from a hexadecimal string.\n",
      " |      \n",
      " |      >>> float.fromhex('0x1.ffffp10')\n",
      " |      2047.984375\n",
      " |      >>> float.fromhex('-0x1p-1074')\n",
      " |      -5e-324\n",
      " |  \n",
      " |  ----------------------------------------------------------------------\n",
      " |  Static methods defined here:\n",
      " |  \n",
      " |  __new__(*args, **kwargs) from builtins.type\n",
      " |      Create and return a new object.  See help(type) for accurate signature.\n",
      " |  \n",
      " |  ----------------------------------------------------------------------\n",
      " |  Data descriptors defined here:\n",
      " |  \n",
      " |  imag\n",
      " |      the imaginary part of a complex number\n",
      " |  \n",
      " |  real\n",
      " |      the real part of a complex number\n",
      "\n",
      "Help on built-in function append:\n",
      "\n",
      "append(object, /) method of builtins.list instance\n",
      "    Append object to the end of the list.\n",
      "\n"
     ]
    }
   ],
   "source": [
    "# YOUR CODE HERE\n",
    "print(temperatures) # to look at the contents of the list \n",
    "type(temperatures[0])\n",
    "help(float) # search the purpose of float()\n",
    "help(temperatures.append) # search the purpose of append()\n",
    "\n"
   ]
  },
  {
   "cell_type": "markdown",
   "metadata": {
    "deletable": false,
    "nbgrader": {
     "cell_type": "markdown",
     "checksum": "a60cbb57dff6891a80c6942df500e65f",
     "grade": true,
     "grade_id": "cell-34240bd2605d2f58",
     "locked": false,
     "points": 1,
     "schema_version": 3,
     "solution": true,
     "task": false
    }
   },
   "source": [
    "\"Temperatures\" is an object of the type list. "
   ]
  },
  {
   "cell_type": "markdown",
   "metadata": {},
   "source": [
    "b) Describe what the \"float()\" and \"append()\" commands do, respectively, that have been applied above. Try to leave out the \"float()\" command. What happens then? "
   ]
  },
  {
   "cell_type": "markdown",
   "metadata": {
    "deletable": false,
    "nbgrader": {
     "cell_type": "markdown",
     "checksum": "2653d6fd0d4d164f0fc1c89923901faa",
     "grade": true,
     "grade_id": "cell-500e86f52b100e06",
     "locked": false,
     "points": 2,
     "schema_version": 3,
     "solution": true,
     "task": false
    }
   },
   "source": [
    "The float() function converts a string or number to a floating point number. The append() function attaches or glues an object to the end of an existing list. When I leave out the \"float()\" command, the temperatures are listed with single quotes and with a \\n (for ex. '18.1\\n'). This means that each entry is regarded as a string (instead of an int or float) a on a new line. "
   ]
  },
  {
   "cell_type": "markdown",
   "metadata": {
    "deletable": false,
    "editable": false,
    "nbgrader": {
     "cell_type": "markdown",
     "checksum": "ea10dd8b94337c18b98c1262adef51f3",
     "grade": false,
     "grade_id": "cell-1ed6dd0ce4068fd0",
     "locked": true,
     "schema_version": 3,
     "solution": false,
     "task": false
    }
   },
   "source": [
    "c) How many temperatures have been recorded in the file?"
   ]
  },
  {
   "cell_type": "code",
   "execution_count": 4,
   "metadata": {
    "deletable": false,
    "nbgrader": {
     "cell_type": "code",
     "checksum": "dbc06dc4272e2b3a0cd8d01d2ca6858e",
     "grade": true,
     "grade_id": "cell-4102cec12478cb95",
     "locked": false,
     "points": 0.5,
     "schema_version": 3,
     "solution": true,
     "task": false
    }
   },
   "outputs": [
    {
     "data": {
      "text/plain": [
       "828"
      ]
     },
     "execution_count": 4,
     "metadata": {},
     "output_type": "execute_result"
    }
   ],
   "source": [
    "# YOUR CODE HERE\n",
    "len(temperatures)"
   ]
  },
  {
   "cell_type": "markdown",
   "metadata": {
    "deletable": false,
    "nbgrader": {
     "cell_type": "markdown",
     "checksum": "d44ea0463e761488492da1a6a2d5ddb0",
     "grade": true,
     "grade_id": "cell-6ad7e392521a4a0e",
     "locked": false,
     "points": 0.5,
     "schema_version": 3,
     "solution": true,
     "task": false
    }
   },
   "source": [
    "There are 828 temperatures recorded in the file."
   ]
  },
  {
   "cell_type": "markdown",
   "metadata": {
    "deletable": false,
    "editable": false,
    "nbgrader": {
     "cell_type": "markdown",
     "checksum": "f61e1abf01d6a8746451fb557e8da1fa",
     "grade": false,
     "grade_id": "cell-5d583cf14544aa4b",
     "locked": true,
     "schema_version": 3,
     "solution": false,
     "task": false
    }
   },
   "source": [
    "d) What are the highest and lowest temperatures recorded?"
   ]
  },
  {
   "cell_type": "code",
   "execution_count": 5,
   "metadata": {
    "deletable": false,
    "nbgrader": {
     "cell_type": "code",
     "checksum": "5d080e038ed4c41f8f093cadae3129f7",
     "grade": true,
     "grade_id": "cell-31ed00b609d91dea",
     "locked": false,
     "points": 1,
     "schema_version": 3,
     "solution": true,
     "task": false
    }
   },
   "outputs": [
    {
     "data": {
      "text/plain": [
       "0.8"
      ]
     },
     "execution_count": 5,
     "metadata": {},
     "output_type": "execute_result"
    }
   ],
   "source": [
    "# YOUR CODE HERE\n",
    "max(temperatures)\n",
    "min(temperatures)"
   ]
  },
  {
   "cell_type": "markdown",
   "metadata": {
    "deletable": false,
    "nbgrader": {
     "cell_type": "markdown",
     "checksum": "e7b582d3c953ee1738d64a6724411862",
     "grade": true,
     "grade_id": "cell-c0b16d7f7383f06d",
     "locked": false,
     "points": 1,
     "schema_version": 3,
     "solution": true,
     "task": false
    }
   },
   "source": [
    "The highest temperature is 28.2, and the lowest temperature is 0.8."
   ]
  },
  {
   "cell_type": "markdown",
   "metadata": {
    "deletable": false,
    "editable": false,
    "nbgrader": {
     "cell_type": "markdown",
     "checksum": "fae5e96df34727816fa2cd18dd98457c",
     "grade": false,
     "grade_id": "cell-7a234034741311d6",
     "locked": true,
     "schema_version": 3,
     "solution": false,
     "task": false
    }
   },
   "source": [
    "e) The first observation in the `temperatures` object is from a January 1948. Using only the commands you learned from chapter 5, find the the mean January high temperature at London Heathrow between the years 1948 and 2016."
   ]
  },
  {
   "cell_type": "code",
   "execution_count": 6,
   "metadata": {
    "deletable": false,
    "nbgrader": {
     "cell_type": "code",
     "checksum": "0a5806945131dcdad3fe0413115fc201",
     "grade": true,
     "grade_id": "cell-befa8725c629dacc",
     "locked": false,
     "points": 1,
     "schema_version": 3,
     "solution": true,
     "task": false
    }
   },
   "outputs": [
    {
     "name": "stdout",
     "output_type": "stream",
     "text": [
      "14.85\n"
     ]
    }
   ],
   "source": [
    "# YOUR CODE HERE\n",
    "average = sum(temperatures)/len(temperatures) # computed the mean \n",
    "# by obtaining the sum of all temperatures and divided by the sample size \n",
    "print('%.2f'%average) # round the float to 2 decimal places"
   ]
  },
  {
   "cell_type": "markdown",
   "metadata": {
    "deletable": false,
    "nbgrader": {
     "cell_type": "markdown",
     "checksum": "13338e0a285333aed0cac52b6c20c3d3",
     "grade": true,
     "grade_id": "cell-1a00335306f17863",
     "locked": false,
     "points": 1,
     "schema_version": 3,
     "solution": true,
     "task": false
    }
   },
   "source": [
    "The mean temperature rounded to two decimal places is 14.85. "
   ]
  },
  {
   "cell_type": "markdown",
   "metadata": {
    "deletable": false,
    "editable": false,
    "nbgrader": {
     "cell_type": "markdown",
     "checksum": "ca0af16d023048892058102b56beebc0",
     "grade": false,
     "grade_id": "cell-339113f64bcb4534",
     "locked": true,
     "schema_version": 3,
     "solution": false,
     "task": false
    }
   },
   "source": [
    "f) Find the median monthly high temperature (using only the commands you learned from chapter 5, not using additional modules or libraries). Use Python to round your result to two after-decimal digits. "
   ]
  },
  {
   "cell_type": "code",
   "execution_count": 7,
   "metadata": {
    "deletable": false,
    "nbgrader": {
     "cell_type": "code",
     "checksum": "97288dbeefb3f5b7e5f72f607a3b2dd4",
     "grade": true,
     "grade_id": "cell-559818acd1c52615",
     "locked": false,
     "points": 1,
     "schema_version": 3,
     "solution": true,
     "task": false
    }
   },
   "outputs": [
    {
     "name": "stdout",
     "output_type": "stream",
     "text": [
      "14.70\n"
     ]
    }
   ],
   "source": [
    "# YOUR CODE HERE\n",
    "temperatures.sort() # sort in ascending order\n",
    "n = len(temperatures) # sample size \n",
    "\n",
    "middle = n//2 # since the sample size is even, we need to obtain the two middle\n",
    "              # values and divide by 2\n",
    "other_middle = n//2 + 1\n",
    "\n",
    "median = (temperatures[middle]+ temperatures[other_middle])/2\n",
    "print('%.2f'%median)\n",
    "\n",
    "\n",
    "\n",
    "\n",
    "\n"
   ]
  },
  {
   "cell_type": "markdown",
   "metadata": {
    "deletable": false,
    "nbgrader": {
     "cell_type": "markdown",
     "checksum": "62f3029f7a8a92b456c18fbb2608acaf",
     "grade": true,
     "grade_id": "cell-522e5e9fef2c8465",
     "locked": false,
     "points": 1,
     "schema_version": 3,
     "solution": true,
     "task": false
    }
   },
   "source": [
    "The median monthly high temperature is 14.70."
   ]
  },
  {
   "cell_type": "markdown",
   "metadata": {
    "deletable": false,
    "editable": false,
    "nbgrader": {
     "cell_type": "markdown",
     "checksum": "15ed5f46b68cd7b84b96f940c779c3ad",
     "grade": false,
     "grade_id": "cell-fba2aab074745cee",
     "locked": true,
     "schema_version": 3,
     "solution": false,
     "task": false
    }
   },
   "source": [
    "## Problem 2 \n",
    "\n",
    "Much of data science these days is done on text data. The text to be analyzed may be literature or postings on social media. The tasks to be performed could be sentiment analysis (trying to guess whether the writing is \"pro\" or \"con\" on a certain issue) to automatically detecting postings by Russian bots. However, before you can perform any kind of machine learning procedure on a text, you have to first learn how to \"clean\" the text. That usually means removing all non-text elements and sometimes also removing filler words such as \"the\", \"it\", \"and\" etc. After that. what is usually analyzed is the frequency with which certain words appear and most often actually not the *order* in which they appear. \n",
    "\n",
    "The text below are the first three paragraphs of Franz Kafka's book \"Metamorphosis\". Our goal is to clean this text passage. "
   ]
  },
  {
   "cell_type": "code",
   "execution_count": 8,
   "metadata": {
    "deletable": false,
    "editable": false,
    "nbgrader": {
     "cell_type": "code",
     "checksum": "f900eb78bb94d97d003d0d1d541cc72f",
     "grade": false,
     "grade_id": "cell-6b3f5de1cf97e9e0",
     "locked": true,
     "schema_version": 3,
     "solution": false,
     "task": false
    }
   },
   "outputs": [],
   "source": [
    "text = \"\"\"One morning, when Gregor Samsa woke from troubled dreams, he found\n",
    "himself transformed in his bed into a horrible vermin.  He lay on\n",
    "his armour-like back, and if he lifted his head a little he could\n",
    "see his brown belly, slightly domed and divided by arches into stiff\n",
    "sections.  The bedding was hardly able to cover it and seemed ready\n",
    "to slide off any moment.  His many legs, pitifully thin compared\n",
    "with the size of the rest of him, waved about helplessly as he\n",
    "looked.\n",
    "\n",
    "\"What's happened to me?\" he thought.  It wasn't a dream.  His room,\n",
    "a proper human room although a little too small, lay peacefully\n",
    "between its four familiar walls.  A collection of textile samples\n",
    "lay spread out on the table - Samsa was a travelling salesman - and\n",
    "above it there hung a picture that he had recently cut out of an\n",
    "illustrated magazine and housed in a nice, gilded frame.  It showed\n",
    "a lady fitted out with a fur hat and fur boa who sat upright,\n",
    "raising a heavy fur muff that covered the whole of her lower arm\n",
    "towards the viewer.\n",
    "\n",
    "Gregor then turned to look out the window at the dull weather.\n",
    "Drops of rain could be heard hitting the pane, which made him feel\n",
    "quite sad.  \"How about if I sleep a little bit longer and forget all\n",
    "this nonsense\", he thought, but that was something he was unable to\n",
    "do because he was used to sleeping on his right, and in his present\n",
    "state couldn't get into that position.  However hard he threw\n",
    "himself onto his right, he always rolled back to where he was.  He\n",
    "must have tried it a hundred times, shut his eyes so that he\n",
    "wouldn't have to look at the floundering legs, and only stopped when\n",
    "he began to feel a mild, dull pain there that he had never felt\n",
    "before.\"\"\""
   ]
  },
  {
   "cell_type": "markdown",
   "metadata": {
    "deletable": false,
    "editable": false,
    "nbgrader": {
     "cell_type": "markdown",
     "checksum": "a4af973a32090ba3056e47cf1667cec7",
     "grade": false,
     "grade_id": "cell-4859f6c152b98634",
     "locked": true,
     "schema_version": 3,
     "solution": false,
     "task": false
    }
   },
   "source": [
    "a) Look at the text. What non-alphabetic character elements do you see in the text?"
   ]
  },
  {
   "cell_type": "markdown",
   "metadata": {
    "deletable": false,
    "nbgrader": {
     "cell_type": "markdown",
     "checksum": "5179b9354da36274477781e343fe5ffc",
     "grade": true,
     "grade_id": "cell-b91c05534addb82e",
     "locked": false,
     "points": 1,
     "schema_version": 3,
     "solution": true,
     "task": false
    }
   },
   "source": [
    "I see double quotation marks, periods, commas, question marks, apostrophes, and dashes. In short, I see punctuation."
   ]
  },
  {
   "cell_type": "markdown",
   "metadata": {
    "deletable": false,
    "editable": false,
    "nbgrader": {
     "cell_type": "markdown",
     "checksum": "85ab14583d4965f09f2ea55067a98b4d",
     "grade": false,
     "grade_id": "cell-48d73327e92845c7",
     "locked": true,
     "schema_version": 3,
     "solution": false,
     "task": false
    }
   },
   "source": [
    "b) Using only the commands covered in class so far, write code to remove all non-alphabetic characters (such as punctuation)."
   ]
  },
  {
   "cell_type": "code",
   "execution_count": 9,
   "metadata": {
    "deletable": false,
    "nbgrader": {
     "cell_type": "code",
     "checksum": "2f81bba2fedd201a489616d7ca8eaf9f",
     "grade": true,
     "grade_id": "cell-4b64fbe18b6c49ed",
     "locked": false,
     "points": 2,
     "schema_version": 3,
     "solution": true,
     "task": false
    }
   },
   "outputs": [
    {
     "name": "stdout",
     "output_type": "stream",
     "text": [
      "One morning when Gregor Samsa woke from troubled dreams he found\n",
      "himself transformed in his bed into a horrible vermin  He lay on\n",
      "his armourlike back and if he lifted his head a little he could\n",
      "see his brown belly slightly domed and divided by arches into stiff\n",
      "sections  The bedding was hardly able to cover it and seemed ready\n",
      "to slide off any moment  His many legs pitifully thin compared\n",
      "with the size of the rest of him waved about helplessly as he\n",
      "looked\n",
      "\n",
      "Whats happened to me he thought  It wasnt a dream  His room\n",
      "a proper human room although a little too small lay peacefully\n",
      "between its four familiar walls  A collection of textile samples\n",
      "lay spread out on the table  Samsa was a travelling salesman  and\n",
      "above it there hung a picture that he had recently cut out of an\n",
      "illustrated magazine and housed in a nice gilded frame  It showed\n",
      "a lady fitted out with a fur hat and fur boa who sat upright\n",
      "raising a heavy fur muff that covered the whole of her lower arm\n",
      "towards the viewer\n",
      "\n",
      "Gregor then turned to look out the window at the dull weather\n",
      "Drops of rain could be heard hitting the pane which made him feel\n",
      "quite sad  How about if I sleep a little bit longer and forget all\n",
      "this nonsense he thought but that was something he was unable to\n",
      "do because he was used to sleeping on his right and in his present\n",
      "state couldnt get into that position  However hard he threw\n",
      "himself onto his right he always rolled back to where he was  He\n",
      "must have tried it a hundred times shut his eyes so that he\n",
      "wouldnt have to look at the floundering legs and only stopped when\n",
      "he began to feel a mild dull pain there that he had never felt\n",
      "before\n"
     ]
    }
   ],
   "source": [
    "# YOUR CODE HERE\n",
    "new_text = text.replace(\"?\",\"\")\n",
    "new_text = new_text.replace(\",\",\"\")\n",
    "new_text = new_text.replace(\".\",\"\")\n",
    "new_text = new_text.replace(\"-\",\"\")\n",
    "new_text = new_text.replace(\"\\\"\",\"\") \n",
    "new_text = new_text.replace(\",\",\"\")\n",
    "new_text = new_text.replace(\"\\'\",\"\")\n",
    "print(new_text)\n"
   ]
  },
  {
   "cell_type": "markdown",
   "metadata": {
    "deletable": false,
    "editable": false,
    "nbgrader": {
     "cell_type": "markdown",
     "checksum": "32207b82a63b01152a56cac936acf742",
     "grade": false,
     "grade_id": "cell-d3b4342173920c17",
     "locked": true,
     "schema_version": 3,
     "solution": false,
     "task": false
    }
   },
   "source": [
    "c) Write code to make everything lower case and convert the text into a list of single words. "
   ]
  },
  {
   "cell_type": "code",
   "execution_count": 10,
   "metadata": {
    "deletable": false,
    "nbgrader": {
     "cell_type": "code",
     "checksum": "29a38852d5f6edf9f02883a477aeba80",
     "grade": true,
     "grade_id": "cell-1f0da4f57b41fe5e",
     "locked": false,
     "points": 2,
     "schema_version": 3,
     "solution": true,
     "task": false
    }
   },
   "outputs": [
    {
     "name": "stdout",
     "output_type": "stream",
     "text": [
      "['one', 'morning', 'when', 'gregor', 'samsa', 'woke', 'from', 'troubled', 'dreams', 'he', 'found', 'himself', 'transformed', 'in', 'his', 'bed', 'into', 'a', 'horrible', 'vermin', 'he', 'lay', 'on', 'his', 'armourlike', 'back', 'and', 'if', 'he', 'lifted', 'his', 'head', 'a', 'little', 'he', 'could', 'see', 'his', 'brown', 'belly', 'slightly', 'domed', 'and', 'divided', 'by', 'arches', 'into', 'stiff', 'sections', 'the', 'bedding', 'was', 'hardly', 'able', 'to', 'cover', 'it', 'and', 'seemed', 'ready', 'to', 'slide', 'off', 'any', 'moment', 'his', 'many', 'legs', 'pitifully', 'thin', 'compared', 'with', 'the', 'size', 'of', 'the', 'rest', 'of', 'him', 'waved', 'about', 'helplessly', 'as', 'he', 'looked', 'whats', 'happened', 'to', 'me', 'he', 'thought', 'it', 'wasnt', 'a', 'dream', 'his', 'room', 'a', 'proper', 'human', 'room', 'although', 'a', 'little', 'too', 'small', 'lay', 'peacefully', 'between', 'its', 'four', 'familiar', 'walls', 'a', 'collection', 'of', 'textile', 'samples', 'lay', 'spread', 'out', 'on', 'the', 'table', 'samsa', 'was', 'a', 'travelling', 'salesman', 'and', 'above', 'it', 'there', 'hung', 'a', 'picture', 'that', 'he', 'had', 'recently', 'cut', 'out', 'of', 'an', 'illustrated', 'magazine', 'and', 'housed', 'in', 'a', 'nice', 'gilded', 'frame', 'it', 'showed', 'a', 'lady', 'fitted', 'out', 'with', 'a', 'fur', 'hat', 'and', 'fur', 'boa', 'who', 'sat', 'upright', 'raising', 'a', 'heavy', 'fur', 'muff', 'that', 'covered', 'the', 'whole', 'of', 'her', 'lower', 'arm', 'towards', 'the', 'viewer', 'gregor', 'then', 'turned', 'to', 'look', 'out', 'the', 'window', 'at', 'the', 'dull', 'weather', 'drops', 'of', 'rain', 'could', 'be', 'heard', 'hitting', 'the', 'pane', 'which', 'made', 'him', 'feel', 'quite', 'sad', 'how', 'about', 'if', 'i', 'sleep', 'a', 'little', 'bit', 'longer', 'and', 'forget', 'all', 'this', 'nonsense', 'he', 'thought', 'but', 'that', 'was', 'something', 'he', 'was', 'unable', 'to', 'do', 'because', 'he', 'was', 'used', 'to', 'sleeping', 'on', 'his', 'right', 'and', 'in', 'his', 'present', 'state', 'couldnt', 'get', 'into', 'that', 'position', 'however', 'hard', 'he', 'threw', 'himself', 'onto', 'his', 'right', 'he', 'always', 'rolled', 'back', 'to', 'where', 'he', 'was', 'he', 'must', 'have', 'tried', 'it', 'a', 'hundred', 'times', 'shut', 'his', 'eyes', 'so', 'that', 'he', 'wouldnt', 'have', 'to', 'look', 'at', 'the', 'floundering', 'legs', 'and', 'only', 'stopped', 'when', 'he', 'began', 'to', 'feel', 'a', 'mild', 'dull', 'pain', 'there', 'that', 'he', 'had', 'never', 'felt', 'before']\n"
     ]
    }
   ],
   "source": [
    "new_text = new_text.lower()\n",
    "text_list = new_text.split()\n",
    "print(text_list)\n",
    "\n"
   ]
  },
  {
   "cell_type": "markdown",
   "metadata": {
    "deletable": false,
    "editable": false,
    "nbgrader": {
     "cell_type": "markdown",
     "checksum": "f766733e1d8a4f84a8f2a37a54d99112",
     "grade": false,
     "grade_id": "cell-c6d3acee7f698a50",
     "locked": true,
     "schema_version": 3,
     "solution": false,
     "task": false
    }
   },
   "source": [
    "d) How many words are in the list? Count, how often the word \"he\" appears in the three paragraphs. "
   ]
  },
  {
   "cell_type": "code",
   "execution_count": 11,
   "metadata": {
    "deletable": false,
    "nbgrader": {
     "cell_type": "code",
     "checksum": "5575b4a10677310a03bbaf2c2fd4965e",
     "grade": true,
     "grade_id": "cell-6e885dd0313883a1",
     "locked": false,
     "points": 1,
     "schema_version": 3,
     "solution": true,
     "task": false
    }
   },
   "outputs": [
    {
     "data": {
      "text/plain": [
       "17"
      ]
     },
     "execution_count": 11,
     "metadata": {},
     "output_type": "execute_result"
    }
   ],
   "source": [
    "# YOUR CODE HERE\n",
    "len(text_list)\n",
    "text_list.count(\"he\")"
   ]
  },
  {
   "cell_type": "markdown",
   "metadata": {
    "deletable": false,
    "nbgrader": {
     "cell_type": "markdown",
     "checksum": "53b88972cb79abe71d19552c7640315b",
     "grade": true,
     "grade_id": "cell-fabf0ebc115053cf",
     "locked": false,
     "points": 1,
     "schema_version": 3,
     "solution": true,
     "task": false
    }
   },
   "source": [
    "There are 313 words in the list, and the word \"he\" appears 17 times in the entire text."
   ]
  },
  {
   "cell_type": "markdown",
   "metadata": {
    "deletable": false,
    "editable": false,
    "nbgrader": {
     "cell_type": "markdown",
     "checksum": "2c1348e4dd63fa18eff4e5f0478b0f87",
     "grade": false,
     "grade_id": "cell-c0ad33a5db7f9482",
     "locked": true,
     "schema_version": 3,
     "solution": false,
     "task": false
    }
   },
   "source": [
    "e) How many distinct (different) words appear in the first three paragragraphs?"
   ]
  },
  {
   "cell_type": "code",
   "execution_count": 12,
   "metadata": {
    "deletable": false,
    "nbgrader": {
     "cell_type": "code",
     "checksum": "101e34d5cc002ae92867b0775099b32e",
     "grade": true,
     "grade_id": "cell-b7c0416724c28ac2",
     "locked": false,
     "points": 1,
     "schema_version": 3,
     "solution": true,
     "task": false
    }
   },
   "outputs": [
    {
     "data": {
      "text/plain": [
       "194"
      ]
     },
     "execution_count": 12,
     "metadata": {},
     "output_type": "execute_result"
    }
   ],
   "source": [
    "# YOUR CODE HERE\n",
    "unique_words = set(text_list) # put the list into a set to remove duplicates\n",
    "len(unique_words)"
   ]
  },
  {
   "cell_type": "markdown",
   "metadata": {
    "deletable": false,
    "nbgrader": {
     "cell_type": "markdown",
     "checksum": "e3e0b20946d0579d7870ceff6441ed6c",
     "grade": true,
     "grade_id": "cell-7f9326ad65184f44",
     "locked": false,
     "points": 1,
     "schema_version": 3,
     "solution": true,
     "task": false
    }
   },
   "source": [
    "There are 194 distinct words."
   ]
  }
 ],
 "metadata": {
  "kernelspec": {
   "display_name": "Python 3",
   "language": "python",
   "name": "python3"
  },
  "language_info": {
   "codemirror_mode": {
    "name": "ipython",
    "version": 3
   },
   "file_extension": ".py",
   "mimetype": "text/x-python",
   "name": "python",
   "nbconvert_exporter": "python",
   "pygments_lexer": "ipython3",
   "version": "3.8.5"
  }
 },
 "nbformat": 4,
 "nbformat_minor": 2
}
