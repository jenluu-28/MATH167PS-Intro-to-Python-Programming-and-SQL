{
 "cells": [
  {
   "cell_type": "markdown",
   "metadata": {
    "nbgrader": {
     "grade": false,
     "grade_id": "cell-d52a593a8c020deb",
     "locked": true,
     "schema_version": 3,
     "solution": false,
     "task": false
    }
   },
   "source": [
    "# Solution for Homework 5"
   ]
  },
  {
   "cell_type": "markdown",
   "metadata": {
    "nbgrader": {
     "grade": false,
     "grade_id": "cell-08e2c1b9a5e96a6c",
     "locked": true,
     "schema_version": 3,
     "solution": false,
     "task": false
    }
   },
   "source": [
    "## Problem 1 (4 points) \n",
    "\n",
    "The code below generates a random sample from a Poisson distribution. Run the cell to create sample X. "
   ]
  },
  {
   "cell_type": "code",
   "execution_count": 1,
   "metadata": {
    "nbgrader": {
     "grade": false,
     "grade_id": "cell-46f9dd140cecd2c9",
     "locked": true,
     "schema_version": 3,
     "solution": false,
     "task": false
    }
   },
   "outputs": [],
   "source": [
    "import numpy as np\n",
    "from scipy import stats\n",
    "\n",
    "np.random.seed(13)\n",
    "X = stats.poisson(7).rvs(925)"
   ]
  },
  {
   "cell_type": "markdown",
   "metadata": {
    "nbgrader": {
     "grade": false,
     "grade_id": "cell-3d27aeddf95e1359",
     "locked": true,
     "schema_version": 3,
     "solution": false,
     "task": false
    }
   },
   "source": [
    "Write code to produce a 95\\% bootstrap confidence interval for the mean of that sample. Report your result as a print statement with two after-decimal digit accuracy. Describe your procedure (in English in the Markdown box below) and justify all the choices you make in your code. "
   ]
  },
  {
   "cell_type": "code",
   "execution_count": 2,
   "metadata": {
    "nbgrader": {
     "grade": false,
     "grade_id": "cell-14c45308c44c0c69",
     "locked": true,
     "schema_version": 3,
     "solution": false,
     "task": false
    }
   },
   "outputs": [
    {
     "name": "stdout",
     "output_type": "stream",
     "text": [
      "[6.84216216 7.18489189]\n"
     ]
    }
   ],
   "source": [
    "N = 10000                                       # number of bootstrap samples\n",
    "idx = np.random.randint(0, X.size, (N, X.size)) # create bootstrap re-samples\n",
    "means = X[idx].mean(axis=1)                     # compute sample mean for each bootstrap sample\n",
    "confint = np.percentile(means, [2.5, 97.5])     # find percentiles of sample means \n",
    "print(confint)"
   ]
  },
  {
   "cell_type": "markdown",
   "metadata": {
    "nbgrader": {
     "grade": false,
     "grade_id": "cell-0a4447350367e6ba",
     "locked": true,
     "schema_version": 3,
     "solution": false,
     "task": false
    }
   },
   "source": [
    "Create N random bootstrap samples (925 observations chosen at random and with replacement from the original vector X). The size of the bootstrap samples (n=925 is the same as the size of the original sample. \n",
    "Find the same mean of each bootstrap sample. Then, find the 2.5$^{th}$ and 95$^{th}$ percentiles, respectively of the distribution of sample means. Repeat this analysis a couple of times to observe how much results change. If they still change (in two after-decimal digit accuracy) increase the value of N until they stabilize. \n",
    "\n",
    "For N=10,000 and up the results seem to stabilize around bootstrap confidence interval [6.84, 7.19]."
   ]
  },
  {
   "cell_type": "markdown",
   "metadata": {
    "nbgrader": {
     "grade": false,
     "grade_id": "cell-5001ea8e93e8e42d",
     "locked": true,
     "schema_version": 3,
     "solution": false,
     "task": false
    }
   },
   "source": [
    "## Problem 2\n",
    "\n",
    "Conway's [game of life](https://en.wikipedia.org/wiki/Conway%27s_Game_of_Life) is a cellular automaton. There aren't any actual players in this \"game\". Instead the game board evolves according to some specific rules. In this problem, we will simlulate a game board for the game-of-life and study its evolution. \n",
    "\n",
    "Consider a two-dimensional $m \\times n$ grid (think two-dimensional NumPy array). Each entry in the array is either 1 (represents a \"live\" cell) or 0 (represents a dead cell). Time is discrete. That is, we consider time points $t_1, t_2 \\ldots$. \n",
    "\n",
    "Here are the rules for evolution from some time point $t_n$ to the next $t_{n+1}$:\n",
    "\n",
    "- Any live cell with fewer than two live neighbours dies, as if by underpopulation.\n",
    "- Any live cell with two or three live neighbours lives on to the next generation.\n",
    "- Any live cell with more than three live neighbours dies, as if by overpopulation.\n",
    "- Any dead cell with exactly three live neighbours becomes a live cell, as if by reproduction.\n",
    "\n",
    "Please note, that changes are only implemented in the next time-step. That means for each cell in the array, we will apply the above rules to decide whether it will live or die and then implement the changed board for the next time step after evaluating all cells. We will assume that the board has a torus structure. That means cells in the upper-most row are assumed to neighbor the cells in the lower-most row and similarly, the cells in the left-most column are assumed to neighbor the cells in the right-most column.\n",
    "\n",
    "**Example**: each cell on the board has eight neighbors. The four cells to the top, bottom, left, and right as well as the four diagonally bordering cells. In the $5 \\times 5$ example shown below, the eight neighbors of the black cell at (0,0) are shown in red. Execute the code below to see the image. "
   ]
  },
  {
   "cell_type": "code",
   "execution_count": 3,
   "metadata": {
    "nbgrader": {
     "grade": false,
     "grade_id": "cell-250e77f28885f4b8",
     "locked": true,
     "schema_version": 3,
     "solution": false,
     "task": false
    }
   },
   "outputs": [
    {
     "data": {
      "image/png": "[encoded data removed]",
      "text/plain": [
       "<Figure size 432x288 with 1 Axes>"
      ]
     },
     "metadata": {
      "needs_background": "light"
     },
     "output_type": "display_data"
    }
   ],
   "source": [
    "import numpy as np\n",
    "import matplotlib.pyplot as plt\n",
    "\n",
    "a = 2*np.ones((5, 5), int) # make numpy array with data\n",
    "a[0,0] = 0                 # black cell\n",
    "a[0,1] = a[1,0] = a[1,1] = a[4,4] = a[4,0] = a[4,1] = a[0,4] = a[1,4] = 1 # red cells\n",
    "plt.imshow(a, cmap='hot');            # create heatmap 0 is black, 1 is red, 2 is white\n",
    "                                      # don't worry - you don't have to understand the plot commands, yet. "
   ]
  },
  {
   "cell_type": "markdown",
   "metadata": {
    "nbgrader": {
     "grade": false,
     "grade_id": "cell-71ba0963ca8206d3",
     "locked": true,
     "schema_version": 3,
     "solution": false,
     "task": false
    }
   },
   "source": [
    "(a) (2 points) Write a function called `valid_board()` that determines whether a $m\\times n$ numpy array is a valid game-of-life board. That means that your function should return the boolean value `True` if every entry is either 0 or 1 and otherwise should return `False`. "
   ]
  },
  {
   "cell_type": "code",
   "execution_count": 4,
   "metadata": {
    "nbgrader": {
     "grade": false,
     "grade_id": "cell-df1254b47a71068d",
     "locked": true,
     "schema_version": 3,
     "solution": false,
     "task": false
    }
   },
   "outputs": [],
   "source": [
    "def valid_board(array):\n",
    "    \"\"\"checks whether NumPy array is valid game board for game-of-life\"\"\"\n",
    "    return bool(np.array([row.prod() for row in (array==0)|(array==1)]).prod()) \n",
    "    # create boolean for each entry which is true if the entry is eitehr 0 or 1. \n",
    "    # Aggregate booleans by multiplying them acriss entire array. Return True if that product is 1. "
   ]
  },
  {
   "cell_type": "markdown",
   "metadata": {
    "nbgrader": {
     "grade": false,
     "grade_id": "cell-e9b7de9967373330",
     "locked": true,
     "schema_version": 3,
     "solution": false,
     "task": false
    }
   },
   "source": [
    "(b) (6 points) Write a function called `evolution()` that takes as its input a two-dimendional Numpy array. Check, whether the array is a valid game-of-life board. If it is, return the board at the next evolution time step (that is apply the above rules to every cell and return a game board with live or dead cells one time step later). If the board is not valid, return the print statement \"your board is not valid\". \n",
    "\n",
    "Don't forget to comment your code!"
   ]
  },
  {
   "cell_type": "code",
   "execution_count": 5,
   "metadata": {
    "nbgrader": {
     "grade": false,
     "grade_id": "cell-913c67203c7a5103",
     "locked": true,
     "schema_version": 3,
     "solution": false,
     "task": false
    }
   },
   "outputs": [],
   "source": [
    "def evolution(array):\n",
    "    \"\"\"evolves game board for game-of-life for one time-step\"\"\"\n",
    "    if valid_board(array):\n",
    "        a = array\n",
    "        m,n = a.shape # find shape (rows, columns) of input array\n",
    "                      # we're making a new array with two more rows and two more \n",
    "                      # columns by replicating the \"border\" rows/columns on the respective other sides.   \n",
    "                \n",
    "        b = (-1)*np.ones((m,n)) # make new array for the next time step (currently filled with negative ones)\n",
    "        \n",
    "        left = a[:,0] # replicate left-most and right-most column\n",
    "        right = a[:,n-1]\n",
    "\n",
    "        new_a = np.concatenate((right[:, np.newaxis],a, left[:,np.newaxis]), axis = 1) # glue on right,left\n",
    "        \n",
    "        top = new_a[0,:] # replicate top and bottom row (already includes \"corners\") \n",
    "        bottom = new_a[m-1,:]\n",
    "        \n",
    "        new_a = np.concatenate((bottom[np.newaxis,:],new_a, top[np.newaxis,:]), axis = 0) # glue on top, bottom\n",
    "        \n",
    "        for r in range(1,m+1):\n",
    "            for c in range(1,n+1): # go through each cell in original array \n",
    "                \n",
    "                cell = new_a[r,c]  # value of the cell itself\n",
    "                neighbors = new_a[r-1:r+2, c-1:c+2] # neighbor arrays (inlcudes cell itself at the center)\n",
    "\n",
    "                if cell == 1:  # for live cells\n",
    "                    if np.sum(neighbors)-cell <2: # if there are fewer than 2 live neighbors, kill the cell\n",
    "                        b[r-1,c-1] = 0\n",
    "                    elif np.sum(neighbors)-cell >3: # if there are more than 3 live neighbors, kill the cell\n",
    "                        b[r-1,c-1] = 0\n",
    "                    else:                        # if there are 2 or 3 live neighbors, cell stays alive\n",
    "                        b[r-1,c-1] = 1\n",
    "                    \n",
    "                if cell == 0:  # for dead cells\n",
    "                    if np.sum(neighbors) ==3: # if there are exactly three live neighbors, cell comes alive\n",
    "                        b[r-1,c-1] = 1\n",
    "                    else:                  # otherwise it stays dead\n",
    "                        b[r-1,c-1] = 0\n",
    "                        \n",
    "        return b\n",
    "        \n",
    "    else:\n",
    "        return print(\"your board is not valid\")"
   ]
  },
  {
   "cell_type": "markdown",
   "metadata": {
    "nbgrader": {
     "grade": false,
     "grade_id": "cell-d1f88e07e1278b59",
     "locked": true,
     "schema_version": 3,
     "solution": false,
     "task": false
    }
   },
   "source": [
    "**Optional:** If you are not able to implement the `evolution()` function above, provide a written description of your algorithm here instead for potential partial credit. "
   ]
  },
  {
   "cell_type": "markdown",
   "metadata": {
    "nbgrader": {
     "grade": false,
     "grade_id": "cell-5c9b5e32ba2fbf53",
     "locked": true,
     "schema_version": 3,
     "solution": false,
     "task": false
    }
   },
   "source": [
    "Algorithm description:\n",
    "- Make a larger board (to be able to get neighboring cells for each cell by slicing that larger board)\n",
    "    * Repeat the first, and last columns \n",
    "    * Repeat the first and last rows\n",
    "    * larger board will have 2 more rows and 2 more columns than original board. \n",
    "- For each cell in the original board\n",
    "    * identify neighboring cells\n",
    "    * implement game rules depending on whether the cell itself is alive or dead and the number of live neighbors. \n",
    "    * create updated game-board and populate the board with the new status (live/dead) of the cell\n",
    "- return print statement if board is invalid, otherwise return new (updated) board."
   ]
  },
  {
   "cell_type": "markdown",
   "metadata": {
    "nbgrader": {
     "grade": false,
     "grade_id": "cell-4990640d655a5eaa",
     "locked": true,
     "schema_version": 3,
     "solution": false,
     "task": false
    }
   },
   "source": [
    "**Remark:** The function `print_board()` defined below takes a $m \\times n$ NumPy array as its input and returns a printed image of the live (black) and dead (white) cells. Execute the code below to define the function. "
   ]
  },
  {
   "cell_type": "code",
   "execution_count": 6,
   "metadata": {
    "nbgrader": {
     "grade": false,
     "grade_id": "cell-ff6a95c41f5f4046",
     "locked": true,
     "schema_version": 3,
     "solution": false,
     "task": false
    }
   },
   "outputs": [],
   "source": [
    "import numpy as np\n",
    "import matplotlib.pyplot as plt\n",
    "\n",
    "def print_board(array):\n",
    "    \"\"\"visualizes game board for game of life\"\"\"\n",
    "    plt.imshow(array, cmap = 'binary');"
   ]
  },
  {
   "cell_type": "markdown",
   "metadata": {
    "nbgrader": {
     "grade": false,
     "grade_id": "cell-0c95f5adeed9109b",
     "locked": true,
     "schema_version": 3,
     "solution": false,
     "task": false
    }
   },
   "source": [
    "(c) (1 point) Take the Numpy array `s` defined and visualized below. Apply your evolution function to it and visualize the board (using the `print_board()` function defined above) after three evolution time steps. That is, if the image in the given cell below represents time $t_n$, then show me the image corresponding to $t_{n+3}$.  "
   ]
  },
  {
   "cell_type": "code",
   "execution_count": 7,
   "metadata": {
    "nbgrader": {
     "grade": false,
     "grade_id": "cell-2d625e6bb568a7bd",
     "locked": true,
     "schema_version": 3,
     "solution": false,
     "task": false
    }
   },
   "outputs": [
    {
     "data": {
      "image/png": "[encoded data removed]",
      "text/plain": [
       "<Figure size 432x288 with 1 Axes>"
      ]
     },
     "metadata": {
      "needs_background": "light"
     },
     "output_type": "display_data"
    }
   ],
   "source": [
    "%matplotlib inline\n",
    "\n",
    "import numpy as np\n",
    "import matplotlib.pyplot as plt\n",
    "\n",
    "s = np.zeros((10,10),int)\n",
    "s[1,2] = s[2,3] = s[3,1] = s[3,2] = s[3,3] = 1 # making a specific shape in a 10 by 10 grid. \n",
    "\n",
    "print_board(s)"
   ]
  },
  {
   "cell_type": "code",
   "execution_count": 8,
   "metadata": {
    "nbgrader": {
     "grade": false,
     "grade_id": "cell-03e8ce6ee43d9dd1",
     "locked": true,
     "schema_version": 3,
     "solution": false,
     "task": false
    }
   },
   "outputs": [
    {
     "data": {
      "image/png": "[encoded data removed]",
      "text/plain": [
       "<Figure size 432x288 with 1 Axes>"
      ]
     },
     "metadata": {
      "needs_background": "light"
     },
     "output_type": "display_data"
    }
   ],
   "source": [
    "for i in range(3):\n",
    "    s = evolution(s) # evolving the shape over three time steps. \n",
    "    \n",
    "print_board(s)"
   ]
  },
  {
   "cell_type": "markdown",
   "metadata": {
    "nbgrader": {
     "grade": false,
     "grade_id": "cell-fb500ee3beba9b77",
     "locked": true,
     "schema_version": 3,
     "solution": false,
     "task": false
    }
   },
   "source": [
    "(d) (1 point) What happens to the shape if you take the original array `s` from (c) above and increase the number of evolution time steps? Please describe what you see - you don't have to show your code, just explain in English what happens."
   ]
  },
  {
   "cell_type": "markdown",
   "metadata": {
    "nbgrader": {
     "grade": false,
     "grade_id": "cell-0e91044013d27cf8",
     "locked": true,
     "schema_version": 3,
     "solution": false,
     "task": false
    }
   },
   "source": [
    "The shape \"morphs\" and changes shape. It will eventually return to its original shape but in a different position. Over time, the shape moves towards the lower right corner of the board. "
   ]
  },
  {
   "cell_type": "markdown",
   "metadata": {
    "nbgrader": {
     "grade": false,
     "grade_id": "cell-d4f40477e9d9e311",
     "locked": true,
     "schema_version": 3,
     "solution": false,
     "task": false
    }
   },
   "source": [
    "(d) (3 points) Use either NumPy or Scipy to generate a game-of-life board of size $10 \\times 10$ in which each cell is a Bernoulli(p) random variable. That is, assume that cells are independent and that each value is 1 with probability p or otherwise 0. Start with p=0.5. Visualize your initial board. Alternatively, visualize the board after 100 steps of evolution. Repeat this process for a number of different random seeds (at least 10 different seeds). You do not have to show us your plots (you can only show one plot at a time per Juypter Notebook cell with the `print_board()` function). What happens if you start with a different (larger, smaller) value of p? Please describe what you observe. "
   ]
  },
  {
   "cell_type": "code",
   "execution_count": 9,
   "metadata": {
    "nbgrader": {
     "grade": false,
     "grade_id": "cell-c31ce8e6272572e0",
     "locked": true,
     "schema_version": 3,
     "solution": false,
     "task": false
    }
   },
   "outputs": [
    {
     "data": {
      "image/png": "[encoded data removed]",
      "text/plain": [
       "<Figure size 432x288 with 1 Axes>"
      ]
     },
     "metadata": {
      "needs_background": "light"
     },
     "output_type": "display_data"
    }
   ],
   "source": [
    "p = 0.5\n",
    "\n",
    "np.random.seed(10)\n",
    "gol = np.random.binomial(1,p,(10,10))    \n",
    "#print_board(gol) # visualize original random board\n",
    "\n",
    "for i in range(100):\n",
    "    gol = evolution(gol)\n",
    "        \n",
    "print_board(gol) #visualize board after 100 steps\n",
    "        "
   ]
  },
  {
   "cell_type": "markdown",
   "metadata": {
    "nbgrader": {
     "grade": false,
     "grade_id": "cell-4ddc784173123670",
     "locked": true,
     "schema_version": 3,
     "solution": false,
     "task": false
    }
   },
   "source": [
    "For p=0.5, the board is sometimes empty after 100 time steps (all cells dead). But sometimes, certain shapes remain. Those shapes are always the same: often rectangles or certain other shapes (you can see a list of these \"permanent\" still-life shapes on the [wikipedia site](https://en.wikipedia.org/wiki/Conway%27s_Game_of_Life). For large (p=0.9) or small (p=0.1) start probabilities, the board is much more likely to be empty after 100 steps. "
   ]
  },
  {
   "cell_type": "markdown",
   "metadata": {
    "nbgrader": {
     "grade": false,
     "grade_id": "cell-aeff53a16b5312d4",
     "locked": true,
     "schema_version": 3,
     "solution": false,
     "task": false
    }
   },
   "source": [
    "## Problem 3 ( 3 points) \n",
    "\n",
    "Write a function called \"local_peak\" that takes as its input a one-dimensional Pandas series and returns a list of the positions of all local \"peaks\". That is, your function should return a list of the position values of all numbers in the series have have smaller values on both sides of them. \n",
    "\n",
    "Example: For ```pd.Series([1,3,2,4,4,5,7,4,5])``` your function should return ```[1,6]```.\n",
    "For ```pd.Series([1,2,3,3,3,2])``` your function should return ```[]``` (since there is no local peak in this series, but rather a \"plateau\".)"
   ]
  },
  {
   "cell_type": "code",
   "execution_count": 10,
   "metadata": {
    "nbgrader": {
     "grade": false,
     "grade_id": "cell-f12f4460c0a0508c",
     "locked": true,
     "schema_version": 3,
     "solution": false,
     "task": false
    }
   },
   "outputs": [
    {
     "data": {
      "text/plain": [
       "True"
      ]
     },
     "execution_count": 10,
     "metadata": {},
     "output_type": "execute_result"
    }
   ],
   "source": [
    "import pandas as pd\n",
    "import numpy as np\n",
    "\n",
    "def local_peak(X):\n",
    "    \"\"\"Finds position of local peaks in Pandas Series\"\"\"\n",
    "    argmax_list = []\n",
    "    for i in range(1,len(X)-1):\n",
    "        if (X[i-1]<X[i]) & (X[i]>X[i+1]):\n",
    "            argmax_list.append(i)\n",
    "    return argmax_list\n",
    "\n",
    "# check your answer: \n",
    "X=pd.Series([1,3,2,4,4,5,7,4,5])\n",
    "local_peak(X) == [1,6]"
   ]
  }
 ],
 "metadata": {
  "celltoolbar": "Create Assignment",
  "kernelspec": {
   "display_name": "Python 3",
   "language": "python",
   "name": "python3"
  },
  "language_info": {
   "codemirror_mode": {
    "name": "ipython",
    "version": 3
   },
   "file_extension": ".py",
   "mimetype": "text/x-python",
   "name": "python",
   "nbconvert_exporter": "python",
   "pygments_lexer": "ipython3",
   "version": "3.8.5"
  }
 },
 "nbformat": 4,
 "nbformat_minor": 2
}
