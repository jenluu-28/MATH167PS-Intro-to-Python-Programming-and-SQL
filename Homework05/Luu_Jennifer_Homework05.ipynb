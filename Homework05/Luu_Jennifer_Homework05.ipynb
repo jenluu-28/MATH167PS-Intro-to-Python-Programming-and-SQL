{
 "cells": [
  {
   "cell_type": "markdown",
   "metadata": {},
   "source": [
    "Before you turn this homework in, make sure everything runs as expected. First, **restart the kernel** (in the menubar, select Kernel$\\rightarrow$Restart) and then **run all cells** (in the menubar, select Cell$\\rightarrow$Run All). If you get error messages, the grader will get the same errors and won't be able to grade your work. \n",
    "\n",
    "Make sure you fill in any place that says `YOUR CODE HERE` or \"YOUR ANSWER HERE\". You may delete the line(s) that say \"**raise** NotImplementedError()\" and replace them with your actual work. Write all your work in the cells provided in this notebook. **DO NOT** add or delete any cells. \n",
    "\n",
    "Please fill in your name in the cell below."
   ]
  },
  {
   "cell_type": "code",
   "execution_count": 1,
   "metadata": {},
   "outputs": [],
   "source": [
    "NAME = \"Jennifer Luu\""
   ]
  },
  {
   "cell_type": "markdown",
   "metadata": {},
   "source": [
    "---"
   ]
  },
  {
   "cell_type": "markdown",
   "metadata": {
    "deletable": false,
    "editable": false,
    "nbgrader": {
     "cell_type": "markdown",
     "checksum": "14dca6b286e1119dbd8bfa6307e2703d",
     "grade": false,
     "grade_id": "cell-d52a593a8c020deb",
     "locked": true,
     "schema_version": 3,
     "solution": false,
     "task": false
    }
   },
   "source": [
    "# Homework 5\n",
    "\n",
    "In all problems below, please comment your code sufficiently well so that the grader can follow what you are doing with ease. For non-coding answers, please make sure to formulate your explanation and answers in the form of complete English sentences. It is not sufficient to just leave comments in the code (without full sentence explanations in problems that ask for those) or vice versa (to leave full sentence explanations but not code comments). You will need both to get full credit. "
   ]
  },
  {
   "cell_type": "markdown",
   "metadata": {
    "deletable": false,
    "editable": false,
    "nbgrader": {
     "cell_type": "markdown",
     "checksum": "d17439b3ec1db747d26926c7f1ccfb19",
     "grade": false,
     "grade_id": "cell-08e2c1b9a5e96a6c",
     "locked": true,
     "schema_version": 3,
     "solution": false,
     "task": false
    }
   },
   "source": [
    "## Problem 1 (4 points) \n",
    "\n",
    "The code below generates a random sample from a Poisson distribution. Run the cell to create sample X. "
   ]
  },
  {
   "cell_type": "code",
   "execution_count": 2,
   "metadata": {
    "deletable": false,
    "editable": false,
    "nbgrader": {
     "cell_type": "code",
     "checksum": "2b1537d8e1a47752cbb62bbe41498ad7",
     "grade": false,
     "grade_id": "cell-46f9dd140cecd2c9",
     "locked": true,
     "schema_version": 3,
     "solution": false,
     "task": false
    }
   },
   "outputs": [],
   "source": [
    "import numpy as np\n",
    "from scipy import stats\n",
    "\n",
    "np.random.seed(13)\n",
    "X = stats.poisson(7).rvs(925)"
   ]
  },
  {
   "cell_type": "markdown",
   "metadata": {
    "deletable": false,
    "editable": false,
    "nbgrader": {
     "cell_type": "markdown",
     "checksum": "c1774b0d1a645052e594053833193235",
     "grade": false,
     "grade_id": "cell-3d27aeddf95e1359",
     "locked": true,
     "schema_version": 3,
     "solution": false,
     "task": false
    }
   },
   "source": [
    "Write code to produce a 95\\% bootstrap confidence interval for the mean of that sample. Report your result as a print statement with two after-decimal digit accuracy. Describe your procedure (in English in the Markdown box below) and justify all the choices you make in your code. "
   ]
  },
  {
   "cell_type": "code",
   "execution_count": 3,
   "metadata": {
    "deletable": false,
    "nbgrader": {
     "cell_type": "code",
     "checksum": "9f62b4d268201052681ed60cf8fc59e4",
     "grade": true,
     "grade_id": "cell-14c45308c44c0c69",
     "locked": false,
     "points": 2,
     "schema_version": 3,
     "solution": true,
     "task": false
    }
   },
   "outputs": [
    {
     "data": {
      "image/png": "[encoded data removed]",
      "text/plain": [
       "<Figure size 432x288 with 1 Axes>"
      ]
     },
     "metadata": {
      "needs_background": "light"
     },
     "output_type": "display_data"
    },
    {
     "name": "stdout",
     "output_type": "stream",
     "text": [
      "The 95% confidence interval for the mean of X~Poisson(7) is [ 6.84 , 7.19 ].\n"
     ]
    }
   ],
   "source": [
    "# YOUR CODE HERE\n",
    "import matplotlib.pyplot as plt\n",
    "\n",
    "m = np.mean(X) #real mean 7.014\n",
    "\n",
    "n = 100000 #set 10000 trails for solutions to stabilize after 2 decimal places\n",
    "bootstrap_sample_means = [] #initialize empty list to hold sample means from bootstrap sample\n",
    "\n",
    "for i in range(n): \n",
    "    bs_sample = np.random.choice(X, size = 925) #create one bootstrap sample with replacement with the same sample size\n",
    "    bootstrap_sample_means.append(np.mean(bs_sample)) #obtain sample mean and add to list\n",
    "    \n",
    "plt.hist(bootstrap_sample_means) #plot a histogram to see the distribution and variability of sample means \n",
    "plt.show()\n",
    "\n",
    "#create the lower and upper bounds for the 95% confidence interval \n",
    "lower_bound = np.percentile(bootstrap_sample_means, 2.5) #2.5th percentile\n",
    "upper_bound = np.percentile(bootstrap_sample_means, 97.5) #97.7th percentile\n",
    "\n",
    "print(\"The 95% confidence interval for the mean of X~Poisson(7) is [\",round(lower_bound, 2),\",\", round(upper_bound,2),\"].\" )\n"
   ]
  },
  {
   "cell_type": "markdown",
   "metadata": {
    "deletable": false,
    "nbgrader": {
     "cell_type": "markdown",
     "checksum": "401e13eff51845083c924ae1d4a61ea5",
     "grade": true,
     "grade_id": "cell-0a4447350367e6ba",
     "locked": false,
     "points": 2,
     "schema_version": 3,
     "solution": true,
     "task": false
    }
   },
   "source": [
    "Since bootstrapping relies on resampling, I created a bootstrap sample (with replacement) from the original Poisson(7) sample. I did this 100,000 times for the solution to stabilize. In each trial, I computed the sample mean from the bootstrap sample and added that to a list of bootstrap sample means.\n",
    "\n",
    "Once I had all the means, I created a histogram to see the distribution and the variability of the mean estimates. Having a visual representation of the estimates allowed me to gauge where 95% of the data lies in. \n",
    "\n",
    "I computed the lower and upper bounds by cutting off 5%/2 from the tails to get the 2.5th and 97.5th percentiles, respectively. The 95% confidence interval is then made up of those lower and upper bounds. \n",
    "\n"
   ]
  },
  {
   "cell_type": "markdown",
   "metadata": {
    "deletable": false,
    "editable": false,
    "nbgrader": {
     "cell_type": "markdown",
     "checksum": "19b6dbbad6c6400e2ed63df3c26935a2",
     "grade": false,
     "grade_id": "cell-5001ea8e93e8e42d",
     "locked": true,
     "schema_version": 3,
     "solution": false,
     "task": false
    }
   },
   "source": [
    "## Problem 2\n",
    "\n",
    "Conway's [game of life](https://en.wikipedia.org/wiki/Conway%27s_Game_of_Life) is a cellular automaton. There aren't any actual players in this \"game\". Instead the game board evolves according to some specific rules. In this problem, we will simlulate a game board for the game-of-life and study its evolution. \n",
    "\n",
    "Consider a two-dimensional $m \\times n$ grid (think two-dimensional NumPy array). Each entry in the array is either 1 (represents a \"live\" cell) or 0 (represents a dead cell). Time is discrete. That is, we consider time points $t_1, t_2 \\ldots$. \n",
    "\n",
    "Here are the rules for evolution from some time point $t_n$ to the next $t_{n+1}$:\n",
    "\n",
    "- Any live cell with fewer than two live neighbours dies, as if by underpopulation.\n",
    "- Any live cell with two or three live neighbours lives on to the next generation.\n",
    "- Any live cell with more than three live neighbours dies, as if by overpopulation.\n",
    "- Any dead cell with exactly three live neighbours becomes a live cell, as if by reproduction.\n",
    "\n",
    "Please note, that changes are only implemented in the next time-step. That means for each cell in the array, we will apply the above rules to decide whether it will live or die and then implement the changed board for the next time step after evaluating all cells. We will assume that the board has a torus structure. That means cells in the upper-most row are assumed to neighbor the cells in the lower-most row and similarly, the cells in the left-most column are assumed to neighbor the cells in the right-most column.\n",
    "\n",
    "**Example**: each cell on the board has eight neighbors. The four cells to the top, bottom, left, and right as well as the four diagonally bordering cells. In the $5 \\times 5$ example shown below, the eight neighbors of the black cell at (0,0) are shown in red. Execute the code below to see the image. "
   ]
  },
  {
   "cell_type": "code",
   "execution_count": 4,
   "metadata": {
    "deletable": false,
    "editable": false,
    "nbgrader": {
     "cell_type": "code",
     "checksum": "49d9ac7ce4f42d7d01bc52b8d3d59003",
     "grade": false,
     "grade_id": "cell-250e77f28885f4b8",
     "locked": true,
     "schema_version": 3,
     "solution": false,
     "task": false
    }
   },
   "outputs": [
    {
     "data": {
      "image/png": "[encoded data removed]",
      "text/plain": [
       "<Figure size 432x288 with 1 Axes>"
      ]
     },
     "metadata": {
      "needs_background": "light"
     },
     "output_type": "display_data"
    }
   ],
   "source": [
    "import numpy as np\n",
    "import matplotlib.pyplot as plt\n",
    "\n",
    "a = 2*np.ones((5, 5), int) # make numpy array with data\n",
    "a[0,0] = 0                 # black cell\n",
    "a[0,1] = a[1,0] = a[1,1] = a[4,4] = a[4,0] = a[4,1] = a[0,4] = a[1,4] = 1 # red cells\n",
    "plt.imshow(a, cmap='hot');            # create heatmap 0 is black, 1 is red, 2 is white\n",
    "                                      # don't worry - you don't have to understand the plot commands, yet. "
   ]
  },
  {
   "cell_type": "markdown",
   "metadata": {
    "deletable": false,
    "editable": false,
    "nbgrader": {
     "cell_type": "markdown",
     "checksum": "ad0a1def4a808e9cb2485b1a9e5e6e5f",
     "grade": false,
     "grade_id": "cell-71ba0963ca8206d3",
     "locked": true,
     "schema_version": 3,
     "solution": false,
     "task": false
    }
   },
   "source": [
    "(a) (2 points) Write a function called `valid_board()` that determines whether a $m\\times n$ numpy array is a valid game-of-life board. That means that your function should return the boolean value `True` if every entry is either 0 or 1 and otherwise should return `False`. "
   ]
  },
  {
   "cell_type": "code",
   "execution_count": 5,
   "metadata": {
    "deletable": false,
    "nbgrader": {
     "cell_type": "code",
     "checksum": "f875a1a5c3d0c7925c3aa6242f87b610",
     "grade": true,
     "grade_id": "cell-df1254b47a71068d",
     "locked": false,
     "points": 2,
     "schema_version": 3,
     "solution": true,
     "task": false
    }
   },
   "outputs": [],
   "source": [
    "def valid_board(array):\n",
    "    \"\"\"checks whether NumPy array is valid game board for game-of-life\"\"\"\n",
    "    # YOUR CODE HERE\n",
    "    board = np.logical_or(array==0,array==1) #check each entry in the numpy array is either a 0 or 1 \n",
    "    if np.all(board)==True: #if all entries are True, then the array is a valid game-of-life board\n",
    "        return True \n",
    "    else:\n",
    "        return False\n"
   ]
  },
  {
   "cell_type": "markdown",
   "metadata": {
    "deletable": false,
    "editable": false,
    "nbgrader": {
     "cell_type": "markdown",
     "checksum": "c10c3bc9e5dad6cc96191ae80d3de239",
     "grade": false,
     "grade_id": "cell-e9b7de9967373330",
     "locked": true,
     "schema_version": 3,
     "solution": false,
     "task": false
    }
   },
   "source": [
    "(b) (6 points) Write a function called `evolution()` that takes as its input a two-dimendional Numpy array. Check, whether the array is a valid game-of-life board. If it is, return the board at the next evolution time step (that is apply the above rules to every cell and return a game board with live or dead cells one time step later). If the board is not valid, return the print statement \"your board is not valid\". \n",
    "\n",
    "Don't forget to comment your code!"
   ]
  },
  {
   "cell_type": "code",
   "execution_count": 6,
   "metadata": {
    "deletable": false,
    "nbgrader": {
     "cell_type": "code",
     "checksum": "c2492950a0cf0e6daab263f48304e833",
     "grade": true,
     "grade_id": "cell-913c67203c7a5103",
     "locked": false,
     "points": 6,
     "schema_version": 3,
     "solution": true,
     "task": false
    }
   },
   "outputs": [],
   "source": [
    "def evolution(array):\n",
    "    \"\"\"evolves game board for game-of-life for one time-step\"\"\"\n",
    "    # YOUR CODE HERE\n",
    "    if valid_board(array)==True: #condition check if the array is a valid game-of-life \n",
    "        \n",
    "        Y = array.copy()\n",
    "        \n",
    "        m = array.shape[0] #number of rows\n",
    "        n = array.shape[1] #number of columns\n",
    "        \n",
    "        for i in range(m): #cycle through every cell in the array\n",
    "            for j in range(n):\n",
    "                current = array[i,j] #look at the current cell\n",
    "                \n",
    "                count = 0 #initialize live neighbor count\n",
    "                \n",
    "                #obtain 3x3 array for neighbors\n",
    "                #use mod%m or mod%n to cycle through rows/columns for torus shape \n",
    "                top_row = [array[(i-1)%m,(j-1)%n], array[(i-1)%m,j], array[(i-1)%m,(j+1)%n]] \n",
    "                middle_row = [array[i,(j-1)%n], array[i,j], array[i, (j+1)%n]]\n",
    "                bottom_row = [array[(i+1)%m, (j-1)%n], array[(i+1)%m,j], array[(i+1)%m,(j+1)%n]]\n",
    "                \n",
    "                #put together the neighbors array\n",
    "                eight_neighbors = np.array([top_row, middle_row, bottom_row])\n",
    "            \n",
    "                #cycle through the neighbors surrounding the current cell \n",
    "                for a in range(3):\n",
    "                    for b in range(3):\n",
    "                        if a==1 and b==1:  #skip the center, this is the current cell \n",
    "                            continue\n",
    "                        elif eight_neighbors[a,b]==1: #if the neighbor is alive (==1), increment counter\n",
    "                            count = count + 1\n",
    "                            \n",
    "                if current == 0 and count == 3: #if a cell is dead and has 3 live neighbors, it lives\n",
    "                    Y[i,j] = 1\n",
    "                \n",
    "                elif current == 1: #if a cell is alive and has less than 2 live neighbors, it dies\n",
    "                    if count < 2: \n",
    "                        Y[i,j] = 0\n",
    "                        \n",
    "                    elif count > 3: #if a cell is alive and has more than 3 live neighbors, it dies\n",
    "                        Y[i,j] = 0 \n",
    "        return Y \n",
    "        #do something here to return the next evolution time step\n",
    "    else:\n",
    "        print(\"Your board is not valid!\")\n",
    "        "
   ]
  },
  {
   "cell_type": "markdown",
   "metadata": {
    "deletable": false,
    "editable": false,
    "nbgrader": {
     "cell_type": "markdown",
     "checksum": "aaabfc7dc0a399816439066c1ad0533a",
     "grade": false,
     "grade_id": "cell-d1f88e07e1278b59",
     "locked": true,
     "schema_version": 3,
     "solution": false,
     "task": false
    }
   },
   "source": [
    "**Optional:** If you are not able to implement the `evolution()` function above, provide a written description of your algorithm here instead for potential partial credit. "
   ]
  },
  {
   "cell_type": "markdown",
   "metadata": {
    "deletable": false,
    "nbgrader": {
     "cell_type": "markdown",
     "checksum": "50cd10396fb7512327148cbd9bb24e68",
     "grade": true,
     "grade_id": "cell-5c9b5e32ba2fbf53",
     "locked": false,
     "points": 0,
     "schema_version": 3,
     "solution": true,
     "task": false
    }
   },
   "source": [
    "YOUR ANSWER HERE"
   ]
  },
  {
   "cell_type": "markdown",
   "metadata": {
    "deletable": false,
    "editable": false,
    "nbgrader": {
     "cell_type": "markdown",
     "checksum": "e0a32e57bb55c42741038069945aa003",
     "grade": false,
     "grade_id": "cell-4990640d655a5eaa",
     "locked": true,
     "schema_version": 3,
     "solution": false,
     "task": false
    }
   },
   "source": [
    "**Remark:** The function `print_board()` defined below takes a $m \\times n$ NumPy array as its input and returns a printed image of the live (black) and dead (white) cells. Execute the code below to define the function. "
   ]
  },
  {
   "cell_type": "code",
   "execution_count": 7,
   "metadata": {
    "deletable": false,
    "editable": false,
    "nbgrader": {
     "cell_type": "code",
     "checksum": "660d418144d4dad73e7bf3af4b8820b0",
     "grade": false,
     "grade_id": "cell-ff6a95c41f5f4046",
     "locked": true,
     "schema_version": 3,
     "solution": false,
     "task": false
    }
   },
   "outputs": [],
   "source": [
    "import numpy as np\n",
    "import matplotlib.pyplot as plt\n",
    "\n",
    "def print_board(array):\n",
    "    \"\"\"visualizes game board for game of life\"\"\"\n",
    "    plt.imshow(array, cmap = 'binary');"
   ]
  },
  {
   "cell_type": "markdown",
   "metadata": {
    "deletable": false,
    "editable": false,
    "nbgrader": {
     "cell_type": "markdown",
     "checksum": "82c0f5f979644fc5cef89df76b6862c9",
     "grade": false,
     "grade_id": "cell-0c95f5adeed9109b",
     "locked": true,
     "schema_version": 3,
     "solution": false,
     "task": false
    }
   },
   "source": [
    "(c) (1 point) Take the Numpy array `s` defined and visualized below. Apply your evolution function to it and visualize the board (using the `print_board()` function defined above) after three evolution time steps. That is, if the image in the given cell below represents time $t_n$, then show me the image corresponding to $t_{n+3}$.  "
   ]
  },
  {
   "cell_type": "code",
   "execution_count": 8,
   "metadata": {
    "deletable": false,
    "editable": false,
    "nbgrader": {
     "cell_type": "code",
     "checksum": "9813608d678800723f0ab19dc007ce30",
     "grade": false,
     "grade_id": "cell-2d625e6bb568a7bd",
     "locked": true,
     "schema_version": 3,
     "solution": false,
     "task": false
    }
   },
   "outputs": [
    {
     "data": {
      "image/png": "[encoded data removed]",
      "text/plain": [
       "<Figure size 432x288 with 1 Axes>"
      ]
     },
     "metadata": {
      "needs_background": "light"
     },
     "output_type": "display_data"
    }
   ],
   "source": [
    "%matplotlib inline\n",
    "\n",
    "import numpy as np\n",
    "import matplotlib.pyplot as plt\n",
    "\n",
    "s = np.zeros((10,10),int)\n",
    "s[1,2] = s[2,3] = s[3,1] = s[3,2] = s[3,3] = 1 # making a specific shape in a 10 by 10 grid. \n",
    "\n",
    "print_board(s)"
   ]
  },
  {
   "cell_type": "code",
   "execution_count": 9,
   "metadata": {
    "deletable": false,
    "nbgrader": {
     "cell_type": "code",
     "checksum": "b14a59aee8c3673a8f9ac0ec94c69340",
     "grade": true,
     "grade_id": "cell-03e8ce6ee43d9dd1",
     "locked": false,
     "points": 1,
     "schema_version": 3,
     "solution": true,
     "task": false
    }
   },
   "outputs": [
    {
     "data": {
      "image/png": "[encoded data removed]",
      "text/plain": [
       "<Figure size 432x288 with 1 Axes>"
      ]
     },
     "metadata": {
      "needs_background": "light"
     },
     "output_type": "display_data"
    }
   ],
   "source": [
    "# YOUR CODE HERE\n",
    "for i in range(3): #execute three evolution time steps \n",
    "    s = evolution(s)\n",
    "    \n",
    "print_board(s) #image corresponding to t-sub(n+3)"
   ]
  },
  {
   "cell_type": "markdown",
   "metadata": {
    "deletable": false,
    "editable": false,
    "nbgrader": {
     "cell_type": "markdown",
     "checksum": "2e8c9373ad3cfdbbeec1c7620d9d1c3c",
     "grade": false,
     "grade_id": "cell-fb500ee3beba9b77",
     "locked": true,
     "schema_version": 3,
     "solution": false,
     "task": false
    }
   },
   "source": [
    "(d) (1 point) What happens to the shape if you take the original array `s` from (c) above and increase the number of evolution time steps? Please describe what you see - you don't have to show your code, just explain in English what happens."
   ]
  },
  {
   "cell_type": "markdown",
   "metadata": {
    "deletable": false,
    "nbgrader": {
     "cell_type": "markdown",
     "checksum": "72996febcd1260790ab480a42cf0edd5",
     "grade": true,
     "grade_id": "cell-0e91044013d27cf8",
     "locked": false,
     "points": 1,
     "schema_version": 3,
     "solution": true,
     "task": false
    }
   },
   "source": [
    "When I increase the number of evolution time steps (ex. from 3 to 10), I notice that the shape of the array s gradually rotates and moves towards the lower right hand corner. Once it approaches the corner, the array \"restarts\" and appears in the upper left hand corner. It continues to move diagonally to the lower right hand corner in a loop. "
   ]
  },
  {
   "cell_type": "markdown",
   "metadata": {
    "deletable": false,
    "editable": false,
    "nbgrader": {
     "cell_type": "markdown",
     "checksum": "c9e007e4a8da5876038541b5f723a211",
     "grade": false,
     "grade_id": "cell-d4f40477e9d9e311",
     "locked": true,
     "schema_version": 3,
     "solution": false,
     "task": false
    }
   },
   "source": [
    "(d) (3 points) Use either NumPy or Scipy to generate a game-of-life board of size $10 \\times 10$ in which each cell is a Bernoulli(p) random variable. That is, assume that cells are independent and that each value is 1 with probability p or otherwise 0. Start with p=0.5. Visualize your initial board. Alternatively, visualize the board after 100 steps of evolution. Repeat this process for a number of different random seeds (at least 10 different seeds). You do not have to show us your plots (you can only show one plot at a time per Juypter Notebook cell with the `print_board()` function). What happens if you start with a different (larger, smaller) value of p? Please describe what you observe. "
   ]
  },
  {
   "cell_type": "code",
   "execution_count": 21,
   "metadata": {
    "deletable": false,
    "nbgrader": {
     "cell_type": "code",
     "checksum": "986e6ba1d33391ced6ba9444d24304ec",
     "grade": true,
     "grade_id": "cell-c31ce8e6272572e0",
     "locked": false,
     "points": 2,
     "schema_version": 3,
     "solution": true,
     "task": false
    }
   },
   "outputs": [
    {
     "data": {
      "image/png": "[encoded data removed]",
      "text/plain": [
       "<Figure size 432x288 with 1 Axes>"
      ]
     },
     "metadata": {
      "needs_background": "light"
     },
     "output_type": "display_data"
    }
   ],
   "source": [
    "# YOUR CODE HERE\n",
    "import random\n",
    "import numpy as np\n",
    "from scipy import stats\n",
    "\n",
    "random.seed(16)\n",
    "\n",
    "#Generate a game-of-life board that is 10x10 in which each cell is a Bernoulli random variable\n",
    "myboard = np.array([stats.bernoulli(0.3).rvs(100)]).reshape((10,10))\n",
    "print_board(myboard) #initial board \n",
    "\n",
    "for i in range(100): #execute 100 steps of evolution \n",
    "    myboard = evolution(myboard)\n",
    "    \n",
    "print_board(myboard) #print final board\n"
   ]
  },
  {
   "cell_type": "markdown",
   "metadata": {
    "deletable": false,
    "nbgrader": {
     "cell_type": "markdown",
     "checksum": "0cbb5d20a48c4d8c84d2fe13bd3cbc5b",
     "grade": true,
     "grade_id": "cell-4ddc784173123670",
     "locked": false,
     "points": 1,
     "schema_version": 3,
     "solution": true,
     "task": false
    }
   },
   "source": [
    "Not depicted in code: I tested the scenario with random seeds 10-20 and used probabilities p = 0.1-0.9. \n",
    "\n",
    "When I use smaller values of p (0.1-0.4), I notice that my initial board has sparser live cells (fewer black squares). After applying the evolution function 100 times on my initial board to simulate 100 time steps, sometimes my final board is completely blank (all dead cells). Other times, the final board stabilizes to have some patterns such as a blinker (1x2 or 2x1 blocks), tub, loaf, square, beehive, and some other clusters of live cells. \n",
    "\n",
    "For middle values of p (0.5-0.6), my initial board is mostly evenly distributed with live and dead cells. After 100 time steps of evolution, the final board continues to exhibit some of the similar patterns mentioned for values of p from 0.1 to 0.4.\n",
    "\n",
    "When I use larger values of p(0.7-1.0), I notice that my initial board is highly populated with live cells. The larger the value of p, the more covered the board is at time = 0. However, after 100 steps of evolution, the final board is almost always blank. The majority of the cells are dead. \n",
    "\n"
   ]
  },
  {
   "cell_type": "markdown",
   "metadata": {
    "deletable": false,
    "editable": false,
    "nbgrader": {
     "cell_type": "markdown",
     "checksum": "f913159491a0c552a497d125d45a4112",
     "grade": false,
     "grade_id": "cell-aeff53a16b5312d4",
     "locked": true,
     "schema_version": 3,
     "solution": false,
     "task": false
    }
   },
   "source": [
    "## Problem 3 ( 3 points) \n",
    "\n",
    "Write a function called \"local_peak\" that takes as its input a one-dimensional Pandas series and returns a list of the positions of all local \"peaks\". That is, your function should return a list of the position values of all numbers in the series have have smaller values on both sides of them. \n",
    "\n",
    "Example: For ```pd.Series([1,3,2,4,4,5,7,4,5])``` your function should return ```[1,6]```.\n",
    "For ```pd.Series([1,2,3,3,3,2])``` your function should return ```[]``` (since there is no local peak in this series, but rather a \"plateau\".)"
   ]
  },
  {
   "cell_type": "code",
   "execution_count": 11,
   "metadata": {
    "deletable": false,
    "nbgrader": {
     "cell_type": "code",
     "checksum": "49d6f5c5afaeb293d7007d521d8564fe",
     "grade": true,
     "grade_id": "cell-f12f4460c0a0508c",
     "locked": false,
     "points": 3,
     "schema_version": 3,
     "solution": true,
     "task": false
    }
   },
   "outputs": [
    {
     "data": {
      "text/plain": [
       "True"
      ]
     },
     "execution_count": 11,
     "metadata": {},
     "output_type": "execute_result"
    }
   ],
   "source": [
    "import pandas as pd\n",
    "import numpy as np\n",
    "\n",
    "def local_peak(X):\n",
    "    \"\"\"Finds position of local peaks in Pandas Series\"\"\"\n",
    "    # YOUR CODE HERE\n",
    "    indx_peaks = [] #initialize list to hold index of local peaks\n",
    "    Y = list(X) #convert X into a list \n",
    "    for i in range(1, len(Y)-1): #start iterating at the 2nd index until the second to last position\n",
    "        if Y[i-1] < Y[i] and Y[i] > Y[i+1]: #compare the before and after value to the current one\n",
    "            indx_peaks.append(i) #add the index if a local peak is found\n",
    "    return indx_peaks \n",
    "    \n",
    "    \n",
    "    \n",
    "# check your answer: \n",
    "X=pd.Series([1,3,2,4,4,5,7,4,5])\n",
    "local_peak(X) == [1,6]\n"
   ]
  }
 ],
 "metadata": {
  "kernelspec": {
   "display_name": "Python 3",
   "language": "python",
   "name": "python3"
  },
  "language_info": {
   "codemirror_mode": {
    "name": "ipython",
    "version": 3
   },
   "file_extension": ".py",
   "mimetype": "text/x-python",
   "name": "python",
   "nbconvert_exporter": "python",
   "pygments_lexer": "ipython3",
   "version": "3.8.5"
  }
 },
 "nbformat": 4,
 "nbformat_minor": 2
}
