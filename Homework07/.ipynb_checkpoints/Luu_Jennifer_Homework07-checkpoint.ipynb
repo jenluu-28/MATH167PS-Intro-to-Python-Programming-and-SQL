{
 "cells": [
  {
   "cell_type": "markdown",
   "metadata": {},
   "source": [
    "Before you turn this homework in, make sure everything runs as expected. First, **restart the kernel** (in the menubar, select Kernel$\\rightarrow$Restart) and then **run all cells** (in the menubar, select Cell$\\rightarrow$Run All). If you get error messages, the grader will get the same errors and won't be able to grade your work. \n",
    "\n",
    "Make sure you fill in any place that says `YOUR CODE HERE` or \"YOUR ANSWER HERE\". You may delete the line(s) that say \"**raise** NotImplementedError()\" and replace them with your actual work. Write all your work in the cells provided in this notebook. **DO NOT** add or delete any cells. \n",
    "\n",
    "Please fill in your name in the cell below."
   ]
  },
  {
   "cell_type": "code",
   "execution_count": 1,
   "metadata": {},
   "outputs": [],
   "source": [
    "NAME = \"Jennifer Luu\""
   ]
  },
  {
   "cell_type": "markdown",
   "metadata": {},
   "source": [
    "---"
   ]
  },
  {
   "cell_type": "markdown",
   "metadata": {
    "deletable": false,
    "editable": false,
    "nbgrader": {
     "cell_type": "markdown",
     "checksum": "ba993e8390ed5a342f0374876ce2516c",
     "grade": false,
     "grade_id": "cell-13b6f13920352efb",
     "locked": true,
     "schema_version": 3,
     "solution": false,
     "task": false
    }
   },
   "source": [
    "# Homework 7\n",
    "\n",
    "**Disclaimer:** For this assignment, there are some things that you are asked to do that we have not explicitly done in class. \n",
    "For example, you will be asked to modify figures in Matplotlib in new ways. Please use your favorite search engine to look up how to do these things. Realistically, when you use Python in your jobs in the future you will be spending a significant portion of your time to look up new things. And it's never too early to practice that skill. \n",
    "\n",
    "## Problem\n",
    "\n",
    "You can find the data files \"Mouse_metadata.csv\" and \"Study_results.csv\" which you will need for this homework on Canvas. \n",
    "\n",
    "In a pharmaceutical study, 249 mice identified with squamous cell carcinoma (skin cancer) tumor growth were treated with a variety of drug regimens. Over the course of 45 days, tumor development was observed and measured. The scientists measured the tumor growth over time (volume in $mm^3$) and the number of metastatic sites. The purpose of the study was to compare the performace of the new drug \"Capomulin\" to several other existing drug regimens. \n",
    "\n",
    "Begin by loading the two data sets into Pandas as data frames. "
   ]
  },
  {
   "cell_type": "code",
   "execution_count": 2,
   "metadata": {
    "deletable": false,
    "nbgrader": {
     "cell_type": "code",
     "checksum": "51e823439f7b5999fd41cfc3aaca9744",
     "grade": true,
     "grade_id": "cell-a0a286a56cdbaeea",
     "locked": false,
     "points": 0,
     "schema_version": 3,
     "solution": true,
     "task": false
    }
   },
   "outputs": [
    {
     "data": {
      "text/html": [
       "<div>\n",
       "<style scoped>\n",
       "    .dataframe tbody tr th:only-of-type {\n",
       "        vertical-align: middle;\n",
       "    }\n",
       "\n",
       "    .dataframe tbody tr th {\n",
       "        vertical-align: top;\n",
       "    }\n",
       "\n",
       "    .dataframe thead th {\n",
       "        text-align: right;\n",
       "    }\n",
       "</style>\n",
       "<table border=\"1\" class=\"dataframe\">\n",
       "  <thead>\n",
       "    <tr style=\"text-align: right;\">\n",
       "      <th></th>\n",
       "      <th>Mouse ID</th>\n",
       "      <th>Timepoint</th>\n",
       "      <th>Tumor Volume (mm3)</th>\n",
       "      <th>Metastatic Sites</th>\n",
       "    </tr>\n",
       "  </thead>\n",
       "  <tbody>\n",
       "    <tr>\n",
       "      <th>0</th>\n",
       "      <td>b128</td>\n",
       "      <td>0</td>\n",
       "      <td>45.000000</td>\n",
       "      <td>0</td>\n",
       "    </tr>\n",
       "    <tr>\n",
       "      <th>1</th>\n",
       "      <td>f932</td>\n",
       "      <td>0</td>\n",
       "      <td>45.000000</td>\n",
       "      <td>0</td>\n",
       "    </tr>\n",
       "    <tr>\n",
       "      <th>2</th>\n",
       "      <td>g107</td>\n",
       "      <td>0</td>\n",
       "      <td>45.000000</td>\n",
       "      <td>0</td>\n",
       "    </tr>\n",
       "    <tr>\n",
       "      <th>3</th>\n",
       "      <td>a457</td>\n",
       "      <td>0</td>\n",
       "      <td>45.000000</td>\n",
       "      <td>0</td>\n",
       "    </tr>\n",
       "    <tr>\n",
       "      <th>4</th>\n",
       "      <td>c819</td>\n",
       "      <td>0</td>\n",
       "      <td>45.000000</td>\n",
       "      <td>0</td>\n",
       "    </tr>\n",
       "    <tr>\n",
       "      <th>...</th>\n",
       "      <td>...</td>\n",
       "      <td>...</td>\n",
       "      <td>...</td>\n",
       "      <td>...</td>\n",
       "    </tr>\n",
       "    <tr>\n",
       "      <th>1888</th>\n",
       "      <td>r944</td>\n",
       "      <td>45</td>\n",
       "      <td>41.581521</td>\n",
       "      <td>2</td>\n",
       "    </tr>\n",
       "    <tr>\n",
       "      <th>1889</th>\n",
       "      <td>u364</td>\n",
       "      <td>45</td>\n",
       "      <td>31.023923</td>\n",
       "      <td>3</td>\n",
       "    </tr>\n",
       "    <tr>\n",
       "      <th>1890</th>\n",
       "      <td>p438</td>\n",
       "      <td>45</td>\n",
       "      <td>61.433892</td>\n",
       "      <td>1</td>\n",
       "    </tr>\n",
       "    <tr>\n",
       "      <th>1891</th>\n",
       "      <td>x773</td>\n",
       "      <td>45</td>\n",
       "      <td>58.634971</td>\n",
       "      <td>4</td>\n",
       "    </tr>\n",
       "    <tr>\n",
       "      <th>1892</th>\n",
       "      <td>b879</td>\n",
       "      <td>45</td>\n",
       "      <td>72.555239</td>\n",
       "      <td>2</td>\n",
       "    </tr>\n",
       "  </tbody>\n",
       "</table>\n",
       "<p>1893 rows × 4 columns</p>\n",
       "</div>"
      ],
      "text/plain": [
       "     Mouse ID  Timepoint  Tumor Volume (mm3)  Metastatic Sites\n",
       "0        b128          0           45.000000                 0\n",
       "1        f932          0           45.000000                 0\n",
       "2        g107          0           45.000000                 0\n",
       "3        a457          0           45.000000                 0\n",
       "4        c819          0           45.000000                 0\n",
       "...       ...        ...                 ...               ...\n",
       "1888     r944         45           41.581521                 2\n",
       "1889     u364         45           31.023923                 3\n",
       "1890     p438         45           61.433892                 1\n",
       "1891     x773         45           58.634971                 4\n",
       "1892     b879         45           72.555239                 2\n",
       "\n",
       "[1893 rows x 4 columns]"
      ]
     },
     "execution_count": 2,
     "metadata": {},
     "output_type": "execute_result"
    }
   ],
   "source": [
    "# YOUR CODE HERE\n",
    "import pandas as pd\n",
    "\n",
    "file_path_mouse = \"C:/Users/Jen/Documents/Math 167PS/Homework/Homework07/Mouse_metadata.csv\"\n",
    "file_path_results = \"C:/Users/Jen/Documents/Math 167PS/Homework/Homework07/Study_results.csv\"\n",
    "\n",
    "mouse = pd.read_csv(file_path_mouse)\n",
    "results = pd.read_csv(file_path_results)\n",
    "\n",
    "results"
   ]
  },
  {
   "cell_type": "markdown",
   "metadata": {
    "deletable": false,
    "editable": false,
    "nbgrader": {
     "cell_type": "markdown",
     "checksum": "7c62650d25c13bd618a032d02dc71f11",
     "grade": false,
     "grade_id": "cell-256587c1c7a51cbb",
     "locked": true,
     "schema_version": 3,
     "solution": false,
     "task": false
    }
   },
   "source": [
    "(a) Describe the two data files. How many rows and columns are in each file? What variables are in the columns? What is in the rows? What is the Pandas index currently used? Do the two files have any common columns?"
   ]
  },
  {
   "cell_type": "markdown",
   "metadata": {
    "deletable": false,
    "nbgrader": {
     "cell_type": "markdown",
     "checksum": "508c96358887a74ebabac764e167bbb4",
     "grade": true,
     "grade_id": "cell-003dd665be18ca95",
     "locked": false,
     "points": 1,
     "schema_version": 3,
     "solution": true,
     "task": false
    }
   },
   "source": [
    "**Mouse metadata:** The mouse metadata has 249 rows and 5 columns. The columns represent the variables, which are mouse ID, drug regimen, sex, age in months, and weight in grams. The rows represent how many mice there are and their respective data according to the columns. The index used is the original Pandas index, which goes from 0-248. \n",
    "\n",
    "**Results:** The results data has 1893 rows and 4 columns. The columns represent the variables, which are mouse ID, time point (day number), tumor volumne in cubic millimeters, and metastatic sites. The rows represent the mouse (identified by ID) and its data (tumor volume and metastatic sites) by timepoint. There can be multiple observations (rows) for each mouse. The index used is the original Pandas index, which goes from 0-1892. \n",
    "\n",
    "**Both:** The two files only have mouse ID as the common column. "
   ]
  },
  {
   "cell_type": "markdown",
   "metadata": {
    "deletable": false,
    "editable": false,
    "nbgrader": {
     "cell_type": "markdown",
     "checksum": "58b61a384fb4d8bae81c5afe7082ee33",
     "grade": false,
     "grade_id": "cell-58bdc12dfe4d0b35",
     "locked": true,
     "schema_version": 3,
     "solution": false,
     "task": false
    }
   },
   "source": [
    "(b) Write Pandas code to find the number of male and female mice that were subjected to each drug regimen. Save the results as a Pandas data frame with the names of the drugs as the index and two columns (one for male, one for female). The two columns should contain the counts of individuals subjected to each drug regimen. Display your resulting data frame using a print statement. "
   ]
  },
  {
   "cell_type": "code",
   "execution_count": 3,
   "metadata": {
    "deletable": false,
    "nbgrader": {
     "cell_type": "code",
     "checksum": "f5dde786612b72300e2b5ad69cd0ed9c",
     "grade": true,
     "grade_id": "cell-da0e011044c79db0",
     "locked": false,
     "points": 2,
     "schema_version": 3,
     "solution": true,
     "task": false
    }
   },
   "outputs": [
    {
     "name": "stdout",
     "output_type": "stream",
     "text": [
      "The number of males and females subjected under each drug is represented below: \n",
      "\n",
      "Sex           Female  Male\n",
      "Drug Regimen              \n",
      "Capomulin         13    12\n",
      "Ceftamin          13    12\n",
      "Infubinol         12    13\n",
      "Ketapril           9    16\n",
      "Naftisol          13    12\n",
      "Placebo           13    12\n",
      "Propriva          12    13\n",
      "Ramicane           9    16\n",
      "Stelasyn          15     9\n",
      "Zoniferol         15    10\n"
     ]
    }
   ],
   "source": [
    "# YOUR CODE HERE\n",
    "\n",
    "#grouby = split data into groups based on drug regiment \n",
    "#[\"Sex\"] to select column \n",
    "#value_counts to return a series with the counts of unique values in that column\n",
    "#unstack to get two columns for sex \n",
    "\n",
    "sex_drug_count = mouse.groupby(\"Drug Regimen\")[\"Sex\"].value_counts().unstack()\n",
    "\n",
    "print(\"The number of males and females subjected under each drug is represented below: \\n\")\n",
    "\n",
    "print(sex_drug_count)"
   ]
  },
  {
   "cell_type": "markdown",
   "metadata": {
    "deletable": false,
    "editable": false,
    "nbgrader": {
     "cell_type": "markdown",
     "checksum": "827ee539bf2335e673c323ac71ef6603",
     "grade": false,
     "grade_id": "cell-0c1365ae75cd6a55",
     "locked": true,
     "schema_version": 3,
     "solution": false,
     "task": false
    }
   },
   "source": [
    "(c) Use Matplotlib to create a side-by-side bar plot that shows the numbers of males and females under each drug regimen. Make sure to label your plot (label the bar groups with the names of the drugs, create a legend, label the y-axis and title your plot). Use different colors for males (blue) and females (red). Look up how to rotate axis lables (to make all the drug names readable). "
   ]
  },
  {
   "cell_type": "code",
   "execution_count": 4,
   "metadata": {
    "deletable": false,
    "nbgrader": {
     "cell_type": "code",
     "checksum": "6766c6e525a6e38b408af67e096f1961",
     "grade": true,
     "grade_id": "cell-cad4f3f4e7b29187",
     "locked": false,
     "points": 3,
     "schema_version": 3,
     "solution": true,
     "task": false
    }
   },
   "outputs": [
    {
     "data": {
      "image/png": "[encoded data removed]",
      "text/plain": [
       "<Figure size 432x288 with 1 Axes>"
      ]
     },
     "metadata": {
      "needs_background": "light"
     },
     "output_type": "display_data"
    }
   ],
   "source": [
    "# YOUR CODE HERE\n",
    "\n",
    "import matplotlib.pyplot as plt\n",
    "import numpy as np\n",
    "\n",
    "#specify the names of the drugs\n",
    "labels = sex_drug_count.index\n",
    "\n",
    "#obtains counts for each sex\n",
    "female_counts = sex_drug_count.Female.values\n",
    "male_counts = sex_drug_count.Male.values\n",
    "\n",
    "#to equally space out the drug name on the x-axis\n",
    "x = np.arange(len(labels))\n",
    "\n",
    "#specify width for bars\n",
    "width = 0.4\n",
    "\n",
    "#obtained the following code on how to create bar chart with labels from\n",
    "#https://matplotlib.org/stable/gallery/lines_bars_and_markers/barchart.html#sphx-glr-gallery-lines-bars-and-markers-barchart-py\n",
    "\n",
    "fig, ax = plt.subplots()\n",
    "\n",
    "#specify bar width, values each one takes on, whether they're male/female, and corresponding color\n",
    "rects1 = ax.bar(x - width/2, male_counts, width, label='Male', color = \"Blue\")\n",
    "rects2 = ax.bar(x + width/2, female_counts, width, label='Female', color = \"Red\")\n",
    "\n",
    "#provide appropriate labels\n",
    "ax.set_ylabel('Count')\n",
    "ax.set_xlabel(\"Drug Type\")\n",
    "ax.set_title('Number of males and females for each drug type')\n",
    "ax.set_xticks(x)\n",
    "\n",
    "#label the elements on the x-axis\n",
    "ax.set_xticklabels(labels)\n",
    "\n",
    "#set the legend outside of the barplot\n",
    "ax.legend(bbox_to_anchor=(1.0, 0.5))\n",
    "\n",
    "#set the range of values on y-axis from 0-18\n",
    "ax.set_ylim([0,18])\n",
    "\n",
    "#rotate x-axis labels by 45 degrees\n",
    "plt.xticks(rotation=45)\n",
    "\n",
    "#a function that creates a text label of the count of each bar\n",
    "def autolabel(rects):\n",
    "    \"\"\"Attach a text label above each bar in *rects*, displaying its height.\"\"\"\n",
    "    for rect in rects:\n",
    "        height = rect.get_height()\n",
    "        ax.annotate('{}'.format(height),\n",
    "                    xy=(rect.get_x() + rect.get_width() / 2, height),\n",
    "                    xytext=(0, 3),  # 3 points vertical offset\n",
    "                    textcoords=\"offset points\",\n",
    "                    ha='center', va='bottom')\n",
    "\n",
    "\n",
    "\n",
    "autolabel(rects1)\n",
    "autolabel(rects2)\n",
    "\n",
    "fig.tight_layout()\n",
    "plt.show()\n",
    "\n",
    "\n"
   ]
  },
  {
   "cell_type": "markdown",
   "metadata": {
    "deletable": false,
    "editable": false,
    "nbgrader": {
     "cell_type": "markdown",
     "checksum": "1dd4cdadcd7dba398df9edc259f71b2b",
     "grade": false,
     "grade_id": "cell-07a874e8274de0f3",
     "locked": true,
     "schema_version": 3,
     "solution": false,
     "task": false
    }
   },
   "source": [
    "(d) Use Pandas to find the average tumor size for each drug regiment, separately at each time-point. Store your results in a Pandas data frame with time point as the index and ten columns (one column per drug regimen). Display your resulting data frame using a print statement. \n",
    "\n",
    "**Hint:** Recall, that ```unstack()``` is the opposite of the ```melt()``` procedure. Read up on details in either your text or on the Python documentation website. "
   ]
  },
  {
   "cell_type": "code",
   "execution_count": 5,
   "metadata": {
    "deletable": false,
    "nbgrader": {
     "cell_type": "code",
     "checksum": "9fb422294bbd2f8794537467bb8ea82c",
     "grade": true,
     "grade_id": "cell-6d97fc8215a3cbf3",
     "locked": false,
     "points": 2,
     "schema_version": 3,
     "solution": true,
     "task": false
    }
   },
   "outputs": [
    {
     "name": "stdout",
     "output_type": "stream",
     "text": [
      "The average tumor size for each drug regimen at each time point is listed below: \n",
      "\n",
      "Drug Regimen  Capomulin   Ceftamin  Infubinol   Ketapril   Naftisol  \\\n",
      "Timepoint                                                             \n",
      "0             45.000000  45.000000  45.000000  45.000000  45.000000   \n",
      "5             44.266086  46.503051  46.541247  47.389175  46.796098   \n",
      "10            43.084291  48.285125  49.403909  49.582269  48.694210   \n",
      "15            42.064317  50.094055  51.296397  52.399974  50.933018   \n",
      "20            40.716325  52.157049  53.197691  54.920935  53.644087   \n",
      "25            39.939528  54.287674  55.715252  57.678982  56.731968   \n",
      "30            38.769339  56.769517  58.299397  60.994507  59.559509   \n",
      "35            37.816839  58.827548  60.742461  63.371686  62.685087   \n",
      "40            36.958001  61.467895  63.162824  66.068580  65.600754   \n",
      "45            36.236114  64.132421  65.755562  70.662958  69.265506   \n",
      "\n",
      "Drug Regimen    Placebo   Propriva   Ramicane   Stelasyn  Zoniferol  \n",
      "Timepoint                                                            \n",
      "0             45.000000  45.000000  45.000000  45.000000  45.000000  \n",
      "5             47.125589  47.248967  43.944859  47.470830  46.851818  \n",
      "10            49.423329  49.101541  42.531957  49.335368  48.689881  \n",
      "15            51.359742  51.067318  41.495061  51.448025  50.779059  \n",
      "20            54.364417  53.346737  40.238325  53.970080  53.170334  \n",
      "25            57.482574  55.504138  38.974300  56.172821  55.432935  \n",
      "30            59.809063  58.196374  38.703137  59.870528  57.713531  \n",
      "35            62.420615  60.350199  37.451996  62.432021  60.089372  \n",
      "40            65.052675  63.045537  36.574081  65.356386  62.916692  \n",
      "45            68.084082  66.258529  34.955595  68.438310  65.960888  \n"
     ]
    }
   ],
   "source": [
    "# YOUR CODE HERE\n",
    "\n",
    "#merge mouse metadata and results dataframes \n",
    "#only pick out the columns drug regimen, timepoint, and tumor volume\n",
    "#then group by timepoint and drug regimen\n",
    "avg_tumor_size_drg = mouse.merge(results)[[\"Drug Regimen\", \"Timepoint\", \"Tumor Volume (mm3)\"]].groupby([\"Timepoint\", \"Drug Regimen\"])\n",
    "\n",
    "#obtain the tumor size column, find its mean, and unstack the categories\n",
    "avg_tumor_size_drg = avg_tumor_size_drg[\"Tumor Volume (mm3)\"].mean().unstack()\n",
    "\n",
    "print(\"The average tumor size for each drug regimen at each time point is listed below: \\n\")\n",
    "print(avg_tumor_size_drg)"
   ]
  },
  {
   "cell_type": "markdown",
   "metadata": {
    "deletable": false,
    "editable": false,
    "nbgrader": {
     "cell_type": "markdown",
     "checksum": "899e67da6e36c49a42fb417227ac7f12",
     "grade": false,
     "grade_id": "cell-3eeae9b0741e35e7",
     "locked": true,
     "schema_version": 3,
     "solution": false,
     "task": false
    }
   },
   "source": [
    "(e) Use Matplotlib to create a line-graph of the average tumor size as a function of time for each drug regimen. Include all ten drugs in the same plot and use different colors for different drugs. Make sure to label your plot (include x- and y-axis labels, title, legend for which curve belongs to which drug). Please place the legend outside the plot (you should look up how to do this)."
   ]
  },
  {
   "cell_type": "code",
   "execution_count": 6,
   "metadata": {
    "deletable": false,
    "nbgrader": {
     "cell_type": "code",
     "checksum": "012167ec8f306bea55608405618ca953",
     "grade": true,
     "grade_id": "cell-07af4dc972c475c7",
     "locked": false,
     "points": 2,
     "schema_version": 3,
     "solution": true,
     "task": false
    }
   },
   "outputs": [
    {
     "data": {
      "image/png": "[encoded data removed]",
      "text/plain": [
       "<Figure size 432x288 with 1 Axes>"
      ]
     },
     "metadata": {
      "needs_background": "light"
     },
     "output_type": "display_data"
    }
   ],
   "source": [
    "# YOUR CODE HERE\n",
    "\n",
    "import matplotlib.pyplot as plt\n",
    "import numpy as np\n",
    "\n",
    "#save each drug type \n",
    "drugs = avg_tumor_size_drg.columns\n",
    "\n",
    "#iterate 10 times, one to graph each drug \n",
    "for i in range(10):\n",
    "    \n",
    "    #timepoints stay the same\n",
    "    x = avg_tumor_size_drg.index   \n",
    "    \n",
    "    #save the average tumor size according to each drug for y-values\n",
    "    y = avg_tumor_size_drg.iloc[:,i].values\n",
    "    \n",
    "    #plot \n",
    "    plt.plot(x, y, label = drugs[i], linestyle=\"-\")\n",
    "\n",
    "#label line-graph \n",
    "plt.xlabel(\"Timepoint (seconds)\")\n",
    "plt.ylabel(\"Average tumor size (mm3)\")\n",
    "plt.title(\"Average tumor size over time\")\n",
    "\n",
    "\n",
    "#set legend outside of the graph\n",
    "plt.legend(bbox_to_anchor=(1.3, 0.75))\n",
    "plt.show()\n",
    "\n",
    " \n"
   ]
  },
  {
   "cell_type": "markdown",
   "metadata": {
    "deletable": false,
    "editable": false,
    "nbgrader": {
     "cell_type": "markdown",
     "checksum": "7f58e53286dea9ef495e12a7a2a6535e",
     "grade": false,
     "grade_id": "cell-f3d9a1a3ad7c7633",
     "locked": true,
     "schema_version": 3,
     "solution": false,
     "task": false
    }
   },
   "source": [
    "(f) Use Pandas to create a Data Frame that has one row per mouse, index values should be Mouse IDs, and has exatly the following columns: \"Weight\" (initial mouse weight in grams), \"Sex\", \"Age\" (of mouse at the beginning of trial in months), \"Tumor\" (tumor volume on day 45 - include only mice who lived until day 45, \"Drug Regimen\". Display your resulting data frame using a print statement. "
   ]
  },
  {
   "cell_type": "code",
   "execution_count": 7,
   "metadata": {
    "deletable": false,
    "nbgrader": {
     "cell_type": "code",
     "checksum": "d67492252af7ebc87b7599365c747d54",
     "grade": true,
     "grade_id": "cell-1dc3caf86d2dba85",
     "locked": false,
     "points": 3,
     "schema_version": 3,
     "solution": true,
     "task": false
    }
   },
   "outputs": [
    {
     "name": "stdout",
     "output_type": "stream",
     "text": [
      "The initial weight, sex, age at the beginning of the trial in months, and tumor size on day 45 of the mice are shown below: \n",
      "\n",
      "    Mouse ID  Initial Weight (g)     Sex  Beginning Age (months)  \\\n",
      "0       s185                  17  Female                       3   \n",
      "1       x401                  15  Female                      16   \n",
      "2       m601                  17    Male                      22   \n",
      "3       u364                  17    Male                      18   \n",
      "4       y793                  17    Male                      17   \n",
      "..       ...                 ...     ...                     ...   \n",
      "125     p136                  28  Female                       5   \n",
      "126     q511                  28  Female                       2   \n",
      "127     q633                  25    Male                      12   \n",
      "128     s337                  27    Male                      14   \n",
      "129     w575                  28  Female                      16   \n",
      "\n",
      "     Tumor Volume (mm3) Day 45 Drug Regimen  \n",
      "0                    23.343598    Capomulin  \n",
      "1                    28.484033    Capomulin  \n",
      "2                    28.430964    Capomulin  \n",
      "3                    31.023923    Capomulin  \n",
      "4                    31.896238    Capomulin  \n",
      "..                         ...          ...  \n",
      "125                  63.488697    Zoniferol  \n",
      "126                  68.611061    Zoniferol  \n",
      "127                  70.827796    Zoniferol  \n",
      "128                  62.109651    Zoniferol  \n",
      "129                  68.401286    Zoniferol  \n",
      "\n",
      "[130 rows x 6 columns]\n"
     ]
    }
   ],
   "source": [
    "# YOUR CODE HERE\n",
    "import pandas as pd\n",
    "import numpy as np\n",
    "combined_data = mouse.merge(results)\n",
    "\n",
    "\n",
    "#obtain data only for mice who lived to day 45\n",
    "mice_lived_45 = combined_data[[\"Mouse ID\", \"Tumor Volume (mm3)\", \"Sex\", \"Drug Regimen\"]][combined_data[\"Timepoint\"]==45]\n",
    "\n",
    "#obtain initial weight and age \n",
    "weight_age_initial = combined_data[[\"Mouse ID\", \"Weight (g)\", \"Age_months\"]][combined_data[\"Timepoint\"]==0]\n",
    "\n",
    "#merge the data sets based on mouse ID\n",
    "survived_mice = mice_lived_45.merge(weight_age_initial, on = \"Mouse ID\")\n",
    "\n",
    "#reorder columns\n",
    "survived_mice = survived_mice[[\"Mouse ID\", \"Weight (g)\", \"Sex\", \"Age_months\", \"Tumor Volume (mm3)\", \"Drug Regimen\"]]\n",
    "\n",
    "#Rename some columns \n",
    "survived_mice.rename(columns = {\"Weight (g)\": \"Initial Weight (g)\", \"Age_months\": \"Beginning Age (months)\", \"Tumor Volume (mm3)\": \"Tumor Volume (mm3) Day 45\"}, inplace=True)\n",
    "\n",
    "print(\"The initial weight, sex, age at the beginning of the trial in months, and tumor size on day 45 of the mice are shown below: \\n\")\n",
    "print(survived_mice)\n"
   ]
  },
  {
   "cell_type": "markdown",
   "metadata": {
    "deletable": false,
    "editable": false,
    "nbgrader": {
     "cell_type": "markdown",
     "checksum": "ab9c224414bb91105c8cd63e87330c36",
     "grade": false,
     "grade_id": "cell-fc14ac6ce0c63059",
     "locked": true,
     "schema_version": 3,
     "solution": false,
     "task": false
    }
   },
   "source": [
    "(g) Use Matplotlib to create a scatterplot of final tumor size on day 45 against initial mouse weight for the mice who survived until day 45. Use different colors for different drug treatments. Make sure to label your plot (include x- and y-axis labels, title, and a legend for which color belongs to which drug). Please place the legend outside the plot. "
   ]
  },
  {
   "cell_type": "code",
   "execution_count": 8,
   "metadata": {
    "deletable": false,
    "nbgrader": {
     "cell_type": "code",
     "checksum": "e0a5e825f6104a3c40952bd850f417f2",
     "grade": true,
     "grade_id": "cell-455b0cfddd312c83",
     "locked": false,
     "points": 3,
     "schema_version": 3,
     "solution": true,
     "task": false
    }
   },
   "outputs": [
    {
     "data": {
      "text/plain": [
       "<matplotlib.legend.Legend at 0x14d2460fb20>"
      ]
     },
     "execution_count": 8,
     "metadata": {},
     "output_type": "execute_result"
    },
    {
     "data": {
      "image/png": "[encoded data removed]",
      "text/plain": [
       "<Figure size 432x288 with 1 Axes>"
      ]
     },
     "metadata": {
      "needs_background": "light"
     },
     "output_type": "display_data"
    }
   ],
   "source": [
    "# YOUR CODE HERE\n",
    "\n",
    "import seaborn as sns\n",
    "\n",
    "#save initial weights for x-axis\n",
    "x = survived_mice[\"Initial Weight (g)\"]\n",
    "\n",
    "#save tumor volume for y-axis\n",
    "y = survived_mice[\"Tumor Volume (mm3) Day 45\"]\n",
    "\n",
    "#save drug type for color\n",
    "z = survived_mice[\"Drug Regimen\"]\n",
    "\n",
    "sns.scatterplot(x = x, y = y, hue = z)\n",
    "plt.title(\"Final Tumor Size vs. Initial Weight\")\n",
    "plt.legend(bbox_to_anchor=(1.3, 1.03), title = \"Drug Regimen\")"
   ]
  },
  {
   "cell_type": "markdown",
   "metadata": {
    "deletable": false,
    "editable": false,
    "nbgrader": {
     "cell_type": "markdown",
     "checksum": "7420d544610c2b2a4b391b0d03c6a9e2",
     "grade": false,
     "grade_id": "cell-b30ee8f87c13fe1b",
     "locked": true,
     "schema_version": 3,
     "solution": false,
     "task": false
    }
   },
   "source": [
    "(h) Comment on what you see in the plot you just created. Do the mice seem to have been randomly assigned to the treatments? "
   ]
  },
  {
   "cell_type": "markdown",
   "metadata": {
    "deletable": false,
    "nbgrader": {
     "cell_type": "markdown",
     "checksum": "23ef42fe0758288017d0e4b58b5dcc8d",
     "grade": true,
     "grade_id": "cell-cf8aa5dcb55383cc",
     "locked": false,
     "points": 1,
     "schema_version": 3,
     "solution": true,
     "task": false
    }
   },
   "source": [
    "No, the mice do not seem to have been randomly assigned to the treatments. There seems to be a clear distinction of two groups. The lower left to middle portion of the graph displays mice who have treatments Capomulin and Ramicane. The other division of mice are at the top right with a mixed variety of treatments such as Ceftamin, Naftisol, Zoniferol, and so on. \n",
    "\n",
    "In addition, there are no mice that have initial weights of 26-30 that took Capomulin or Ramicane. In other words, almost all but 1 mouse whose initial weights of 25-30 took drugs that weren't Capomulin or Ramicane. \n",
    "\n",
    "These observations make sense with the experiment because it is testing the performance of Capomulin against other drugs. "
   ]
  },
  {
   "cell_type": "markdown",
   "metadata": {
    "deletable": false,
    "editable": false,
    "nbgrader": {
     "cell_type": "markdown",
     "checksum": "73d9055fcaf9bf00bb249317779b6c4f",
     "grade": false,
     "grade_id": "cell-ad1810f77b3e351f",
     "locked": true,
     "schema_version": 3,
     "solution": false,
     "task": false
    }
   },
   "source": [
    "(i) Create a side-by-side boxplot for initial mouse weight across drug regimens. Order the drugs, so that the boxplots for the drugs \"Capomulin\" and \"Ramicane\" appear on the left. \n",
    "\n",
    "**Note:** Look at the matplotlib gallery to understand how to create a side-by-side boxplot. \n",
    "\n",
    "**Hint:** start with a list of lists of values you want to plot. "
   ]
  },
  {
   "cell_type": "code",
   "execution_count": 9,
   "metadata": {
    "deletable": false,
    "nbgrader": {
     "cell_type": "code",
     "checksum": "61b5948e8a82d204c7cc52232b86d449",
     "grade": true,
     "grade_id": "cell-e52f32eb9f1cc065",
     "locked": false,
     "points": 3,
     "schema_version": 3,
     "solution": true,
     "task": false
    }
   },
   "outputs": [
    {
     "data": {
      "image/png": "[encoded data removed]",
      "text/plain": [
       "<Figure size 432x288 with 1 Axes>"
      ]
     },
     "metadata": {
      "needs_background": "light"
     },
     "output_type": "display_data"
    }
   ],
   "source": [
    "# YOUR CODE HERE\n",
    "\n",
    "import seaborn as sns\n",
    "\n",
    "combined_data = mouse.merge(results)\n",
    "\n",
    "#obtain data on mouse ID, initial weight, and drug regimen\n",
    "all_init_weight = combined_data[[\"Mouse ID\", \"Weight (g)\", \"Drug Regimen\"]][combined_data[\"Timepoint\"]==0]\n",
    "all_init_weight.rename(columns = {\"Weight (g)\":\"Initial Weight (g)\"}, inplace= True)\n",
    "\n",
    "#subset of just drug type\n",
    "drugs = all_init_weight[\"Drug Regimen\"]\n",
    "\n",
    "#save initial weights \n",
    "init_weight = all_init_weight[\"Initial Weight (g)\"]\n",
    "\n",
    "#only get the unique drug types \n",
    "drug_type = list(set(drugs.values))\n",
    "\n",
    "#create a list of drug types that don't contain capomulin and ramicane \n",
    "rest = [x for x in drug_type if x!=\"Capomulin\" and x!= \"Ramicane\"]\n",
    "rest.sort()\n",
    "\n",
    "#reorder the drug types\n",
    "order = [\"Capomulin\", \"Ramicane\"] + rest\n",
    "\n",
    "plt.xticks(rotation=45)\n",
    "plt.title(\"Initial Weight Across Drug Regimen\")\n",
    "ax = sns.boxplot(x = drugs, y = init_weight, data = all_init_weight, order = order)\n"
   ]
  }
 ],
 "metadata": {
  "kernelspec": {
   "display_name": "Python 3",
   "language": "python",
   "name": "python3"
  },
  "language_info": {
   "codemirror_mode": {
    "name": "ipython",
    "version": 3
   },
   "file_extension": ".py",
   "mimetype": "text/x-python",
   "name": "python",
   "nbconvert_exporter": "python",
   "pygments_lexer": "ipython3",
   "version": "3.8.5"
  }
 },
 "nbformat": 4,
 "nbformat_minor": 2
}
