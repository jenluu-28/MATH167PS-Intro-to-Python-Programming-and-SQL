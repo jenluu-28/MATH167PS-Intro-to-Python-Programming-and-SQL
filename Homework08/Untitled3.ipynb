{
 "cells": [
  {
   "cell_type": "code",
   "execution_count": 7,
   "metadata": {},
   "outputs": [
    {
     "data": {
      "text/plain": [
       "array([[ 2.,  4.,  3.,  3.],\n",
       "       [10.,  4.,  7.,  3.]])"
      ]
     },
     "execution_count": 7,
     "metadata": {},
     "output_type": "execute_result"
    }
   ],
   "source": [
    "import numpy as np\n",
    "\n",
    "def mystery_1(array):\n",
    "    \"\"\"the input should be a two-dimensional NumPy array\"\"\"  \n",
    "    statement = False\n",
    "    foo = np.isnan(array)\n",
    "    twix = []\n",
    "    if array.ndim !=2:\n",
    "        statement = print(\"wrong dimension\")\n",
    "    else:\n",
    "        for bar in foo:\n",
    "            twix.append(sum(bar))\n",
    "        if sum(twix) == 0:\n",
    "            statement = print(\"there are none\")\n",
    "        else: \n",
    "            statement = twix\n",
    "    return statement\n",
    "\n",
    "\n",
    "import numpy as np\n",
    "\n",
    "def mystery_2(array):\n",
    "    \"\"\"the input should be a two-dimensional NumPy array\"\"\"  \n",
    "    if array.ndim==2:\n",
    "        j = array.shape[0]\n",
    "        g = array.shape[1]\n",
    "        foo = np.nansum(array, axis=1)/(np.sum(~np.isnan(array), axis = 1))\n",
    "        for g in range(j):\n",
    "            bar = np.isnan(array[g,:])\n",
    "            array[g,bar] = foo[g]\n",
    "        return array\n",
    "A = np.array([[2,4,float(\"nan\"), float(\"nan\")], [10,4,7,3]])\n",
    "mystery_2(A)"
   ]
  },
  {
   "cell_type": "code",
   "execution_count": null,
   "metadata": {},
   "outputs": [],
   "source": []
  }
 ],
 "metadata": {
  "kernelspec": {
   "display_name": "Python 3",
   "language": "python",
   "name": "python3"
  },
  "language_info": {
   "codemirror_mode": {
    "name": "ipython",
    "version": 3
   },
   "file_extension": ".py",
   "mimetype": "text/x-python",
   "name": "python",
   "nbconvert_exporter": "python",
   "pygments_lexer": "ipython3",
   "version": "3.8.5"
  }
 },
 "nbformat": 4,
 "nbformat_minor": 4
}
