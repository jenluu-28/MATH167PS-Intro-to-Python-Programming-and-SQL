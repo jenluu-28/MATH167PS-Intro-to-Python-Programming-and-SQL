{
 "cells": [
  {
   "cell_type": "code",
   "execution_count": 1,
   "metadata": {},
   "outputs": [],
   "source": [
    "import numpy as np\n",
    "\n",
    "def mystery_1(array):\n",
    "    \"\"\"the input should be a two-dimensional NumPy array\"\"\"  \n",
    "    statement = False\n",
    "    foo = np.isnan(array)\n",
    "    twix = []\n",
    "    if array.ndim !=2:\n",
    "        statement = print(\"wrong dimension\")\n",
    "    else:\n",
    "        for bar in foo:\n",
    "            twix.append(sum(bar))\n",
    "        if sum(twix) == 0:\n",
    "            statement = print(\"there are none\")\n",
    "        else: \n",
    "            statement = twix\n",
    "    return statement"
   ]
  },
  {
   "cell_type": "code",
   "execution_count": 17,
   "metadata": {},
   "outputs": [
    {
     "data": {
      "text/plain": [
       "[1, 0]"
      ]
     },
     "execution_count": 17,
     "metadata": {},
     "output_type": "execute_result"
    }
   ],
   "source": [
    "X = np.array([[float(\"nan\"),2],[0,2]])\n",
    "mystery_1(X)\n",
    "\n"
   ]
  },
  {
   "cell_type": "code",
   "execution_count": 40,
   "metadata": {},
   "outputs": [],
   "source": [
    "import numpy as np\n",
    "\n",
    "def mystery_2(array):\n",
    "    \"\"\"the input should be a two-dimensional NumPy array\"\"\"  \n",
    "    if array.ndim==2:\n",
    "        j = array.shape[0]\n",
    "        g = array.shape[1]\n",
    "        foo = np.nansum(array, axis=1)/(np.sum(~np.isnan(array), axis = 1))\n",
    "        print(foo)\n",
    "        for g in range(j):\n",
    "            bar = np.isnan(array[g,:])\n",
    "            print(array[g,bar])\n",
    "            print(foo[g])\n",
    "            array[g,bar] = foo[g]\n",
    "        return array"
   ]
  },
  {
   "cell_type": "code",
   "execution_count": 49,
   "metadata": {},
   "outputs": [
    {
     "name": "stdout",
     "output_type": "stream",
     "text": [
      "[14.   9.   4.5]\n",
      "[nan]\n",
      "14.0\n",
      "[nan]\n",
      "9.0\n",
      "[]\n",
      "4.5\n"
     ]
    },
    {
     "data": {
      "text/plain": [
       "array([[14., 14.],\n",
       "       [ 9.,  9.],\n",
       "       [ 8.,  1.]])"
      ]
     },
     "execution_count": 49,
     "metadata": {},
     "output_type": "execute_result"
    }
   ],
   "source": [
    "X = np.array([[14,float(\"nan\")],[float(\"nan\"),9],[8,1]])\n",
    "\n",
    "np.nansum(X,axis = 0)\n",
    "np.sum(np.isnan(X), axis = 1)\n",
    "\n",
    "mystery_2(X)\n"
   ]
  },
  {
   "cell_type": "code",
   "execution_count": null,
   "metadata": {},
   "outputs": [],
   "source": []
  }
 ],
 "metadata": {
  "kernelspec": {
   "display_name": "Python 3",
   "language": "python",
   "name": "python3"
  },
  "language_info": {
   "codemirror_mode": {
    "name": "ipython",
    "version": 3
   },
   "file_extension": ".py",
   "mimetype": "text/x-python",
   "name": "python",
   "nbconvert_exporter": "python",
   "pygments_lexer": "ipython3",
   "version": "3.8.5"
  }
 },
 "nbformat": 4,
 "nbformat_minor": 4
}
