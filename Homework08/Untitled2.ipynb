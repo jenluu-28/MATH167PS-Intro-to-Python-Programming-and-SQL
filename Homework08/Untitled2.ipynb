{
 "cells": [
  {
   "cell_type": "code",
   "execution_count": null,
   "metadata": {},
   "outputs": [],
   "source": [
    "\n",
    "#Obtain number of sales from each geographical area\n",
    "geo = data[[\"Geography\"]].value_counts()\n",
    "\n",
    "#Obtain region names\n",
    "geo_labels = data.Geography.unique()\n",
    "\n",
    "#Space out x-axis labels\n",
    "x_pos = np.arange(len(geo_labels))\n",
    "\n",
    "#Expand the graph \n",
    "fig = plt.figure(figsize=(15,5))\n",
    "\n",
    "#Plot data and label x-axis and y-axis accordingly\n",
    "plt.bar(x_pos, geo, width = 0.7)\n",
    "plt.xticks(x_pos, geo_labels, rotation = 90, size = 15)\n",
    "plt.ylim([0,120])\n",
    "plt.yticks(size = 15)\n",
    "plt.ylabel(\"Frequency\", size = 15)\n",
    "plt.title(\"Geographical Distribution of Weekly Avocado Sales\", size = 15);\n",
    "\n",
    "\n",
    "ca_cities = geo[[\"San Francisco\", \"San Diego\", \"Los Angeles\",\"Sacramento\"]]\n",
    "fl_cities = geo[[\"Miami/Ft. Lauderdale\", \"Orlando\", \"Tampa\", \"Jacksonville\"]]\n",
    "tx_cities = geo[[\"Dallas/Ft. Worth\"]]"
   ]
  }
 ],
 "metadata": {
  "kernelspec": {
   "display_name": "Python 3",
   "language": "python",
   "name": "python3"
  },
  "language_info": {
   "codemirror_mode": {
    "name": "ipython",
    "version": 3
   },
   "file_extension": ".py",
   "mimetype": "text/x-python",
   "name": "python",
   "nbconvert_exporter": "python",
   "pygments_lexer": "ipython3",
   "version": "3.8.5"
  }
 },
 "nbformat": 4,
 "nbformat_minor": 4
}
