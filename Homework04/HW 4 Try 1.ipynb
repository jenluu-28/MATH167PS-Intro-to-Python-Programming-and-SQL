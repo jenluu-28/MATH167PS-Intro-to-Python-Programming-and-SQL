{
 "cells": [
  {
   "cell_type": "markdown",
   "metadata": {},
   "source": [
    "Before you turn this homework in, make sure everything runs as expected. First, **restart the kernel** (in the menubar, select Kernel$\\rightarrow$Restart) and then **run all cells** (in the menubar, select Cell$\\rightarrow$Run All). If you get error messages, the grader will get the same errors and won't be able to grade your work. \n",
    "\n",
    "Make sure you fill in any place that says `YOUR CODE HERE` or \"YOUR ANSWER HERE\". You may delete the line(s) that say \"**raise** NotImplementedError()\" and replace them with your actual work. Write all your work in the cells provided in this notebook. **DO NOT** add or delete any cells. \n",
    "\n",
    "Please fill in your name in the cell below."
   ]
  },
  {
   "cell_type": "code",
   "execution_count": 1,
   "metadata": {},
   "outputs": [],
   "source": [
    "NAME = \"Jennifer Luu\""
   ]
  },
  {
   "cell_type": "markdown",
   "metadata": {},
   "source": [
    "---"
   ]
  },
  {
   "cell_type": "markdown",
   "metadata": {
    "deletable": false,
    "editable": false,
    "nbgrader": {
     "cell_type": "markdown",
     "checksum": "6ebd25e0548583f7c366018f32178203",
     "grade": false,
     "grade_id": "cell-d52a593a8c020deb",
     "locked": true,
     "schema_version": 3,
     "solution": false,
     "task": false
    }
   },
   "source": [
    "# Homework 4\n",
    "\n",
    "In all problems below, please comment your code sufficiently well so that the grader can follow what you are doing with ease. For non-coding answers, please make sure to formulate your explanation and answers in the form of complete English sentences. It is not sufficient to just leave comments in the code (without a full sentence explanations in problems that ask for those) or vice versa (to leave full sentence explanations but not code comments). You will need both to get full credit. "
   ]
  },
  {
   "cell_type": "markdown",
   "metadata": {
    "deletable": false,
    "editable": false,
    "nbgrader": {
     "cell_type": "markdown",
     "checksum": "2329ebae2933c32bf8be96cf8cc94022",
     "grade": false,
     "grade_id": "cell-08e2c1b9a5e96a6c",
     "locked": true,
     "schema_version": 3,
     "solution": false,
     "task": false
    }
   },
   "source": [
    "## Problem 1\n",
    "\n",
    "Write a function named \"border\" that takes as its input two integers n and m ($1 \\le n,m \\le 100$) and outputs a NumPy array of size $(n,m)$. Your array should be filled with zeros except for the \"border\" (that is, the first and last column and the first and last row) which should be filled with ones. "
   ]
  },
  {
   "cell_type": "code",
   "execution_count": 2,
   "metadata": {
    "deletable": false,
    "nbgrader": {
     "cell_type": "code",
     "checksum": "ee9ce269b0ea0f26bdb96ca2445d6cd8",
     "grade": true,
     "grade_id": "cell-d88b7ac9277ed9ae",
     "locked": false,
     "points": 2,
     "schema_version": 3,
     "solution": true,
     "task": false
    }
   },
   "outputs": [
    {
     "data": {
      "text/plain": [
       "True"
      ]
     },
     "execution_count": 2,
     "metadata": {},
     "output_type": "execute_result"
    }
   ],
   "source": [
    "import numpy as np\n",
    "\n",
    "def border(n, m):\n",
    "        \n",
    "    \"\"\"Creates an array with shape (n, m) that is all zeros\n",
    "    except for the border (i.e., the first and last rows and\n",
    "    columns), which should be filled with ones.\"\"\"\n",
    "    # YOUR CODE HERE\n",
    "    if type(n)==int and type(m)==int and 1<=n<=100 and 1<=m<=100: #condition check \n",
    "        my_array = np.zeros((n,m), int) #make an array full of zeros \n",
    "        #find the slices for the first/last row/column and generate arrays of 1 to fill\n",
    "        my_array[0,:] = [1]*n   #top row\n",
    "        my_array[-1,:] = [1]*n  #bottom row\n",
    "        my_array[:,0] = [1]*m   #first column\n",
    "        my_array[:,-1] =[1]*m   #last column\n",
    "        return my_array\n",
    "    else:\n",
    "        return false\n",
    "\n",
    "#np.array([[1, 1, 1], [1, 0, 1], [1, 1, 1]])\n",
    "\n",
    "# check that your function works as expected (if it does this check should return \"True\")\n",
    "np.array_equal(border(3,3), np.array([[1, 1, 1], [1, 0, 1], [1, 1, 1]]))"
   ]
  },
  {
   "cell_type": "markdown",
   "metadata": {
    "deletable": false,
    "editable": false,
    "nbgrader": {
     "cell_type": "markdown",
     "checksum": "00ff273c18681ec9428dbf34b9518b35",
     "grade": false,
     "grade_id": "cell-ef495698be86d216",
     "locked": true,
     "schema_version": 3,
     "solution": false,
     "task": false
    }
   },
   "source": [
    "## Problem 2\n",
    "\n",
    "(a) Suppose that x and y are both NumPy arrays of size $(1,n)$. \n",
    "Write a function that computes Pearson's sample correlation coefficient $r$ \n",
    "between the entries in x and y. \n",
    "\n",
    "Recall, that Pearson's sample correlation coefficient is defined as \n",
    "$$r(x,y) = \\frac{\\sum_{i=1}^n (x_i - \\bar{x})(y_i - \\bar{y})}{\\sqrt{\\sum\\limits_{i=1}^n (x_i - \\bar{x})^2 \\sum\\limits_{i=1}^n(y_i - \\bar{y})^2}} $$"
   ]
  },
  {
   "cell_type": "code",
   "execution_count": 14,
   "metadata": {
    "deletable": false,
    "nbgrader": {
     "cell_type": "code",
     "checksum": "53c98bd87ad55dd81de68642905f5ca9",
     "grade": true,
     "grade_id": "cell-9754a5d15b00302f",
     "locked": false,
     "points": 2,
     "schema_version": 3,
     "solution": true,
     "task": false
    }
   },
   "outputs": [
    {
     "data": {
      "text/plain": [
       "True"
      ]
     },
     "execution_count": 14,
     "metadata": {},
     "output_type": "execute_result"
    }
   ],
   "source": [
    "import math \n",
    "\n",
    "def pearsons_correlation(x, y):\n",
    "    \"\"\"Computes Pearson's correlation coefficient between vectors x and y.\"\"\"\n",
    "    \n",
    "    # YOUR CODE HERE\n",
    "    x_bar = np.mean(x) #find the mean of x and y\n",
    "    y_bar = np.mean(y)\n",
    "    \n",
    "    x_dev = [entry-x_bar for entry in x] #get deviations for each element in x and y \n",
    "    y_dev = [entry-y_bar for entry in y]\n",
    "    \n",
    "    top = np.sum((np.multiply(x_dev, y_dev))) #perform element-wise multiplication and sum \n",
    "    \n",
    "    xdev_sqr = np.sum([entry**2 for entry in x_dev]) #square the deviations and sum in x and y \n",
    "    ydev_sqr = np.sum([entry**2 for entry in y_dev])\n",
    "\n",
    "    btm_sqr = np.sqrt(xdev_sqr*ydev_sqr) #take square root of the product of the sums\n",
    "    \n",
    "    pears_cor = top/btm_sqr #compute r \n",
    "    \n",
    "    return pears_cor\n",
    "    \n",
    "# check that your function works\n",
    "# if it does, the comparison below should return \"True\"\n",
    "\n",
    "import numpy as np\n",
    "\n",
    "np.random.seed(10)\n",
    "n = 10\n",
    "x = np.random.random((1,10))\n",
    "y = np.random.random((1,10))\n",
    "\n",
    "round(pearsons_correlation(x,y),6) == round(np.corrcoef(x,y)[0,1],6)\n",
    "\n",
    "#print(pearsons_correlation(x,y))\n",
    "#print(round(np.corrcoef(x,y)[0,1],6))\n",
    "# we're rounding, because the built-in NumPy method for correlation \n",
    "# may use more efficient arithmetic than we do in our home-made function. "
   ]
  },
  {
   "cell_type": "markdown",
   "metadata": {
    "deletable": false,
    "editable": false,
    "nbgrader": {
     "cell_type": "markdown",
     "checksum": "a2d9dcf92172acf4dac61bd89c757e70",
     "grade": false,
     "grade_id": "cell-e442fd55faf8a5da",
     "locked": true,
     "schema_version": 3,
     "solution": false,
     "task": false
    }
   },
   "source": [
    "(b) Create a NumPy array filled with uniform(0,1) random values with n rows and m columns (for the combinations of n and m listed below). In each case, find the maximum of the Pearson correlation coefficients for each of the $\\binom{m}{2}$ pairs of columns in your array. \n",
    "\n",
    "That is, if the columns of your array are $x_1, \\ldots, x_m$, find \n",
    "$$\\max(r) = \\max\\limits_{a,b \\in \\{1,\\ldots,m\\}, a \\neq b} r(x_a, x_b)$$\n",
    "\n",
    "Enter the values you find into the table below (rounded to two after decimal digits)."
   ]
  },
  {
   "cell_type": "code",
   "execution_count": 15,
   "metadata": {
    "deletable": false,
    "nbgrader": {
     "cell_type": "code",
     "checksum": "20a12b364942aaf86d09dbcec5c1b521",
     "grade": true,
     "grade_id": "cell-20394b7ebd8256da",
     "locked": false,
     "points": 2,
     "schema_version": 3,
     "solution": true,
     "task": false
    }
   },
   "outputs": [
    {
     "data": {
      "text/plain": [
       "0.41454717370423394"
      ]
     },
     "execution_count": 15,
     "metadata": {},
     "output_type": "execute_result"
    }
   ],
   "source": [
    "import numpy as np\n",
    "np.random.seed(10)\n",
    "\n",
    "def max_corr(n,m):\n",
    "    array = np.random.random((n,m)) #a numpy array with uniform(0,1) r.v with n rows and m columns \n",
    "    \"\"\"find maximum correlation between columns of (n,m) random uniform (0,1) array\"\"\"\n",
    "    # YOUR CODE HERE\n",
    "    r = [] #initialize empty list to hold all r's\n",
    "    for i in range(m):\n",
    "        for j in range(m):\n",
    "            if i==j:\n",
    "                continue\n",
    "            else: \n",
    "                x = array[:,i]\n",
    "                y = array[:,j]\n",
    "                corr = pearsons_correlation(x, y)\n",
    "                r.append(corr)\n",
    "    return max(r)\n",
    "\n",
    "max_corr(100,100)\n",
    "\n",
    "\n",
    "    "
   ]
  },
  {
   "cell_type": "markdown",
   "metadata": {
    "deletable": false,
    "editable": false,
    "nbgrader": {
     "cell_type": "markdown",
     "checksum": "26c95d85e5a90adb15aa5c99acc30ca8",
     "grade": false,
     "grade_id": "cell-535f48f1a452140b",
     "locked": true,
     "schema_version": 3,
     "solution": false,
     "task": false
    }
   },
   "source": [
    "## |  rows n | columns m  | max(r)  |\n",
    "|:-:|:-:|:-:|\n",
    "| 10  | 20  | |\n",
    "| 10  | 50  |  |\n",
    "| 10  | 100  |  |\n",
    "| 100  | 20  |  |\n",
    "| 100  | 50  |  |\n",
    "| 100  | 100  |  |\n",
    "\n",
    "Copy and paste this table to the Markdown cell below and complete it. "
   ]
  },
  {
   "cell_type": "markdown",
   "metadata": {
    "deletable": false,
    "nbgrader": {
     "cell_type": "markdown",
     "checksum": "275b4147032ee4bfd141a01abdbcadea",
     "grade": true,
     "grade_id": "cell-194e6a4ffc1e1d7f",
     "locked": false,
     "points": 1,
     "schema_version": 3,
     "solution": true,
     "task": false
    }
   },
   "source": [
    "## |  rows n | columns m  | max(r)  |\n",
    "|:-:|:-:|:-:|\n",
    "| 10  | 20  | 0.73 |\n",
    "| 10  | 50  | 0.82 |\n",
    "| 10  | 100  | 0.96 |\n",
    "| 100  | 20  | 0.26 |\n",
    "| 100  | 50  | 0.34 |\n",
    "| 100  | 100  | 0.41 |\n",
    "\n",
    "Copy and paste this table to the Markdown cell below and complete it. "
   ]
  },
  {
   "cell_type": "markdown",
   "metadata": {
    "deletable": false,
    "editable": false,
    "nbgrader": {
     "cell_type": "markdown",
     "checksum": "7c91d5d76029c2caf69e8ba2c3b5d3a9",
     "grade": false,
     "grade_id": "cell-4f4a6888d3287d05",
     "locked": true,
     "schema_version": 3,
     "solution": false,
     "task": false
    }
   },
   "source": [
    "## Problem 3\n",
    "\n",
    "Suppose that $X$ is a matrix with n rows and m columns. In statistics, these matrices arise freqently when we collect (numerical) data on m variables which are each observed on n independent individuals. Suppose we denote the columns of $X = (x_1, \\ldots, x_m)$. Then the covariance matrix of $X$ is defined as \n",
    "\n",
    "$$ \\mbox{Cov}(X) = \\left( \\begin{array}{cccc}\n",
    "Var(x_1) & Cov(x_1, x_2) & \\cdots & Cov(x_1, x_m) \\\\\n",
    "Cov(x_2, x_1) & Var(x_2) & \\cdots & Cov(x_2, x_m) \\\\\n",
    "\\vdots & \\vdots & \\ddots & \\vdots \\\\\n",
    "Cov(x_m, x_1) & Cov(x_m, x_2) & \\cdots & Var(x_m) \n",
    "\\end{array} \\right) $$\n",
    "\n",
    "where Var($x_i$) is the sample variance of the entries in the $i^{th}$ column of $X$ and Cov($x_i, x_j$) ($i \\neq j$) is the sample covariance of the entries in columns $i$ and $j$. \n",
    "\n",
    "$$ Cov(x_i, x_j) = \\frac{1}{n-1}\\sum\\limits_{k=1}^n (x_{ki} - \\bar{x}_i)(x_{kj}-\\bar{x_j})$$\n",
    "\n",
    "That is, the covariance matrix is a square $m\\times m$ matrix whose diagonal entries are the sample variances of the columns of $X$ and whose off-diagonal entries are covariances between two columns of $X$, respectively. \n",
    "\n",
    "Write *your own* function that takes a Numpy array of shape (n,m) as its input and returns the  Covariance matrix of the array. Do not use any built-in functions to compute variance and/or covariance. Write your own functions, instead. It's ok to use NumPy routines for sums, squares, or square-roots. \n",
    "\n",
    "Check your work by comparing your result to that of the ```np.cov()``` function applied to the same input."
   ]
  },
  {
   "cell_type": "code",
   "execution_count": 5,
   "metadata": {
    "deletable": false,
    "nbgrader": {
     "cell_type": "code",
     "checksum": "ede1621cf7e8b4072ca0cf8b29bae349",
     "grade": true,
     "grade_id": "cell-4be095f622a53663",
     "locked": false,
     "points": 3,
     "schema_version": 3,
     "solution": true,
     "task": false
    }
   },
   "outputs": [
    {
     "data": {
      "text/plain": [
       "True"
      ]
     },
     "execution_count": 5,
     "metadata": {},
     "output_type": "execute_result"
    }
   ],
   "source": [
    "def covariance_matrix(X):\n",
    "    \"\"\" Finds the covariance matrix of (n,m) shaped array X\"\"\"\n",
    "    # YOUR CODE HERE\n",
    "    columns = len(X[0]) #number of columns\n",
    "    rows = len(X) #number of rows\n",
    "    cov_matrx = np.zeros((columns, columns)) #initialize empty m x m array \n",
    "    scale = 1/(rows-1)\n",
    "    \n",
    "    for i in range(columns): #iterate through each position in the cov matrix \n",
    "        for j in range(columns):\n",
    "            xi_bar = np.mean(X[:,i]) #obtain means for xi and xj\n",
    "            xj_bar = np.mean(X[:,j])\n",
    "            \n",
    "            prod1 = [(xki - xi_bar) for xki in X[:,i]] #compute the differences for each column\n",
    "            prod2 = [(xkj - xj_bar) for xkj in X[:,j]]\n",
    "            \n",
    "            prod_list = np.multiply(prod1,prod2) #perform element-wise multiplication \n",
    "            \n",
    "            cov_matrx[i,j] = (sum(prod_list))*scale #sum and multiply by 1/(n-1)\n",
    "            \n",
    "    return cov_matrx\n",
    "    \n",
    "## check your work\n",
    "X = np.random.random((5,3))  # or make up some other matrix for X \n",
    "np.array_equal(np.round(np.cov(X.T),4), np.round(covariance_matrix(X),4)) \n",
    "# again, we're rounding because your \"hand\" computation will differ slightly from NumPy's internal computations\n"
   ]
  },
  {
   "cell_type": "markdown",
   "metadata": {
    "deletable": false,
    "editable": false,
    "nbgrader": {
     "cell_type": "markdown",
     "checksum": "71bd9bc82d4690ceb48be4210817ed28",
     "grade": false,
     "grade_id": "cell-e67ddc33ea17b2b2",
     "locked": true,
     "schema_version": 3,
     "solution": false,
     "task": false
    }
   },
   "source": [
    "## Problem 4\n",
    "\n",
    "The code given below (don't change the seed, please) generates n=10,000 IID random samples from Student's t-distribution with degree of freedom $\\nu = 5$. Let $X \\sim t(\\nu=5)$ be a random variable with a $t_5$ distribution. For each of the following quantities, find their values using the methods your have learned in Math 161A. State your answer together with a short description of how you find it. Also find the best estimate of each quantity you can produce based on the 10,000 generated random numbers."
   ]
  },
  {
   "cell_type": "code",
   "execution_count": 6,
   "metadata": {
    "deletable": false,
    "editable": false,
    "nbgrader": {
     "cell_type": "code",
     "checksum": "36ddd18f9e7367120b77bcea768303ac",
     "grade": false,
     "grade_id": "cell-c81db99b9f1b3232",
     "locked": true,
     "schema_version": 3,
     "solution": false,
     "task": false
    }
   },
   "outputs": [],
   "source": [
    "from scipy import stats\n",
    "import numpy as np\n",
    "\n",
    "np.random.seed(10)\n",
    "Data = np.array(stats.t.rvs(df=5,size=10000))"
   ]
  },
  {
   "cell_type": "markdown",
   "metadata": {
    "deletable": false,
    "editable": false,
    "nbgrader": {
     "cell_type": "markdown",
     "checksum": "305a0a31ed0fb35658030f8e53e11a6f",
     "grade": false,
     "grade_id": "cell-65151cb57cd799bb",
     "locked": true,
     "schema_version": 3,
     "solution": false,
     "task": false
    }
   },
   "source": [
    "(a) $P(-1 \\le X < 2)$"
   ]
  },
  {
   "cell_type": "code",
   "execution_count": 7,
   "metadata": {
    "deletable": false,
    "nbgrader": {
     "cell_type": "code",
     "checksum": "b01231f1d7476759243044d88b929106",
     "grade": true,
     "grade_id": "cell-d6643eff340ddd97",
     "locked": false,
     "points": 2,
     "schema_version": 3,
     "solution": true,
     "task": false
    }
   },
   "outputs": [
    {
     "name": "stdout",
     "output_type": "stream",
     "text": [
      "0.7648\n"
     ]
    }
   ],
   "source": [
    "# YOUR CODE HERE\n",
    "successes = (-1<=Data)&(Data<2)\n",
    "prob = sum(successes)/len(Data)\n",
    "print(prob)"
   ]
  },
  {
   "cell_type": "markdown",
   "metadata": {
    "deletable": false,
    "nbgrader": {
     "cell_type": "markdown",
     "checksum": "8152aaee223ce02d4d4b36d34aa4e1b0",
     "grade": true,
     "grade_id": "cell-6272dd2b27a72a88",
     "locked": false,
     "points": 0,
     "schema_version": 3,
     "solution": true,
     "task": false
    }
   },
   "source": [
    "The probability that -1<=X<2 is 0.7648. "
   ]
  },
  {
   "cell_type": "markdown",
   "metadata": {
    "deletable": false,
    "editable": false,
    "nbgrader": {
     "cell_type": "markdown",
     "checksum": "04ea7b8adb158f6dd85c1d79c58e51cc",
     "grade": false,
     "grade_id": "cell-35eaff812d6c1eb4",
     "locked": true,
     "schema_version": 3,
     "solution": false,
     "task": false
    }
   },
   "source": [
    "(b) The $77^{th}$ percentile of $X$."
   ]
  },
  {
   "cell_type": "code",
   "execution_count": 8,
   "metadata": {
    "deletable": false,
    "nbgrader": {
     "cell_type": "code",
     "checksum": "5fe79df804525eba4987949b3f3dee2f",
     "grade": true,
     "grade_id": "cell-0437f43f4bcf6b6b",
     "locked": false,
     "points": 2,
     "schema_version": 3,
     "solution": true,
     "task": false
    }
   },
   "outputs": [
    {
     "name": "stdout",
     "output_type": "stream",
     "text": [
      "0.796361368761396\n"
     ]
    }
   ],
   "source": [
    "# YOUR CODE HERE\n",
    "import math as math\n",
    "\n",
    "sorted_data = np.sort(Data) #sort from smallest to largest number \n",
    "\n",
    "index = len(Data)*0.77 #multiply by the length of the array by 77 \n",
    " \n",
    "if (index%1 >= 5): #check decimal to take either integer ceiling or floor for index\n",
    "    index = int(math.ceiling(index))\n",
    "elif (index%1 <5):\n",
    "    index = int(math.floor(index))\n",
    "    \n",
    "per = sorted_data[index] #obtain 77th percentile by indexing in sorted array\n",
    "\n",
    "print(per)"
   ]
  },
  {
   "cell_type": "markdown",
   "metadata": {
    "deletable": false,
    "nbgrader": {
     "cell_type": "markdown",
     "checksum": "8c15a95feaf0057873a74a86b35b772e",
     "grade": true,
     "grade_id": "cell-1e1f309c4198b7f1",
     "locked": false,
     "points": 0,
     "schema_version": 3,
     "solution": true,
     "task": false
    }
   },
   "source": [
    "The 77th percentile of Data is 0.79636."
   ]
  },
  {
   "cell_type": "markdown",
   "metadata": {
    "deletable": false,
    "editable": false,
    "nbgrader": {
     "cell_type": "markdown",
     "checksum": "d382ba7b6d5cd3c96c6014eac307ea47",
     "grade": false,
     "grade_id": "cell-e01b5e902d4d0d70",
     "locked": true,
     "schema_version": 3,
     "solution": false,
     "task": false
    }
   },
   "source": [
    "(c) Var($X$) (that is the sample variance of $X$)"
   ]
  },
  {
   "cell_type": "code",
   "execution_count": 9,
   "metadata": {
    "deletable": false,
    "nbgrader": {
     "cell_type": "code",
     "checksum": "b99aaa3b6b4a09adb5022489ebe19003",
     "grade": true,
     "grade_id": "cell-d7e3d031114e94c3",
     "locked": false,
     "points": 2,
     "schema_version": 3,
     "solution": true,
     "task": false
    }
   },
   "outputs": [
    {
     "name": "stdout",
     "output_type": "stream",
     "text": [
      "1.6499633760480088\n"
     ]
    }
   ],
   "source": [
    "# YOUR CODE HERE\n",
    "x_bar = np.mean(Data) #find sample mean \n",
    "sqrd_dev = sum([(entry-x_bar)**2 for entry in Data]) #find squared deviations \n",
    "btm = len(Data)-1 #bottom term \n",
    "sample_var = sqrd_dev/btm\n",
    "\n",
    "print(sample_var)\n"
   ]
  },
  {
   "cell_type": "markdown",
   "metadata": {
    "deletable": false,
    "nbgrader": {
     "cell_type": "markdown",
     "checksum": "86e521afe2ad0866558c59d2cd816218",
     "grade": true,
     "grade_id": "cell-c41b4d4b92fff5d4",
     "locked": false,
     "points": 0,
     "schema_version": 3,
     "solution": true,
     "task": false
    }
   },
   "source": [
    "The sample variance of X is 1.64996."
   ]
  },
  {
   "cell_type": "markdown",
   "metadata": {
    "deletable": false,
    "editable": false,
    "nbgrader": {
     "cell_type": "markdown",
     "checksum": "bb9f57bc3b43792f4b6071d61f277940",
     "grade": false,
     "grade_id": "cell-d9b5d806720e1dd1",
     "locked": true,
     "schema_version": 3,
     "solution": false,
     "task": false
    }
   },
   "source": [
    "## Problem 5\n",
    "\n",
    "The code below generates a NumPy array X of shape (12,8) filled with integers. Please don't change the seed."
   ]
  },
  {
   "cell_type": "code",
   "execution_count": 10,
   "metadata": {
    "deletable": false,
    "editable": false,
    "nbgrader": {
     "cell_type": "code",
     "checksum": "36330a051f62c327f26997cf18e75ebe",
     "grade": false,
     "grade_id": "cell-15df1d305d4a6c46",
     "locked": true,
     "schema_version": 3,
     "solution": false,
     "task": false
    }
   },
   "outputs": [
    {
     "data": {
      "text/plain": [
       "array([[9, 4, 0, 1, 9, 0, 1, 8],\n",
       "       [9, 0, 8, 6, 4, 3, 0, 4],\n",
       "       [6, 8, 1, 8, 4, 1, 3, 6],\n",
       "       [5, 3, 9, 6, 9, 1, 9, 4],\n",
       "       [2, 6, 7, 8, 8, 9, 2, 0],\n",
       "       [6, 7, 8, 1, 7, 1, 4, 0],\n",
       "       [8, 5, 4, 7, 8, 8, 2, 6],\n",
       "       [2, 8, 8, 6, 6, 5, 6, 0],\n",
       "       [0, 6, 9, 1, 8, 9, 1, 2],\n",
       "       [8, 9, 9, 5, 0, 2, 7, 3],\n",
       "       [0, 4, 2, 0, 3, 3, 1, 2],\n",
       "       [5, 9, 0, 1, 0, 1, 9, 0]])"
      ]
     },
     "execution_count": 10,
     "metadata": {},
     "output_type": "execute_result"
    }
   ],
   "source": [
    "import numpy as np\n",
    "\n",
    "np.random.seed(10)\n",
    "X = np.random.randint(10,size = (12,8)) \n",
    "X"
   ]
  },
  {
   "cell_type": "markdown",
   "metadata": {
    "deletable": false,
    "editable": false,
    "nbgrader": {
     "cell_type": "markdown",
     "checksum": "a2310e6a83af8f741a213b6d5d48cbd6",
     "grade": false,
     "grade_id": "cell-0e3f935dbeb324b8",
     "locked": true,
     "schema_version": 3,
     "solution": false,
     "task": false
    }
   },
   "source": [
    "(a) Write a function called \"swap\" that takes as its input the array $X$ and two integers n and m ($ 1 \\le n,m \\le 12, n \\neq m$) and returns the matrix X in which rows n and m have been swapped. "
   ]
  },
  {
   "cell_type": "code",
   "execution_count": 11,
   "metadata": {
    "deletable": false,
    "nbgrader": {
     "cell_type": "code",
     "checksum": "4c451ed3e7aeaeaf36eb73d8ed002d5c",
     "grade": true,
     "grade_id": "cell-93c2f40bf4c9acbc",
     "locked": false,
     "points": 2,
     "schema_version": 3,
     "solution": true,
     "task": false
    }
   },
   "outputs": [
    {
     "data": {
      "text/plain": [
       "True"
      ]
     },
     "execution_count": 11,
     "metadata": {},
     "output_type": "execute_result"
    }
   ],
   "source": [
    "def swap(X,n,m):\n",
    "    \"\"\"swaps rows n and m of array X\"\"\"\n",
    "    # YOUR CODE HERE\n",
    "    if 1<=n<=12 and 1<=m<=12 and n!=m: #conditon check \n",
    "        n=n-1 #decrement the integers by 1 to accomodate for python indexing\n",
    "        m=m-1\n",
    "\n",
    "        Y = X.copy() #create an independent copy of X\n",
    "        row_n = Y[n,:] #obtain row n\n",
    "        row_m = Y[m,:] #obtain row m\n",
    "\n",
    "        X[m,:] = row_n #swap with real array X\n",
    "        X[n,:] = row_m\n",
    "\n",
    "        return X\n",
    "    else:\n",
    "        return False\n",
    "    \n",
    "    \n",
    "# check your work\n",
    "np.array_equal(swap(X,1,2), np.array([[9, 0, 8, 6, 4, 3, 0, 4],\n",
    "       [9, 4, 0, 1, 9, 0, 1, 8],\n",
    "       [6, 8, 1, 8, 4, 1, 3, 6],\n",
    "       [5, 3, 9, 6, 9, 1, 9, 4],\n",
    "       [2, 6, 7, 8, 8, 9, 2, 0],\n",
    "       [6, 7, 8, 1, 7, 1, 4, 0],\n",
    "       [8, 5, 4, 7, 8, 8, 2, 6],\n",
    "       [2, 8, 8, 6, 6, 5, 6, 0],\n",
    "       [0, 6, 9, 1, 8, 9, 1, 2],\n",
    "       [8, 9, 9, 5, 0, 2, 7, 3],\n",
    "       [0, 4, 2, 0, 3, 3, 1, 2],\n",
    "       [5, 9, 0, 1, 0, 1, 9, 0]]))  "
   ]
  },
  {
   "cell_type": "markdown",
   "metadata": {
    "deletable": false,
    "editable": false,
    "nbgrader": {
     "cell_type": "markdown",
     "checksum": "6eaa43d904c069c6fd5d09a6c7e31a8d",
     "grade": false,
     "grade_id": "cell-c29fe23b05545cf5",
     "locked": true,
     "schema_version": 3,
     "solution": false,
     "task": false
    }
   },
   "source": [
    "(b) Write a function called \"sort_by_column\" that takes as its input the array X and an integer k ($1\\le k \\le 8$) and sorts the rows of X by the values of column k. Numbers that were in the same row before, should still be in the same row. Don't worry about ties - if there are ties, I don't care how you order them. "
   ]
  },
  {
   "cell_type": "code",
   "execution_count": 12,
   "metadata": {
    "deletable": false,
    "nbgrader": {
     "cell_type": "code",
     "checksum": "bf5e3fc18398f0ce21b9091c22ae5203",
     "grade": true,
     "grade_id": "cell-1145135ea21a0d9f",
     "locked": false,
     "points": 2,
     "schema_version": 3,
     "solution": true,
     "task": false
    }
   },
   "outputs": [],
   "source": [
    "def sort_by_column(X,k):\n",
    "    \"\"\" sort rows of X by values in column k\"\"\"\n",
    "    # YOUR CODE HERE\n",
    "    raise NotImplementedError()"
   ]
  }
 ],
 "metadata": {
  "kernelspec": {
   "display_name": "Python 3",
   "language": "python",
   "name": "python3"
  },
  "language_info": {
   "codemirror_mode": {
    "name": "ipython",
    "version": 3
   },
   "file_extension": ".py",
   "mimetype": "text/x-python",
   "name": "python",
   "nbconvert_exporter": "python",
   "pygments_lexer": "ipython3",
   "version": "3.8.5"
  }
 },
 "nbformat": 4,
 "nbformat_minor": 2
}
