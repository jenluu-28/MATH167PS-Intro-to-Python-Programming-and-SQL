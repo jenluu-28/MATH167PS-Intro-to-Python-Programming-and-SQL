{
 "cells": [
  {
   "cell_type": "markdown",
   "metadata": {
    "nbgrader": {
     "grade": false,
     "grade_id": "cell-d52a593a8c020deb",
     "locked": true,
     "schema_version": 3,
     "solution": false,
     "task": false
    }
   },
   "source": [
    "# Solution for Homework 4\n",
    "\n",
    "In all problems below, please comment your code sufficiently well so that the grader can follow what you are doing with ease. For non-coding answers, please make sure to formulate your explanation and answers in the form of complete English sentences. It is not sufficient to just leave comments in the code (without a full sentence explanations in problems that ask for those) or vice versa (to leave full sentence explanations but not code comments). You will need both to get full credit. "
   ]
  },
  {
   "cell_type": "markdown",
   "metadata": {
    "nbgrader": {
     "grade": false,
     "grade_id": "cell-08e2c1b9a5e96a6c",
     "locked": true,
     "schema_version": 3,
     "solution": false,
     "task": false
    }
   },
   "source": [
    "## Problem 1\n",
    "\n",
    "Write a function named \"border\" that takes as its input two integers n and m ($1 \\le n,m \\le 100$) and outputs a NumPy array of size $(n,m)$. Your array should be filled with zeros except for the \"border\" (that is, the first and last column and the first and last row) which should be filled with ones. "
   ]
  },
  {
   "cell_type": "code",
   "execution_count": 2,
   "metadata": {
    "nbgrader": {
     "grade": true,
     "grade_id": "cell-d88b7ac9277ed9ae",
     "locked": false,
     "points": 2,
     "schema_version": 3,
     "solution": true,
     "task": false
    }
   },
   "outputs": [
    {
     "data": {
      "text/plain": [
       "True"
      ]
     },
     "execution_count": 2,
     "metadata": {},
     "output_type": "execute_result"
    }
   ],
   "source": [
    "import numpy as np\n",
    "\n",
    "def border(n, m):\n",
    "    \"\"\"Creates an array with shape (n, m) that is all zeros\n",
    "    except for the border (i.e., the first and last rows and\n",
    "    columns), which should be filled with ones.\"\"\"\n",
    "    \n",
    "    grid = np.ones((n,m))\n",
    "    grid[1:n-1,1:m-1]=0\n",
    "    return grid\n",
    "\n",
    "# check that your function works as expected (if it does this check should return \"True\")\n",
    "# np.array_equal(border(3,3), np.array([[1, 1, 1], [1, 0, 1], [1, 1, 1]]))"
   ]
  },
  {
   "cell_type": "code",
   "execution_count": null,
   "metadata": {},
   "outputs": [],
   "source": [
    "grid = np.ones("
   ]
  },
  {
   "cell_type": "markdown",
   "metadata": {
    "nbgrader": {
     "grade": false,
     "grade_id": "cell-ef495698be86d216",
     "locked": true,
     "schema_version": 3,
     "solution": false,
     "task": false
    }
   },
   "source": [
    "## Problem 2\n",
    "\n",
    "(a) Suppose that x and y are both NumPy arrays of size $(1,n)$. \n",
    "Write a function that computes Pearson's sample correlation coefficient $r$ \n",
    "between the entries in x and y. \n",
    "\n",
    "Recall, that Pearson's sample correlation coefficient is defined as \n",
    "$$r(x,y) = \\frac{\\sum_{i=1}^n (x_i - \\bar{x})(y_i - \\bar{y})}{\\sqrt{\\sum\\limits_{i=1}^n (x_i - \\bar{x})^2 \\sum\\limits_{i=1}^n(y_i - \\bar{y})^2}} $$"
   ]
  },
  {
   "cell_type": "code",
   "execution_count": 3,
   "metadata": {
    "nbgrader": {
     "grade": true,
     "grade_id": "cell-9754a5d15b00302f",
     "locked": false,
     "points": 2,
     "schema_version": 3,
     "solution": true,
     "task": false
    }
   },
   "outputs": [
    {
     "data": {
      "text/plain": [
       "True"
      ]
     },
     "execution_count": 3,
     "metadata": {},
     "output_type": "execute_result"
    }
   ],
   "source": [
    "def pearsons_correlation(x, y):\n",
    "    \"\"\"Computes Pearson's correlation coefficient between vectors x and y.\"\"\"\n",
    "    \n",
    "    return np.sum((x-x.mean())*(y-y.mean()))/np.sqrt(np.sum((x-x.mean())**2)*np.sum((y-y.mean())**2))\n",
    "    \n",
    "# check that your function works\n",
    "# if it does, the comparison below should return \"True\"\n",
    "\n",
    "import numpy as np\n",
    "\n",
    "np.random.seed(10)\n",
    "n = 10\n",
    "x = np.random.random((1,10))\n",
    "y = np.random.random((1,10))    \n",
    "\n",
    "round(pearsons_correlation(x,y),6) == round(np.corrcoef(x,y)[0,1],6)\n",
    "# we're rounding, because the built-in NumPy method for correlation \n",
    "# may use more efficient arithmetic than we do in our home-made function. "
   ]
  },
  {
   "cell_type": "markdown",
   "metadata": {
    "nbgrader": {
     "grade": false,
     "grade_id": "cell-e442fd55faf8a5da",
     "locked": true,
     "schema_version": 3,
     "solution": false,
     "task": false
    }
   },
   "source": [
    "(b) Create a NumPy array filled with uniform(0,1) random values with n rows and m columns (for the combinations of n and m listed below). In each case, find the maximum of the Pearson correlation coefficients for each of the $\\binom{m}{2}$ pairs of columns in your array. \n",
    "\n",
    "That is, if the columns of your array are $x_1, \\ldots, x_m$, find \n",
    "$$\\max(r) = \\max\\limits_{a,b \\in \\{1,\\ldots,m\\}, a \\neq b} r(x_a, x_b)$$\n",
    "\n",
    "Enter the values you find into the table below (rounded to two after decimal digits)."
   ]
  },
  {
   "cell_type": "code",
   "execution_count": 6,
   "metadata": {
    "nbgrader": {
     "grade": true,
     "grade_id": "cell-20394b7ebd8256da",
     "locked": false,
     "points": 2,
     "schema_version": 3,
     "solution": true,
     "task": false
    }
   },
   "outputs": [
    {
     "data": {
      "text/plain": [
       "0.34"
      ]
     },
     "execution_count": 6,
     "metadata": {},
     "output_type": "execute_result"
    }
   ],
   "source": [
    "import numpy as np\n",
    "np.random.seed(10)\n",
    "\n",
    "def max_corr(n,m):\n",
    "    array = np.random.random((n,m)) \n",
    "    \"\"\"find maximum correlation between columns of (n,m) random uniform (0,1) array\"\"\"\n",
    "    correlations = np.zeros((m,m)) # make matrix to store correlations between columns\n",
    "    for a in range(m):             # loop over columns\n",
    "        for b in range(m):\n",
    "            correlations[a,b] = np.corrcoef(array[:,a], array[:,b])[0,1] # find Pearson's correlation between columns\n",
    "                # Alternatively, you can also use your own code from part (a)\n",
    "    return round(max(correlations[np.eye(m)==0]),2) # disregard correlations of columns with themselves \n",
    "                # that is, ignore the \"1\" entries in the diagonal and find the max of the rest. \n",
    "\n",
    "max_corr(100,50)"
   ]
  },
  {
   "cell_type": "markdown",
   "metadata": {
    "nbgrader": {
     "grade": false,
     "grade_id": "cell-535f48f1a452140b",
     "locked": true,
     "schema_version": 3,
     "solution": false,
     "task": false
    }
   },
   "source": [
    "|  rows n | columns m  | max(r)  |\n",
    "|:-:|:-:|:-:|\n",
    "| 10  | 20  | |\n",
    "| 10  | 50  |  |\n",
    "| 10  | 100  |  |\n",
    "| 100  | 20  |  |\n",
    "| 100  | 50  |  |\n",
    "| 100  | 100  |  |\n",
    "\n",
    "Copy and paste this table to the Markdown cell below and complete it. "
   ]
  },
  {
   "cell_type": "markdown",
   "metadata": {
    "nbgrader": {
     "grade": true,
     "grade_id": "cell-194e6a4ffc1e1d7f",
     "locked": false,
     "points": 1,
     "schema_version": 3,
     "solution": true,
     "task": false
    }
   },
   "source": [
    "|  rows n | columns m  | max(r)  |\n",
    "|:-:|:-:|:-:|\n",
    "| 10  | 20  | 0.73 |\n",
    "| 10  | 50  | 0.82 |\n",
    "| 10  | 100  | 0.96 |\n",
    "| 100  | 20  | 0.26 |\n",
    "| 100  | 50  | 0.34 |\n",
    "| 100  | 100  | 0.41 |\n",
    "\n",
    "Copy and paste this table to the Markdown cell below and complete it. \n",
    "\n",
    "**Remark:** Considering observations on many variables (large m) on few observations (small n) leads to high \"spurious\" correlations. "
   ]
  },
  {
   "cell_type": "markdown",
   "metadata": {
    "nbgrader": {
     "grade": false,
     "grade_id": "cell-4f4a6888d3287d05",
     "locked": true,
     "schema_version": 3,
     "solution": false,
     "task": false
    }
   },
   "source": [
    "## Problem 3\n",
    "\n",
    "Suppose that $X$ is a matrix with n rows and m columns. In statistics, these matrices arise freqently when we collect (numerical) data on m variables which are each observed on n independent individuals. Suppose we denote the columns of $X = (x_1, \\ldots, x_m)$. Then the covariance matrix of $X$ is defined as \n",
    "\n",
    "$$ \\mbox{Cov}(X) = \\left( \\begin{array}{cccc}\n",
    "Var(x_1) & Cov(x_1, x_2) & \\cdots & Cov(x_1, x_m) \\\\\n",
    "Cov(x_2, x_1) & Var(x_2) & \\cdots & Cov(x_2, x_m) \\\\\n",
    "\\vdots & \\vdots & \\ddots & \\vdots \\\\\n",
    "Cov(x_m, x_1) & Cov(x_m, x_2) & \\cdots & Var(x_m) \n",
    "\\end{array} \\right) $$\n",
    "\n",
    "where Var($x_i$) is the sample variance of the entries in the $i^{th}$ column of $X$ and Cov($x_i, x_j$) ($i \\neq j$) is the sample covariance of the entries in columns $i$ and $j$. \n",
    "\n",
    "$$ Cov(x_i, x_j) = \\frac{1}{n-1}\\sum\\limits_{k=1}^n (x_{ki} - \\bar{x}_i)(x_{kj}-\\bar{x_j})$$\n",
    "\n",
    "That is, the covariance matrix is a square $m\\times m$ matrix whose diagonal entries are the sample variances of the columns of $X$ and whose off-diagonal entries are covariances between two columns of $X$, respectively. \n",
    "\n",
    "Write *your own* function that takes a Numpy array of shape (n,m) as its input and returns the  Covariance matrix of the array. Do not use any built-in functions to compute variance and/or covariance. Write your own functions, instead. It's ok to use NumPy routines for sums, squares, or square-roots. \n",
    "\n",
    "Check your work by comparing your result to that of the ```np.cov()``` function applied to the same input."
   ]
  },
  {
   "cell_type": "code",
   "execution_count": 8,
   "metadata": {
    "nbgrader": {
     "grade": true,
     "grade_id": "cell-4be095f622a53663",
     "locked": false,
     "points": 3,
     "schema_version": 3,
     "solution": true,
     "task": false
    }
   },
   "outputs": [
    {
     "data": {
      "text/plain": [
       "True"
      ]
     },
     "execution_count": 8,
     "metadata": {},
     "output_type": "execute_result"
    }
   ],
   "source": [
    "def covariance_matrix(X):\n",
    "    \"\"\" Finds the covariance matrix of (n,m) shaped array X\"\"\"\n",
    "    \n",
    "    n = np.shape(X)[0]\n",
    "    m = np.shape(X)[1]\n",
    "    cov_matrix = np.zeros((m,m)) # make \"empty\" of floats to later store covariances in \n",
    "    for i in range(m):            # iterating over COLUMNS of X\n",
    "        for j in range(m):\n",
    "            cov_matrix[i,j] = (1/(n-1))*np.sum((X[:,i]-X[:,i].mean())*(X[:,j]-X[:,j].mean())) \n",
    "                # assemble covariance matrix\n",
    "    return cov_matrix\n",
    "    \n",
    "## check your work\n",
    "X = np.random.random((5,3))  # or make up some other matrix for X \n",
    "np.array_equal(np.round(np.cov(X.T),4), np.round(covariance_matrix(X),4)) \n",
    "# again, we're rounding because your \"hand\" computation will differ slightly from NumPy's internal computations"
   ]
  },
  {
   "cell_type": "markdown",
   "metadata": {
    "nbgrader": {
     "grade": false,
     "grade_id": "cell-e67ddc33ea17b2b2",
     "locked": true,
     "schema_version": 3,
     "solution": false,
     "task": false
    }
   },
   "source": [
    "## Problem 4\n",
    "\n",
    "The code given below (don't change the seed, please) generates n=10,000 IID random samples from Student's t-distribution with degree of freedom $\\nu = 5$. Let $X \\sim t(\\nu=5)$ be a random variable with a $t_5$ distribution. For each of the following quantities, find their values using the methods your have learned in Math 161A. State your answer together with a short description of how you find it. Also find the best estimate of each quantity you can produce based on the 10,000 generated random numbers."
   ]
  },
  {
   "cell_type": "code",
   "execution_count": 10,
   "metadata": {
    "nbgrader": {
     "grade": false,
     "grade_id": "cell-c81db99b9f1b3232",
     "locked": true,
     "schema_version": 3,
     "solution": false,
     "task": false
    }
   },
   "outputs": [],
   "source": [
    "from scipy import stats\n",
    "import numpy as np\n",
    "\n",
    "np.random.seed(10)\n",
    "Data = np.array(stats.t.rvs(df=5,size=10000))"
   ]
  },
  {
   "cell_type": "markdown",
   "metadata": {
    "nbgrader": {
     "grade": false,
     "grade_id": "cell-65151cb57cd799bb",
     "locked": true,
     "schema_version": 3,
     "solution": false,
     "task": false
    }
   },
   "source": [
    "(a) $P(-1 \\le X < 2)$"
   ]
  },
  {
   "cell_type": "code",
   "execution_count": 11,
   "metadata": {
    "nbgrader": {
     "grade": true,
     "grade_id": "cell-d6643eff340ddd97",
     "locked": false,
     "points": 2,
     "schema_version": 3,
     "solution": true,
     "task": false
    }
   },
   "outputs": [
    {
     "data": {
      "text/plain": [
       "0.7648"
      ]
     },
     "execution_count": 11,
     "metadata": {},
     "output_type": "execute_result"
    }
   ],
   "source": [
    "np.sum((Data>=-1)&(Data<2))/len(Data)     # find relative frequency of data in [-1,2)"
   ]
  },
  {
   "cell_type": "markdown",
   "metadata": {
    "nbgrader": {
     "grade": true,
     "grade_id": "cell-6272dd2b27a72a88",
     "locked": false,
     "points": 0,
     "schema_version": 3,
     "solution": true,
     "task": false
    }
   },
   "source": [
    "The estimate of $P(-1 \\le X \\le 2)$ is 0.7648"
   ]
  },
  {
   "cell_type": "markdown",
   "metadata": {
    "nbgrader": {
     "grade": false,
     "grade_id": "cell-35eaff812d6c1eb4",
     "locked": true,
     "schema_version": 3,
     "solution": false,
     "task": false
    }
   },
   "source": [
    "(b) The $77^{th}$ percentile of $X$."
   ]
  },
  {
   "cell_type": "code",
   "execution_count": 12,
   "metadata": {
    "nbgrader": {
     "grade": true,
     "grade_id": "cell-0437f43f4bcf6b6b",
     "locked": false,
     "points": 2,
     "schema_version": 3,
     "solution": true,
     "task": false
    }
   },
   "outputs": [
    {
     "data": {
      "text/plain": [
       "0.796361368761396"
      ]
     },
     "execution_count": 12,
     "metadata": {},
     "output_type": "execute_result"
    }
   ],
   "source": [
    "sorted(Data)[7700] # find quantile"
   ]
  },
  {
   "cell_type": "markdown",
   "metadata": {
    "nbgrader": {
     "grade": true,
     "grade_id": "cell-1e1f309c4198b7f1",
     "locked": false,
     "points": 0,
     "schema_version": 3,
     "solution": true,
     "task": false
    }
   },
   "source": [
    "The estimate of the 77th percentile of X is 0.7964."
   ]
  },
  {
   "cell_type": "markdown",
   "metadata": {
    "nbgrader": {
     "grade": false,
     "grade_id": "cell-e01b5e902d4d0d70",
     "locked": true,
     "schema_version": 3,
     "solution": false,
     "task": false
    }
   },
   "source": [
    "(c) Var($X$) (that is the sample variance of $X$)"
   ]
  },
  {
   "cell_type": "code",
   "execution_count": 13,
   "metadata": {
    "nbgrader": {
     "grade": true,
     "grade_id": "cell-d7e3d031114e94c3",
     "locked": false,
     "points": 2,
     "schema_version": 3,
     "solution": true,
     "task": false
    }
   },
   "outputs": [
    {
     "name": "stdout",
     "output_type": "stream",
     "text": [
      "1.6497983797104132\n",
      "1.649798379710413\n"
     ]
    }
   ],
   "source": [
    "print((1/(len(Data)))*np.sum((Data-Data.mean())**2)) # finding sample variance\n",
    "# alternatively\n",
    "print(np.var(Data))"
   ]
  },
  {
   "cell_type": "markdown",
   "metadata": {
    "nbgrader": {
     "grade": true,
     "grade_id": "cell-c41b4d4b92fff5d4",
     "locked": false,
     "points": 0,
     "schema_version": 3,
     "solution": true,
     "task": false
    }
   },
   "source": [
    "The estimate of $Var(X)$ is 1.6498."
   ]
  },
  {
   "cell_type": "markdown",
   "metadata": {
    "nbgrader": {
     "grade": false,
     "grade_id": "cell-d9b5d806720e1dd1",
     "locked": true,
     "schema_version": 3,
     "solution": false,
     "task": false
    }
   },
   "source": [
    "## Problem 5\n",
    "\n",
    "The code below generates a NumPy array X of shape (12,8) filled with integers. Please don't change the seed."
   ]
  },
  {
   "cell_type": "code",
   "execution_count": null,
   "metadata": {
    "nbgrader": {
     "grade": false,
     "grade_id": "cell-15df1d305d4a6c46",
     "locked": true,
     "schema_version": 3,
     "solution": false,
     "task": false
    }
   },
   "outputs": [],
   "source": [
    "import numpy as np\n",
    "\n",
    "np.random.seed(10)\n",
    "X = np.random.randint(10,size = (12,8)) \n",
    "X"
   ]
  },
  {
   "cell_type": "markdown",
   "metadata": {
    "nbgrader": {
     "grade": false,
     "grade_id": "cell-0e3f935dbeb324b8",
     "locked": true,
     "schema_version": 3,
     "solution": false,
     "task": false
    }
   },
   "source": [
    "(a) Write a function called \"swap\" that takes as its input the array $X$ and two integers n and m ($ 1 \\le n,m \\le 12, n \\neq m$) and returns the matrix X in which rows n and m have been swapped. "
   ]
  },
  {
   "cell_type": "code",
   "execution_count": 15,
   "metadata": {
    "nbgrader": {
     "grade": true,
     "grade_id": "cell-93c2f40bf4c9acbc",
     "locked": false,
     "points": 2,
     "schema_version": 3,
     "solution": true,
     "task": false
    }
   },
   "outputs": [
    {
     "data": {
      "text/plain": [
       "False"
      ]
     },
     "execution_count": 15,
     "metadata": {},
     "output_type": "execute_result"
    }
   ],
   "source": [
    "def swap(X,n,m):\n",
    "    \"\"\"swaps rows n and m of array X\"\"\"\n",
    "\n",
    "    fancy_idx = list(range(np.shape(X)[0]))\n",
    "    fancy_idx[n-1] = m-1\n",
    "    fancy_idx[m-1] = n-1\n",
    "    return X[fancy_idx]\n",
    "    \n",
    "# check your work\n",
    "np.array_equal(swap(X,1,2), np.array([[9, 0, 8, 6, 4, 3, 0, 4],\n",
    "       [9, 4, 0, 1, 9, 0, 1, 8],\n",
    "       [6, 8, 1, 8, 4, 1, 3, 6],\n",
    "       [5, 3, 9, 6, 9, 1, 9, 4],\n",
    "       [2, 6, 7, 8, 8, 9, 2, 0],\n",
    "       [6, 7, 8, 1, 7, 1, 4, 0],\n",
    "       [8, 5, 4, 7, 8, 8, 2, 6],\n",
    "       [2, 8, 8, 6, 6, 5, 6, 0],\n",
    "       [0, 6, 9, 1, 8, 9, 1, 2],\n",
    "       [8, 9, 9, 5, 0, 2, 7, 3],\n",
    "       [0, 4, 2, 0, 3, 3, 1, 2],\n",
    "       [5, 9, 0, 1, 0, 1, 9, 0]]))  "
   ]
  },
  {
   "cell_type": "markdown",
   "metadata": {
    "nbgrader": {
     "grade": false,
     "grade_id": "cell-c29fe23b05545cf5",
     "locked": true,
     "schema_version": 3,
     "solution": false,
     "task": false
    }
   },
   "source": [
    "(b) Write a function called \"sort_by_column\" that takes as its input the array X and an integer k ($1\\le k \\le 8$) and sorts the rows of X by the values of column k. Numbers that were in the same row before, should still be in the same row. Don't worry about ties - if there are ties, I don't care how you order them. "
   ]
  },
  {
   "cell_type": "code",
   "execution_count": 14,
   "metadata": {
    "nbgrader": {
     "grade": true,
     "grade_id": "cell-1145135ea21a0d9f",
     "locked": false,
     "points": 2,
     "schema_version": 3,
     "solution": true,
     "task": false
    }
   },
   "outputs": [],
   "source": [
    "def sort_by_column(X,k):\n",
    "    \"\"\" sort rows of X by values in column k\"\"\"\n",
    "    \n",
    "    idx = X[:,k-1].argsort() # create index based on k-th column\n",
    "    return X[idx,:]"
   ]
  }
 ],
 "metadata": {
  "celltoolbar": "Create Assignment",
  "kernelspec": {
   "display_name": "Python 3",
   "language": "python",
   "name": "python3"
  },
  "language_info": {
   "codemirror_mode": {
    "name": "ipython",
    "version": 3
   },
   "file_extension": ".py",
   "mimetype": "text/x-python",
   "name": "python",
   "nbconvert_exporter": "python",
   "pygments_lexer": "ipython3",
   "version": "3.8.5"
  }
 },
 "nbformat": 4,
 "nbformat_minor": 2
}
